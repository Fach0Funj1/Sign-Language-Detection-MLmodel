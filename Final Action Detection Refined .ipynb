{
 "cells": [
  {
   "cell_type": "markdown",
   "metadata": {},
   "source": [
    "# 1. Import and Install Dependencies"
   ]
  },
  {
   "cell_type": "code",
   "execution_count": 1,
   "metadata": {
    "metadata": {}
   },
   "outputs": [
    {
     "name": "stdout",
     "output_type": "stream",
     "text": [
      "Requirement already satisfied: tensorflow in c:\\users\\qasim\\anaconda3\\envs\\islsign\\lib\\site-packages (2.16.1)\n",
      "Requirement already satisfied: opencv-python in c:\\users\\qasim\\anaconda3\\envs\\islsign\\lib\\site-packages (4.9.0.80)\n",
      "Requirement already satisfied: mediapipe in c:\\users\\qasim\\anaconda3\\envs\\islsign\\lib\\site-packages (0.10.13)\n",
      "Requirement already satisfied: scikit-learn in c:\\users\\qasim\\anaconda3\\envs\\islsign\\lib\\site-packages (1.4.2)\n",
      "Requirement already satisfied: matplotlib in c:\\users\\qasim\\anaconda3\\envs\\islsign\\lib\\site-packages (3.8.4)\n",
      "Requirement already satisfied: tensorflow-intel==2.16.1 in c:\\users\\qasim\\anaconda3\\envs\\islsign\\lib\\site-packages (from tensorflow) (2.16.1)\n",
      "Requirement already satisfied: absl-py>=1.0.0 in c:\\users\\qasim\\anaconda3\\envs\\islsign\\lib\\site-packages (from tensorflow-intel==2.16.1->tensorflow) (2.1.0)\n",
      "Requirement already satisfied: astunparse>=1.6.0 in c:\\users\\qasim\\anaconda3\\envs\\islsign\\lib\\site-packages (from tensorflow-intel==2.16.1->tensorflow) (1.6.3)\n",
      "Requirement already satisfied: flatbuffers>=23.5.26 in c:\\users\\qasim\\anaconda3\\envs\\islsign\\lib\\site-packages (from tensorflow-intel==2.16.1->tensorflow) (24.3.25)\n",
      "Requirement already satisfied: gast!=0.5.0,!=0.5.1,!=0.5.2,>=0.2.1 in c:\\users\\qasim\\anaconda3\\envs\\islsign\\lib\\site-packages (from tensorflow-intel==2.16.1->tensorflow) (0.5.4)\n",
      "Requirement already satisfied: google-pasta>=0.1.1 in c:\\users\\qasim\\anaconda3\\envs\\islsign\\lib\\site-packages (from tensorflow-intel==2.16.1->tensorflow) (0.2.0)\n",
      "Requirement already satisfied: h5py>=3.10.0 in c:\\users\\qasim\\anaconda3\\envs\\islsign\\lib\\site-packages (from tensorflow-intel==2.16.1->tensorflow) (3.11.0)\n",
      "Requirement already satisfied: libclang>=13.0.0 in c:\\users\\qasim\\anaconda3\\envs\\islsign\\lib\\site-packages (from tensorflow-intel==2.16.1->tensorflow) (18.1.1)\n",
      "Requirement already satisfied: ml-dtypes~=0.3.1 in c:\\users\\qasim\\anaconda3\\envs\\islsign\\lib\\site-packages (from tensorflow-intel==2.16.1->tensorflow) (0.3.2)\n",
      "Requirement already satisfied: opt-einsum>=2.3.2 in c:\\users\\qasim\\anaconda3\\envs\\islsign\\lib\\site-packages (from tensorflow-intel==2.16.1->tensorflow) (3.3.0)\n",
      "Requirement already satisfied: packaging in c:\\users\\qasim\\anaconda3\\envs\\islsign\\lib\\site-packages (from tensorflow-intel==2.16.1->tensorflow) (24.0)\n",
      "Requirement already satisfied: protobuf!=4.21.0,!=4.21.1,!=4.21.2,!=4.21.3,!=4.21.4,!=4.21.5,<5.0.0dev,>=3.20.3 in c:\\users\\qasim\\anaconda3\\envs\\islsign\\lib\\site-packages (from tensorflow-intel==2.16.1->tensorflow) (4.25.3)\n",
      "Requirement already satisfied: requests<3,>=2.21.0 in c:\\users\\qasim\\anaconda3\\envs\\islsign\\lib\\site-packages (from tensorflow-intel==2.16.1->tensorflow) (2.31.0)\n",
      "Requirement already satisfied: setuptools in c:\\users\\qasim\\anaconda3\\envs\\islsign\\lib\\site-packages (from tensorflow-intel==2.16.1->tensorflow) (68.2.2)\n",
      "Requirement already satisfied: six>=1.12.0 in c:\\users\\qasim\\anaconda3\\envs\\islsign\\lib\\site-packages (from tensorflow-intel==2.16.1->tensorflow) (1.16.0)\n",
      "Requirement already satisfied: termcolor>=1.1.0 in c:\\users\\qasim\\anaconda3\\envs\\islsign\\lib\\site-packages (from tensorflow-intel==2.16.1->tensorflow) (2.4.0)\n",
      "Requirement already satisfied: typing-extensions>=3.6.6 in c:\\users\\qasim\\anaconda3\\envs\\islsign\\lib\\site-packages (from tensorflow-intel==2.16.1->tensorflow) (4.11.0)\n",
      "Requirement already satisfied: wrapt>=1.11.0 in c:\\users\\qasim\\anaconda3\\envs\\islsign\\lib\\site-packages (from tensorflow-intel==2.16.1->tensorflow) (1.16.0)\n",
      "Requirement already satisfied: grpcio<2.0,>=1.24.3 in c:\\users\\qasim\\anaconda3\\envs\\islsign\\lib\\site-packages (from tensorflow-intel==2.16.1->tensorflow) (1.63.0)\n",
      "Requirement already satisfied: tensorboard<2.17,>=2.16 in c:\\users\\qasim\\anaconda3\\envs\\islsign\\lib\\site-packages (from tensorflow-intel==2.16.1->tensorflow) (2.16.2)\n",
      "Requirement already satisfied: keras>=3.0.0 in c:\\users\\qasim\\anaconda3\\envs\\islsign\\lib\\site-packages (from tensorflow-intel==2.16.1->tensorflow) (3.3.3)\n",
      "Requirement already satisfied: tensorflow-io-gcs-filesystem>=0.23.1 in c:\\users\\qasim\\anaconda3\\envs\\islsign\\lib\\site-packages (from tensorflow-intel==2.16.1->tensorflow) (0.31.0)\n",
      "Requirement already satisfied: numpy<2.0.0,>=1.23.5 in c:\\users\\qasim\\anaconda3\\envs\\islsign\\lib\\site-packages (from tensorflow-intel==2.16.1->tensorflow) (1.26.4)\n",
      "Requirement already satisfied: attrs>=19.1.0 in c:\\users\\qasim\\anaconda3\\envs\\islsign\\lib\\site-packages (from mediapipe) (23.2.0)\n",
      "Requirement already satisfied: jax in c:\\users\\qasim\\anaconda3\\envs\\islsign\\lib\\site-packages (from mediapipe) (0.4.28)\n",
      "Requirement already satisfied: jaxlib in c:\\users\\qasim\\anaconda3\\envs\\islsign\\lib\\site-packages (from mediapipe) (0.4.28)\n",
      "Requirement already satisfied: opencv-contrib-python in c:\\users\\qasim\\anaconda3\\envs\\islsign\\lib\\site-packages (from mediapipe) (4.9.0.80)\n",
      "Requirement already satisfied: sounddevice>=0.4.4 in c:\\users\\qasim\\anaconda3\\envs\\islsign\\lib\\site-packages (from mediapipe) (0.4.6)\n",
      "Requirement already satisfied: scipy>=1.6.0 in c:\\users\\qasim\\anaconda3\\envs\\islsign\\lib\\site-packages (from scikit-learn) (1.13.0)\n",
      "Requirement already satisfied: joblib>=1.2.0 in c:\\users\\qasim\\anaconda3\\envs\\islsign\\lib\\site-packages (from scikit-learn) (1.4.2)\n",
      "Requirement already satisfied: threadpoolctl>=2.0.0 in c:\\users\\qasim\\anaconda3\\envs\\islsign\\lib\\site-packages (from scikit-learn) (3.5.0)\n",
      "Requirement already satisfied: contourpy>=1.0.1 in c:\\users\\qasim\\anaconda3\\envs\\islsign\\lib\\site-packages (from matplotlib) (1.2.1)\n",
      "Requirement already satisfied: cycler>=0.10 in c:\\users\\qasim\\anaconda3\\envs\\islsign\\lib\\site-packages (from matplotlib) (0.12.1)\n",
      "Requirement already satisfied: fonttools>=4.22.0 in c:\\users\\qasim\\anaconda3\\envs\\islsign\\lib\\site-packages (from matplotlib) (4.51.0)\n",
      "Requirement already satisfied: kiwisolver>=1.3.1 in c:\\users\\qasim\\anaconda3\\envs\\islsign\\lib\\site-packages (from matplotlib) (1.4.5)\n",
      "Requirement already satisfied: pillow>=8 in c:\\users\\qasim\\anaconda3\\envs\\islsign\\lib\\site-packages (from matplotlib) (10.3.0)\n",
      "Requirement already satisfied: pyparsing>=2.3.1 in c:\\users\\qasim\\anaconda3\\envs\\islsign\\lib\\site-packages (from matplotlib) (3.1.2)\n",
      "Requirement already satisfied: python-dateutil>=2.7 in c:\\users\\qasim\\anaconda3\\envs\\islsign\\lib\\site-packages (from matplotlib) (2.9.0)\n",
      "Requirement already satisfied: CFFI>=1.0 in c:\\users\\qasim\\anaconda3\\envs\\islsign\\lib\\site-packages (from sounddevice>=0.4.4->mediapipe) (1.16.0)\n",
      "Requirement already satisfied: wheel<1.0,>=0.23.0 in c:\\users\\qasim\\anaconda3\\envs\\islsign\\lib\\site-packages (from astunparse>=1.6.0->tensorflow-intel==2.16.1->tensorflow) (0.43.0)\n",
      "Requirement already satisfied: pycparser in c:\\users\\qasim\\anaconda3\\envs\\islsign\\lib\\site-packages (from CFFI>=1.0->sounddevice>=0.4.4->mediapipe) (2.22)\n",
      "Requirement already satisfied: rich in c:\\users\\qasim\\anaconda3\\envs\\islsign\\lib\\site-packages (from keras>=3.0.0->tensorflow-intel==2.16.1->tensorflow) (13.7.1)\n",
      "Requirement already satisfied: namex in c:\\users\\qasim\\anaconda3\\envs\\islsign\\lib\\site-packages (from keras>=3.0.0->tensorflow-intel==2.16.1->tensorflow) (0.0.8)\n",
      "Requirement already satisfied: optree in c:\\users\\qasim\\anaconda3\\envs\\islsign\\lib\\site-packages (from keras>=3.0.0->tensorflow-intel==2.16.1->tensorflow) (0.11.0)\n",
      "Requirement already satisfied: charset-normalizer<4,>=2 in c:\\users\\qasim\\anaconda3\\envs\\islsign\\lib\\site-packages (from requests<3,>=2.21.0->tensorflow-intel==2.16.1->tensorflow) (3.3.2)\n",
      "Requirement already satisfied: idna<4,>=2.5 in c:\\users\\qasim\\anaconda3\\envs\\islsign\\lib\\site-packages (from requests<3,>=2.21.0->tensorflow-intel==2.16.1->tensorflow) (3.7)\n",
      "Requirement already satisfied: urllib3<3,>=1.21.1 in c:\\users\\qasim\\anaconda3\\envs\\islsign\\lib\\site-packages (from requests<3,>=2.21.0->tensorflow-intel==2.16.1->tensorflow) (2.2.1)\n",
      "Requirement already satisfied: certifi>=2017.4.17 in c:\\users\\qasim\\anaconda3\\envs\\islsign\\lib\\site-packages (from requests<3,>=2.21.0->tensorflow-intel==2.16.1->tensorflow) (2024.2.2)\n",
      "Requirement already satisfied: markdown>=2.6.8 in c:\\users\\qasim\\anaconda3\\envs\\islsign\\lib\\site-packages (from tensorboard<2.17,>=2.16->tensorflow-intel==2.16.1->tensorflow) (3.6)\n",
      "Requirement already satisfied: tensorboard-data-server<0.8.0,>=0.7.0 in c:\\users\\qasim\\anaconda3\\envs\\islsign\\lib\\site-packages (from tensorboard<2.17,>=2.16->tensorflow-intel==2.16.1->tensorflow) (0.7.2)\n",
      "Requirement already satisfied: werkzeug>=1.0.1 in c:\\users\\qasim\\anaconda3\\envs\\islsign\\lib\\site-packages (from tensorboard<2.17,>=2.16->tensorflow-intel==2.16.1->tensorflow) (3.0.2)\n",
      "Requirement already satisfied: MarkupSafe>=2.1.1 in c:\\users\\qasim\\anaconda3\\envs\\islsign\\lib\\site-packages (from werkzeug>=1.0.1->tensorboard<2.17,>=2.16->tensorflow-intel==2.16.1->tensorflow) (2.1.5)\n",
      "Requirement already satisfied: markdown-it-py>=2.2.0 in c:\\users\\qasim\\anaconda3\\envs\\islsign\\lib\\site-packages (from rich->keras>=3.0.0->tensorflow-intel==2.16.1->tensorflow) (3.0.0)\n",
      "Requirement already satisfied: pygments<3.0.0,>=2.13.0 in c:\\users\\qasim\\anaconda3\\envs\\islsign\\lib\\site-packages (from rich->keras>=3.0.0->tensorflow-intel==2.16.1->tensorflow) (2.17.2)\n",
      "Requirement already satisfied: mdurl~=0.1 in c:\\users\\qasim\\anaconda3\\envs\\islsign\\lib\\site-packages (from markdown-it-py>=2.2.0->rich->keras>=3.0.0->tensorflow-intel==2.16.1->tensorflow) (0.1.2)\n",
      "Note: you may need to restart the kernel to use updated packages.\n"
     ]
    }
   ],
   "source": [
    "%pip install tensorflow opencv-python mediapipe scikit-learn matplotlib"
   ]
  },
  {
   "cell_type": "code",
   "execution_count": 2,
   "metadata": {
    "metadata": {}
   },
   "outputs": [],
   "source": [
    "import cv2\n",
    "import numpy as np\n",
    "import os\n",
    "from matplotlib import pyplot as plt\n",
    "import time\n",
    "import mediapipe as mp"
   ]
  },
  {
   "cell_type": "markdown",
   "metadata": {},
   "source": [
    "# 2. Keypoints using MP Holistic"
   ]
  },
  {
   "cell_type": "code",
   "execution_count": 12,
   "metadata": {
    "metadata": {}
   },
   "outputs": [],
   "source": [
    "mp_holistic = mp.solutions.holistic # Holistic model\n",
    "mp_drawing = mp.solutions.drawing_utils # Drawing utilities"
   ]
  },
  {
   "cell_type": "code",
   "execution_count": 13,
   "metadata": {
    "metadata": {}
   },
   "outputs": [],
   "source": [
    "def mediapipe_detection(image, model):\n",
    "    image = cv2.cvtColor(image, cv2.COLOR_BGR2RGB) # COLOR CONVERSION BGR 2 RGB\n",
    "    image.flags.writeable = False                  # Image is no longer writeable\n",
    "    results = model.process(image)                 # Make prediction\n",
    "    image.flags.writeable = True                   # Image is now writeable \n",
    "    image = cv2.cvtColor(image, cv2.COLOR_RGB2BGR) # COLOR COVERSION RGB 2 BGR\n",
    "    return image, results"
   ]
  },
  {
   "cell_type": "code",
   "execution_count": 14,
   "metadata": {
    "metadata": {}
   },
   "outputs": [],
   "source": [
    "def draw_landmarks(image, results):\n",
    "    mp_drawing.draw_landmarks(image, results.left_hand_landmarks, mp_holistic.HAND_CONNECTIONS) # Draw left hand connections\n",
    "    mp_drawing.draw_landmarks(image, results.right_hand_landmarks, mp_holistic.HAND_CONNECTIONS) # Draw right hand connections"
   ]
  },
  {
   "cell_type": "code",
   "execution_count": 15,
   "metadata": {
    "metadata": {}
   },
   "outputs": [],
   "source": [
    "def draw_styled_landmarks(image, results):\n",
    "    # Draw left hand connections\n",
    "    mp_drawing.draw_landmarks(image, results.left_hand_landmarks, mp_holistic.HAND_CONNECTIONS, \n",
    "                             mp_drawing.DrawingSpec(color=(121,22,76), thickness=2, circle_radius=4), \n",
    "                             mp_drawing.DrawingSpec(color=(121,44,250), thickness=2, circle_radius=2)\n",
    "                             ) \n",
    "    # Draw right hand connections  \n",
    "    mp_drawing.draw_landmarks(image, results.right_hand_landmarks, mp_holistic.HAND_CONNECTIONS, \n",
    "                             mp_drawing.DrawingSpec(color=(245,117,66), thickness=2, circle_radius=4), \n",
    "                             mp_drawing.DrawingSpec(color=(245,66,230), thickness=2, circle_radius=2)\n",
    "                             ) "
   ]
  },
  {
   "cell_type": "code",
   "execution_count": 16,
   "metadata": {
    "metadata": {}
   },
   "outputs": [
    {
     "name": "stdout",
     "output_type": "stream",
     "text": [
      "<class 'mediapipe.python.solution_base.SolutionOutputs'>\n",
      "<class 'mediapipe.python.solution_base.SolutionOutputs'>\n",
      "<class 'mediapipe.python.solution_base.SolutionOutputs'>\n",
      "<class 'mediapipe.python.solution_base.SolutionOutputs'>\n",
      "<class 'mediapipe.python.solution_base.SolutionOutputs'>\n",
      "<class 'mediapipe.python.solution_base.SolutionOutputs'>\n",
      "<class 'mediapipe.python.solution_base.SolutionOutputs'>\n",
      "<class 'mediapipe.python.solution_base.SolutionOutputs'>\n",
      "<class 'mediapipe.python.solution_base.SolutionOutputs'>\n",
      "<class 'mediapipe.python.solution_base.SolutionOutputs'>\n",
      "<class 'mediapipe.python.solution_base.SolutionOutputs'>\n",
      "<class 'mediapipe.python.solution_base.SolutionOutputs'>\n",
      "<class 'mediapipe.python.solution_base.SolutionOutputs'>\n",
      "<class 'mediapipe.python.solution_base.SolutionOutputs'>\n",
      "<class 'mediapipe.python.solution_base.SolutionOutputs'>\n",
      "<class 'mediapipe.python.solution_base.SolutionOutputs'>\n",
      "<class 'mediapipe.python.solution_base.SolutionOutputs'>\n",
      "<class 'mediapipe.python.solution_base.SolutionOutputs'>\n",
      "<class 'mediapipe.python.solution_base.SolutionOutputs'>\n",
      "<class 'mediapipe.python.solution_base.SolutionOutputs'>\n",
      "<class 'mediapipe.python.solution_base.SolutionOutputs'>\n",
      "<class 'mediapipe.python.solution_base.SolutionOutputs'>\n",
      "<class 'mediapipe.python.solution_base.SolutionOutputs'>\n",
      "<class 'mediapipe.python.solution_base.SolutionOutputs'>\n",
      "<class 'mediapipe.python.solution_base.SolutionOutputs'>\n",
      "<class 'mediapipe.python.solution_base.SolutionOutputs'>\n",
      "<class 'mediapipe.python.solution_base.SolutionOutputs'>\n",
      "<class 'mediapipe.python.solution_base.SolutionOutputs'>\n",
      "<class 'mediapipe.python.solution_base.SolutionOutputs'>\n",
      "<class 'mediapipe.python.solution_base.SolutionOutputs'>\n",
      "<class 'mediapipe.python.solution_base.SolutionOutputs'>\n",
      "<class 'mediapipe.python.solution_base.SolutionOutputs'>\n",
      "<class 'mediapipe.python.solution_base.SolutionOutputs'>\n",
      "<class 'mediapipe.python.solution_base.SolutionOutputs'>\n",
      "<class 'mediapipe.python.solution_base.SolutionOutputs'>\n",
      "<class 'mediapipe.python.solution_base.SolutionOutputs'>\n"
     ]
    },
    {
     "name": "stderr",
     "output_type": "stream",
     "text": [
      "c:\\Users\\Qasim\\anaconda3\\envs\\islsign\\lib\\site-packages\\google\\protobuf\\symbol_database.py:55: UserWarning: SymbolDatabase.GetPrototype() is deprecated. Please use message_factory.GetMessageClass() instead. SymbolDatabase.GetPrototype() will be removed soon.\n",
      "  warnings.warn('SymbolDatabase.GetPrototype() is deprecated. Please '\n"
     ]
    },
    {
     "name": "stdout",
     "output_type": "stream",
     "text": [
      "<class 'mediapipe.python.solution_base.SolutionOutputs'>\n",
      "<class 'mediapipe.python.solution_base.SolutionOutputs'>\n",
      "<class 'mediapipe.python.solution_base.SolutionOutputs'>\n",
      "<class 'mediapipe.python.solution_base.SolutionOutputs'>\n",
      "<class 'mediapipe.python.solution_base.SolutionOutputs'>\n",
      "<class 'mediapipe.python.solution_base.SolutionOutputs'>\n",
      "<class 'mediapipe.python.solution_base.SolutionOutputs'>\n",
      "<class 'mediapipe.python.solution_base.SolutionOutputs'>\n",
      "<class 'mediapipe.python.solution_base.SolutionOutputs'>\n",
      "<class 'mediapipe.python.solution_base.SolutionOutputs'>\n",
      "<class 'mediapipe.python.solution_base.SolutionOutputs'>\n",
      "<class 'mediapipe.python.solution_base.SolutionOutputs'>\n",
      "<class 'mediapipe.python.solution_base.SolutionOutputs'>\n",
      "<class 'mediapipe.python.solution_base.SolutionOutputs'>\n",
      "<class 'mediapipe.python.solution_base.SolutionOutputs'>\n",
      "<class 'mediapipe.python.solution_base.SolutionOutputs'>\n",
      "<class 'mediapipe.python.solution_base.SolutionOutputs'>\n",
      "<class 'mediapipe.python.solution_base.SolutionOutputs'>\n",
      "<class 'mediapipe.python.solution_base.SolutionOutputs'>\n",
      "<class 'mediapipe.python.solution_base.SolutionOutputs'>\n",
      "<class 'mediapipe.python.solution_base.SolutionOutputs'>\n",
      "<class 'mediapipe.python.solution_base.SolutionOutputs'>\n",
      "<class 'mediapipe.python.solution_base.SolutionOutputs'>\n",
      "<class 'mediapipe.python.solution_base.SolutionOutputs'>\n",
      "<class 'mediapipe.python.solution_base.SolutionOutputs'>\n",
      "<class 'mediapipe.python.solution_base.SolutionOutputs'>\n",
      "<class 'mediapipe.python.solution_base.SolutionOutputs'>\n",
      "<class 'mediapipe.python.solution_base.SolutionOutputs'>\n",
      "<class 'mediapipe.python.solution_base.SolutionOutputs'>\n",
      "<class 'mediapipe.python.solution_base.SolutionOutputs'>\n",
      "<class 'mediapipe.python.solution_base.SolutionOutputs'>\n",
      "<class 'mediapipe.python.solution_base.SolutionOutputs'>\n",
      "<class 'mediapipe.python.solution_base.SolutionOutputs'>\n",
      "<class 'mediapipe.python.solution_base.SolutionOutputs'>\n",
      "<class 'mediapipe.python.solution_base.SolutionOutputs'>\n",
      "<class 'mediapipe.python.solution_base.SolutionOutputs'>\n",
      "<class 'mediapipe.python.solution_base.SolutionOutputs'>\n",
      "<class 'mediapipe.python.solution_base.SolutionOutputs'>\n",
      "<class 'mediapipe.python.solution_base.SolutionOutputs'>\n",
      "<class 'mediapipe.python.solution_base.SolutionOutputs'>\n",
      "<class 'mediapipe.python.solution_base.SolutionOutputs'>\n",
      "<class 'mediapipe.python.solution_base.SolutionOutputs'>\n",
      "<class 'mediapipe.python.solution_base.SolutionOutputs'>\n",
      "<class 'mediapipe.python.solution_base.SolutionOutputs'>\n",
      "<class 'mediapipe.python.solution_base.SolutionOutputs'>\n",
      "<class 'mediapipe.python.solution_base.SolutionOutputs'>\n",
      "<class 'mediapipe.python.solution_base.SolutionOutputs'>\n",
      "<class 'mediapipe.python.solution_base.SolutionOutputs'>\n",
      "<class 'mediapipe.python.solution_base.SolutionOutputs'>\n",
      "<class 'mediapipe.python.solution_base.SolutionOutputs'>\n",
      "<class 'mediapipe.python.solution_base.SolutionOutputs'>\n",
      "<class 'mediapipe.python.solution_base.SolutionOutputs'>\n",
      "<class 'mediapipe.python.solution_base.SolutionOutputs'>\n",
      "<class 'mediapipe.python.solution_base.SolutionOutputs'>\n",
      "<class 'mediapipe.python.solution_base.SolutionOutputs'>\n",
      "<class 'mediapipe.python.solution_base.SolutionOutputs'>\n",
      "<class 'mediapipe.python.solution_base.SolutionOutputs'>\n",
      "<class 'mediapipe.python.solution_base.SolutionOutputs'>\n",
      "<class 'mediapipe.python.solution_base.SolutionOutputs'>\n",
      "<class 'mediapipe.python.solution_base.SolutionOutputs'>\n",
      "<class 'mediapipe.python.solution_base.SolutionOutputs'>\n",
      "<class 'mediapipe.python.solution_base.SolutionOutputs'>\n",
      "<class 'mediapipe.python.solution_base.SolutionOutputs'>\n",
      "<class 'mediapipe.python.solution_base.SolutionOutputs'>\n",
      "<class 'mediapipe.python.solution_base.SolutionOutputs'>\n",
      "<class 'mediapipe.python.solution_base.SolutionOutputs'>\n",
      "<class 'mediapipe.python.solution_base.SolutionOutputs'>\n",
      "<class 'mediapipe.python.solution_base.SolutionOutputs'>\n",
      "<class 'mediapipe.python.solution_base.SolutionOutputs'>\n",
      "<class 'mediapipe.python.solution_base.SolutionOutputs'>\n",
      "<class 'mediapipe.python.solution_base.SolutionOutputs'>\n",
      "<class 'mediapipe.python.solution_base.SolutionOutputs'>\n",
      "<class 'mediapipe.python.solution_base.SolutionOutputs'>\n",
      "<class 'mediapipe.python.solution_base.SolutionOutputs'>\n",
      "<class 'mediapipe.python.solution_base.SolutionOutputs'>\n",
      "<class 'mediapipe.python.solution_base.SolutionOutputs'>\n",
      "<class 'mediapipe.python.solution_base.SolutionOutputs'>\n",
      "<class 'mediapipe.python.solution_base.SolutionOutputs'>\n",
      "<class 'mediapipe.python.solution_base.SolutionOutputs'>\n",
      "<class 'mediapipe.python.solution_base.SolutionOutputs'>\n",
      "<class 'mediapipe.python.solution_base.SolutionOutputs'>\n",
      "<class 'mediapipe.python.solution_base.SolutionOutputs'>\n",
      "<class 'mediapipe.python.solution_base.SolutionOutputs'>\n",
      "<class 'mediapipe.python.solution_base.SolutionOutputs'>\n",
      "<class 'mediapipe.python.solution_base.SolutionOutputs'>\n",
      "<class 'mediapipe.python.solution_base.SolutionOutputs'>\n",
      "<class 'mediapipe.python.solution_base.SolutionOutputs'>\n",
      "<class 'mediapipe.python.solution_base.SolutionOutputs'>\n",
      "<class 'mediapipe.python.solution_base.SolutionOutputs'>\n",
      "<class 'mediapipe.python.solution_base.SolutionOutputs'>\n",
      "<class 'mediapipe.python.solution_base.SolutionOutputs'>\n",
      "<class 'mediapipe.python.solution_base.SolutionOutputs'>\n",
      "<class 'mediapipe.python.solution_base.SolutionOutputs'>\n",
      "<class 'mediapipe.python.solution_base.SolutionOutputs'>\n",
      "<class 'mediapipe.python.solution_base.SolutionOutputs'>\n",
      "<class 'mediapipe.python.solution_base.SolutionOutputs'>\n",
      "<class 'mediapipe.python.solution_base.SolutionOutputs'>\n",
      "<class 'mediapipe.python.solution_base.SolutionOutputs'>\n",
      "<class 'mediapipe.python.solution_base.SolutionOutputs'>\n",
      "<class 'mediapipe.python.solution_base.SolutionOutputs'>\n",
      "<class 'mediapipe.python.solution_base.SolutionOutputs'>\n",
      "<class 'mediapipe.python.solution_base.SolutionOutputs'>\n",
      "<class 'mediapipe.python.solution_base.SolutionOutputs'>\n",
      "<class 'mediapipe.python.solution_base.SolutionOutputs'>\n",
      "<class 'mediapipe.python.solution_base.SolutionOutputs'>\n",
      "<class 'mediapipe.python.solution_base.SolutionOutputs'>\n",
      "<class 'mediapipe.python.solution_base.SolutionOutputs'>\n",
      "<class 'mediapipe.python.solution_base.SolutionOutputs'>\n",
      "<class 'mediapipe.python.solution_base.SolutionOutputs'>\n",
      "<class 'mediapipe.python.solution_base.SolutionOutputs'>\n",
      "<class 'mediapipe.python.solution_base.SolutionOutputs'>\n",
      "<class 'mediapipe.python.solution_base.SolutionOutputs'>\n",
      "<class 'mediapipe.python.solution_base.SolutionOutputs'>\n",
      "<class 'mediapipe.python.solution_base.SolutionOutputs'>\n",
      "<class 'mediapipe.python.solution_base.SolutionOutputs'>\n",
      "<class 'mediapipe.python.solution_base.SolutionOutputs'>\n",
      "<class 'mediapipe.python.solution_base.SolutionOutputs'>\n",
      "<class 'mediapipe.python.solution_base.SolutionOutputs'>\n",
      "<class 'mediapipe.python.solution_base.SolutionOutputs'>\n",
      "<class 'mediapipe.python.solution_base.SolutionOutputs'>\n",
      "<class 'mediapipe.python.solution_base.SolutionOutputs'>\n",
      "<class 'mediapipe.python.solution_base.SolutionOutputs'>\n",
      "<class 'mediapipe.python.solution_base.SolutionOutputs'>\n",
      "<class 'mediapipe.python.solution_base.SolutionOutputs'>\n",
      "<class 'mediapipe.python.solution_base.SolutionOutputs'>\n",
      "<class 'mediapipe.python.solution_base.SolutionOutputs'>\n",
      "<class 'mediapipe.python.solution_base.SolutionOutputs'>\n",
      "<class 'mediapipe.python.solution_base.SolutionOutputs'>\n",
      "<class 'mediapipe.python.solution_base.SolutionOutputs'>\n",
      "<class 'mediapipe.python.solution_base.SolutionOutputs'>\n",
      "<class 'mediapipe.python.solution_base.SolutionOutputs'>\n"
     ]
    }
   ],
   "source": [
    "cap = cv2.VideoCapture(0)\n",
    "# Set mediapipe model \n",
    "with mp_holistic.Holistic(min_detection_confidence=0.5, min_tracking_confidence=0.5) as holistic:\n",
    "    while cap.isOpened():\n",
    "\n",
    "        # Read feed\n",
    "        ret, frame = cap.read()\n",
    "\n",
    "        # Make detections\n",
    "        image, results = mediapipe_detection(frame, holistic)\n",
    "        print(results)\n",
    "        \n",
    "        # Draw landmarks\n",
    "        draw_styled_landmarks(image, results)\n",
    "\n",
    "        # Show to screen\n",
    "        cv2.imshow('OpenCV Feed', image)\n",
    "\n",
    "        # Break gracefully\n",
    "        if cv2.waitKey(10) & 0xFF == ord('q'):\n",
    "            break\n",
    "    cap.release()\n",
    "    cv2.destroyAllWindows()"
   ]
  },
  {
   "cell_type": "code",
   "execution_count": 17,
   "metadata": {
    "metadata": {}
   },
   "outputs": [],
   "source": [
    "draw_landmarks(frame, results)"
   ]
  },
  {
   "cell_type": "code",
   "execution_count": 18,
   "metadata": {
    "metadata": {}
   },
   "outputs": [
    {
     "data": {
      "text/plain": [
       "<matplotlib.image.AxesImage at 0x29716acc9a0>"
      ]
     },
     "execution_count": 18,
     "metadata": {},
     "output_type": "execute_result"
    },
    {
     "data": {
      "image/png": "[encoded data removed]",
      "text/plain": [
       "<Figure size 640x480 with 1 Axes>"
      ]
     },
     "metadata": {},
     "output_type": "display_data"
    }
   ],
   "source": [
    "plt.imshow(cv2.cvtColor(frame, cv2.COLOR_BGR2RGB))"
   ]
  },
  {
   "cell_type": "markdown",
   "metadata": {},
   "source": [
    "# 3. Extract Keypoint Values"
   ]
  },
  {
   "cell_type": "code",
   "execution_count": 19,
   "metadata": {
    "metadata": {}
   },
   "outputs": [
    {
     "data": {
      "text/plain": [
       "21"
      ]
     },
     "execution_count": 19,
     "metadata": {},
     "output_type": "execute_result"
    }
   ],
   "source": [
    "len(results.left_hand_landmarks.landmark)"
   ]
  },
  {
   "cell_type": "code",
   "execution_count": 20,
   "metadata": {
    "metadata": {}
   },
   "outputs": [],
   "source": [
    "def extract_keypoints(results):\n",
    "    lh = np.array([[res.x, res.y, res.z] for res in results.left_hand_landmarks.landmark]).flatten() if results.left_hand_landmarks else np.zeros(21*3)\n",
    "    rh = np.array([[res.x, res.y, res.z] for res in results.right_hand_landmarks.landmark]).flatten() if results.right_hand_landmarks else np.zeros(21*3)\n",
    "    return np.concatenate([lh, rh])"
   ]
  },
  {
   "cell_type": "code",
   "execution_count": 21,
   "metadata": {
    "metadata": {}
   },
   "outputs": [],
   "source": [
    "result_test = extract_keypoints(results)"
   ]
  },
  {
   "cell_type": "code",
   "execution_count": 22,
   "metadata": {
    "metadata": {}
   },
   "outputs": [
    {
     "data": {
      "text/plain": [
       "array([ 7.41327226e-01,  8.09299231e-01,  3.89019561e-07,  6.73181057e-01,\n",
       "        7.89353848e-01, -2.49700882e-02,  6.13928556e-01,  7.35088944e-01,\n",
       "       -3.75974253e-02,  5.79986215e-01,  6.77911699e-01, -4.85689156e-02,\n",
       "        5.50644875e-01,  6.32293701e-01, -5.87519519e-02,  6.40645444e-01,\n",
       "        6.03861868e-01, -1.41665582e-02,  6.18209302e-01,  5.22421598e-01,\n",
       "       -3.20036225e-02,  6.07654154e-01,  4.73662049e-01, -4.89805043e-02,\n",
       "        6.00957692e-01,  4.27605510e-01, -6.17363639e-02,  6.79631829e-01,\n",
       "        5.82078040e-01, -1.79415103e-02,  6.65667534e-01,  4.83393610e-01,\n",
       "       -3.11197899e-02,  6.58336997e-01,  4.21798348e-01, -4.47913595e-02,\n",
       "        6.52419209e-01,  3.68716300e-01, -5.57181165e-02,  7.17324913e-01,\n",
       "        5.81308126e-01, -2.63889078e-02,  7.08826005e-01,  4.87568915e-01,\n",
       "       -4.10476699e-02,  7.01652527e-01,  4.30807829e-01, -5.09269573e-02,\n",
       "        6.94040656e-01,  3.80794346e-01, -5.86505979e-02,  7.55613446e-01,\n",
       "        5.96619844e-01, -3.77652198e-02,  7.52823353e-01,  5.23190022e-01,\n",
       "       -5.14755361e-02,  7.49503613e-01,  4.74422604e-01, -5.64679652e-02,\n",
       "        7.44900405e-01,  4.28940296e-01, -6.01030253e-02,  2.62258351e-01,\n",
       "        8.74385953e-01,  3.47895508e-07,  3.28408569e-01,  8.44359517e-01,\n",
       "       -3.09079923e-02,  3.78404975e-01,  7.69632816e-01, -4.23138849e-02,\n",
       "        4.01211560e-01,  6.94337428e-01, -5.11702150e-02,  4.27255809e-01,\n",
       "        6.45251274e-01, -6.00003339e-02,  3.46329421e-01,  6.61043406e-01,\n",
       "       -2.72714309e-02,  3.65702718e-01,  5.76332629e-01, -4.85256016e-02,\n",
       "        3.77611786e-01,  5.22763669e-01, -6.51222318e-02,  3.87822062e-01,\n",
       "        4.74015176e-01, -7.78152868e-02,  3.02278519e-01,  6.44476354e-01,\n",
       "       -2.79937927e-02,  3.03609580e-01,  5.41819751e-01, -4.79585715e-02,\n",
       "        3.06908309e-01,  4.78254795e-01, -6.39663041e-02,  3.10363680e-01,\n",
       "        4.23259228e-01, -7.53748417e-02,  2.62088090e-01,  6.52548194e-01,\n",
       "       -3.26464958e-02,  2.55861729e-01,  5.55661261e-01, -5.45105338e-02,\n",
       "        2.56837130e-01,  4.91241604e-01, -6.93494678e-02,  2.59966195e-01,\n",
       "        4.33910549e-01, -7.89306834e-02,  2.25002840e-01,  6.80189788e-01,\n",
       "       -4.01204191e-02,  2.02523172e-01,  6.07326746e-01, -6.28380775e-02,\n",
       "        1.90896213e-01,  5.56346357e-01, -7.44258165e-02,  1.83313370e-01,\n",
       "        5.06751657e-01, -8.11002925e-02])"
      ]
     },
     "execution_count": 22,
     "metadata": {},
     "output_type": "execute_result"
    }
   ],
   "source": [
    "result_test"
   ]
  },
  {
   "cell_type": "code",
   "execution_count": 23,
   "metadata": {
    "metadata": {}
   },
   "outputs": [],
   "source": [
    "np.save('0', result_test)"
   ]
  },
  {
   "cell_type": "code",
   "execution_count": 24,
   "metadata": {
    "metadata": {}
   },
   "outputs": [
    {
     "data": {
      "text/plain": [
       "array([ 7.41327226e-01,  8.09299231e-01,  3.89019561e-07,  6.73181057e-01,\n",
       "        7.89353848e-01, -2.49700882e-02,  6.13928556e-01,  7.35088944e-01,\n",
       "       -3.75974253e-02,  5.79986215e-01,  6.77911699e-01, -4.85689156e-02,\n",
       "        5.50644875e-01,  6.32293701e-01, -5.87519519e-02,  6.40645444e-01,\n",
       "        6.03861868e-01, -1.41665582e-02,  6.18209302e-01,  5.22421598e-01,\n",
       "       -3.20036225e-02,  6.07654154e-01,  4.73662049e-01, -4.89805043e-02,\n",
       "        6.00957692e-01,  4.27605510e-01, -6.17363639e-02,  6.79631829e-01,\n",
       "        5.82078040e-01, -1.79415103e-02,  6.65667534e-01,  4.83393610e-01,\n",
       "       -3.11197899e-02,  6.58336997e-01,  4.21798348e-01, -4.47913595e-02,\n",
       "        6.52419209e-01,  3.68716300e-01, -5.57181165e-02,  7.17324913e-01,\n",
       "        5.81308126e-01, -2.63889078e-02,  7.08826005e-01,  4.87568915e-01,\n",
       "       -4.10476699e-02,  7.01652527e-01,  4.30807829e-01, -5.09269573e-02,\n",
       "        6.94040656e-01,  3.80794346e-01, -5.86505979e-02,  7.55613446e-01,\n",
       "        5.96619844e-01, -3.77652198e-02,  7.52823353e-01,  5.23190022e-01,\n",
       "       -5.14755361e-02,  7.49503613e-01,  4.74422604e-01, -5.64679652e-02,\n",
       "        7.44900405e-01,  4.28940296e-01, -6.01030253e-02,  2.62258351e-01,\n",
       "        8.74385953e-01,  3.47895508e-07,  3.28408569e-01,  8.44359517e-01,\n",
       "       -3.09079923e-02,  3.78404975e-01,  7.69632816e-01, -4.23138849e-02,\n",
       "        4.01211560e-01,  6.94337428e-01, -5.11702150e-02,  4.27255809e-01,\n",
       "        6.45251274e-01, -6.00003339e-02,  3.46329421e-01,  6.61043406e-01,\n",
       "       -2.72714309e-02,  3.65702718e-01,  5.76332629e-01, -4.85256016e-02,\n",
       "        3.77611786e-01,  5.22763669e-01, -6.51222318e-02,  3.87822062e-01,\n",
       "        4.74015176e-01, -7.78152868e-02,  3.02278519e-01,  6.44476354e-01,\n",
       "       -2.79937927e-02,  3.03609580e-01,  5.41819751e-01, -4.79585715e-02,\n",
       "        3.06908309e-01,  4.78254795e-01, -6.39663041e-02,  3.10363680e-01,\n",
       "        4.23259228e-01, -7.53748417e-02,  2.62088090e-01,  6.52548194e-01,\n",
       "       -3.26464958e-02,  2.55861729e-01,  5.55661261e-01, -5.45105338e-02,\n",
       "        2.56837130e-01,  4.91241604e-01, -6.93494678e-02,  2.59966195e-01,\n",
       "        4.33910549e-01, -7.89306834e-02,  2.25002840e-01,  6.80189788e-01,\n",
       "       -4.01204191e-02,  2.02523172e-01,  6.07326746e-01, -6.28380775e-02,\n",
       "        1.90896213e-01,  5.56346357e-01, -7.44258165e-02,  1.83313370e-01,\n",
       "        5.06751657e-01, -8.11002925e-02])"
      ]
     },
     "execution_count": 24,
     "metadata": {},
     "output_type": "execute_result"
    }
   ],
   "source": [
    "np.load('0.npy')"
   ]
  },
  {
   "cell_type": "markdown",
   "metadata": {},
   "source": [
    "# 4. Setup Folders for Collection"
   ]
  },
  {
   "cell_type": "code",
   "execution_count": 19,
   "metadata": {
    "metadata": {}
   },
   "outputs": [],
   "source": [
    "# Path for exported data, numpy arrays\n",
    "# DATA_PATH = os.path.join('C:/Users/Qasim/Documents/Major Project/ActionDetectionforSignLanguage-main/dataset') \n",
    "DATA_PATH = os.path.join(r'C:\\Users\\Qasim\\Documents\\Major_Project\\ActionDetectionforSignLanguage-main\\Dataset') \n",
    "\n",
    "\n",
    "# Actions that we try to detect\n",
    "actions = np.array(['Accident',  'Call',  'Doctor',  'Help', 'Hot', 'Lose', 'Pain', 'Thief'])\n",
    "\n",
    "# # Thirty videos worth of data\n",
    "no_sequences = 90\n",
    "\n",
    "# Videos are going to be 30 frames in length\n",
    "sequence_length = 30\n",
    "\n",
    "# Folder start\n",
    "start_folder = 30"
   ]
  },
  {
   "cell_type": "markdown",
   "metadata": {},
   "source": [
    "### making directory"
   ]
  },
  {
   "cell_type": "code",
   "execution_count": 17,
   "metadata": {
    "metadata": {}
   },
   "outputs": [
    {
     "name": "stdout",
     "output_type": "stream",
     "text": [
      "Checking action path: C:\\Users\\Qasim\\Documents\\Major_Project\\ActionDetectionforSignLanguage-main\\Dataset\\Accident\n",
      "Directory already exists: C:\\Users\\Qasim\\Documents\\Major_Project\\ActionDetectionforSignLanguage-main\\Dataset\\Accident\n",
      "Creating directory: C:\\Users\\Qasim\\Documents\\Major_Project\\ActionDetectionforSignLanguage-main\\Dataset\\Accident\\61\n",
      "Sequence directory already exists: C:\\Users\\Qasim\\Documents\\Major_Project\\ActionDetectionforSignLanguage-main\\Dataset\\Accident\\61\n",
      "Creating directory: C:\\Users\\Qasim\\Documents\\Major_Project\\ActionDetectionforSignLanguage-main\\Dataset\\Accident\\62\n",
      "Sequence directory already exists: C:\\Users\\Qasim\\Documents\\Major_Project\\ActionDetectionforSignLanguage-main\\Dataset\\Accident\\62\n",
      "Creating directory: C:\\Users\\Qasim\\Documents\\Major_Project\\ActionDetectionforSignLanguage-main\\Dataset\\Accident\\63\n",
      "Sequence directory already exists: C:\\Users\\Qasim\\Documents\\Major_Project\\ActionDetectionforSignLanguage-main\\Dataset\\Accident\\63\n",
      "Creating directory: C:\\Users\\Qasim\\Documents\\Major_Project\\ActionDetectionforSignLanguage-main\\Dataset\\Accident\\64\n",
      "Sequence directory already exists: C:\\Users\\Qasim\\Documents\\Major_Project\\ActionDetectionforSignLanguage-main\\Dataset\\Accident\\64\n",
      "Creating directory: C:\\Users\\Qasim\\Documents\\Major_Project\\ActionDetectionforSignLanguage-main\\Dataset\\Accident\\65\n",
      "Sequence directory already exists: C:\\Users\\Qasim\\Documents\\Major_Project\\ActionDetectionforSignLanguage-main\\Dataset\\Accident\\65\n",
      "Creating directory: C:\\Users\\Qasim\\Documents\\Major_Project\\ActionDetectionforSignLanguage-main\\Dataset\\Accident\\66\n",
      "Sequence directory already exists: C:\\Users\\Qasim\\Documents\\Major_Project\\ActionDetectionforSignLanguage-main\\Dataset\\Accident\\66\n",
      "Creating directory: C:\\Users\\Qasim\\Documents\\Major_Project\\ActionDetectionforSignLanguage-main\\Dataset\\Accident\\67\n",
      "Sequence directory already exists: C:\\Users\\Qasim\\Documents\\Major_Project\\ActionDetectionforSignLanguage-main\\Dataset\\Accident\\67\n",
      "Creating directory: C:\\Users\\Qasim\\Documents\\Major_Project\\ActionDetectionforSignLanguage-main\\Dataset\\Accident\\68\n",
      "Sequence directory already exists: C:\\Users\\Qasim\\Documents\\Major_Project\\ActionDetectionforSignLanguage-main\\Dataset\\Accident\\68\n",
      "Creating directory: C:\\Users\\Qasim\\Documents\\Major_Project\\ActionDetectionforSignLanguage-main\\Dataset\\Accident\\69\n",
      "Sequence directory already exists: C:\\Users\\Qasim\\Documents\\Major_Project\\ActionDetectionforSignLanguage-main\\Dataset\\Accident\\69\n",
      "Creating directory: C:\\Users\\Qasim\\Documents\\Major_Project\\ActionDetectionforSignLanguage-main\\Dataset\\Accident\\70\n",
      "Sequence directory already exists: C:\\Users\\Qasim\\Documents\\Major_Project\\ActionDetectionforSignLanguage-main\\Dataset\\Accident\\70\n",
      "Creating directory: C:\\Users\\Qasim\\Documents\\Major_Project\\ActionDetectionforSignLanguage-main\\Dataset\\Accident\\71\n",
      "Sequence directory already exists: C:\\Users\\Qasim\\Documents\\Major_Project\\ActionDetectionforSignLanguage-main\\Dataset\\Accident\\71\n",
      "Creating directory: C:\\Users\\Qasim\\Documents\\Major_Project\\ActionDetectionforSignLanguage-main\\Dataset\\Accident\\72\n",
      "Sequence directory already exists: C:\\Users\\Qasim\\Documents\\Major_Project\\ActionDetectionforSignLanguage-main\\Dataset\\Accident\\72\n",
      "Creating directory: C:\\Users\\Qasim\\Documents\\Major_Project\\ActionDetectionforSignLanguage-main\\Dataset\\Accident\\73\n",
      "Sequence directory already exists: C:\\Users\\Qasim\\Documents\\Major_Project\\ActionDetectionforSignLanguage-main\\Dataset\\Accident\\73\n",
      "Creating directory: C:\\Users\\Qasim\\Documents\\Major_Project\\ActionDetectionforSignLanguage-main\\Dataset\\Accident\\74\n",
      "Sequence directory already exists: C:\\Users\\Qasim\\Documents\\Major_Project\\ActionDetectionforSignLanguage-main\\Dataset\\Accident\\74\n",
      "Creating directory: C:\\Users\\Qasim\\Documents\\Major_Project\\ActionDetectionforSignLanguage-main\\Dataset\\Accident\\75\n",
      "Sequence directory already exists: C:\\Users\\Qasim\\Documents\\Major_Project\\ActionDetectionforSignLanguage-main\\Dataset\\Accident\\75\n",
      "Creating directory: C:\\Users\\Qasim\\Documents\\Major_Project\\ActionDetectionforSignLanguage-main\\Dataset\\Accident\\76\n",
      "Sequence directory already exists: C:\\Users\\Qasim\\Documents\\Major_Project\\ActionDetectionforSignLanguage-main\\Dataset\\Accident\\76\n",
      "Creating directory: C:\\Users\\Qasim\\Documents\\Major_Project\\ActionDetectionforSignLanguage-main\\Dataset\\Accident\\77\n",
      "Sequence directory already exists: C:\\Users\\Qasim\\Documents\\Major_Project\\ActionDetectionforSignLanguage-main\\Dataset\\Accident\\77\n",
      "Creating directory: C:\\Users\\Qasim\\Documents\\Major_Project\\ActionDetectionforSignLanguage-main\\Dataset\\Accident\\78\n",
      "Sequence directory already exists: C:\\Users\\Qasim\\Documents\\Major_Project\\ActionDetectionforSignLanguage-main\\Dataset\\Accident\\78\n",
      "Creating directory: C:\\Users\\Qasim\\Documents\\Major_Project\\ActionDetectionforSignLanguage-main\\Dataset\\Accident\\79\n",
      "Sequence directory already exists: C:\\Users\\Qasim\\Documents\\Major_Project\\ActionDetectionforSignLanguage-main\\Dataset\\Accident\\79\n",
      "Creating directory: C:\\Users\\Qasim\\Documents\\Major_Project\\ActionDetectionforSignLanguage-main\\Dataset\\Accident\\80\n",
      "Sequence directory already exists: C:\\Users\\Qasim\\Documents\\Major_Project\\ActionDetectionforSignLanguage-main\\Dataset\\Accident\\80\n",
      "Creating directory: C:\\Users\\Qasim\\Documents\\Major_Project\\ActionDetectionforSignLanguage-main\\Dataset\\Accident\\81\n",
      "Sequence directory already exists: C:\\Users\\Qasim\\Documents\\Major_Project\\ActionDetectionforSignLanguage-main\\Dataset\\Accident\\81\n",
      "Creating directory: C:\\Users\\Qasim\\Documents\\Major_Project\\ActionDetectionforSignLanguage-main\\Dataset\\Accident\\82\n",
      "Sequence directory already exists: C:\\Users\\Qasim\\Documents\\Major_Project\\ActionDetectionforSignLanguage-main\\Dataset\\Accident\\82\n",
      "Creating directory: C:\\Users\\Qasim\\Documents\\Major_Project\\ActionDetectionforSignLanguage-main\\Dataset\\Accident\\83\n",
      "Sequence directory already exists: C:\\Users\\Qasim\\Documents\\Major_Project\\ActionDetectionforSignLanguage-main\\Dataset\\Accident\\83\n",
      "Creating directory: C:\\Users\\Qasim\\Documents\\Major_Project\\ActionDetectionforSignLanguage-main\\Dataset\\Accident\\84\n",
      "Sequence directory already exists: C:\\Users\\Qasim\\Documents\\Major_Project\\ActionDetectionforSignLanguage-main\\Dataset\\Accident\\84\n",
      "Creating directory: C:\\Users\\Qasim\\Documents\\Major_Project\\ActionDetectionforSignLanguage-main\\Dataset\\Accident\\85\n",
      "Sequence directory already exists: C:\\Users\\Qasim\\Documents\\Major_Project\\ActionDetectionforSignLanguage-main\\Dataset\\Accident\\85\n",
      "Creating directory: C:\\Users\\Qasim\\Documents\\Major_Project\\ActionDetectionforSignLanguage-main\\Dataset\\Accident\\86\n",
      "Sequence directory already exists: C:\\Users\\Qasim\\Documents\\Major_Project\\ActionDetectionforSignLanguage-main\\Dataset\\Accident\\86\n",
      "Creating directory: C:\\Users\\Qasim\\Documents\\Major_Project\\ActionDetectionforSignLanguage-main\\Dataset\\Accident\\87\n",
      "Sequence directory already exists: C:\\Users\\Qasim\\Documents\\Major_Project\\ActionDetectionforSignLanguage-main\\Dataset\\Accident\\87\n",
      "Creating directory: C:\\Users\\Qasim\\Documents\\Major_Project\\ActionDetectionforSignLanguage-main\\Dataset\\Accident\\88\n",
      "Sequence directory already exists: C:\\Users\\Qasim\\Documents\\Major_Project\\ActionDetectionforSignLanguage-main\\Dataset\\Accident\\88\n",
      "Creating directory: C:\\Users\\Qasim\\Documents\\Major_Project\\ActionDetectionforSignLanguage-main\\Dataset\\Accident\\89\n",
      "Sequence directory already exists: C:\\Users\\Qasim\\Documents\\Major_Project\\ActionDetectionforSignLanguage-main\\Dataset\\Accident\\89\n",
      "Creating directory: C:\\Users\\Qasim\\Documents\\Major_Project\\ActionDetectionforSignLanguage-main\\Dataset\\Accident\\90\n",
      "Sequence directory already exists: C:\\Users\\Qasim\\Documents\\Major_Project\\ActionDetectionforSignLanguage-main\\Dataset\\Accident\\90\n",
      "Checking action path: C:\\Users\\Qasim\\Documents\\Major_Project\\ActionDetectionforSignLanguage-main\\Dataset\\Call\n",
      "Directory already exists: C:\\Users\\Qasim\\Documents\\Major_Project\\ActionDetectionforSignLanguage-main\\Dataset\\Call\n",
      "Creating directory: C:\\Users\\Qasim\\Documents\\Major_Project\\ActionDetectionforSignLanguage-main\\Dataset\\Call\\61\n",
      "Sequence directory already exists: C:\\Users\\Qasim\\Documents\\Major_Project\\ActionDetectionforSignLanguage-main\\Dataset\\Call\\61\n",
      "Creating directory: C:\\Users\\Qasim\\Documents\\Major_Project\\ActionDetectionforSignLanguage-main\\Dataset\\Call\\62\n",
      "Sequence directory already exists: C:\\Users\\Qasim\\Documents\\Major_Project\\ActionDetectionforSignLanguage-main\\Dataset\\Call\\62\n",
      "Creating directory: C:\\Users\\Qasim\\Documents\\Major_Project\\ActionDetectionforSignLanguage-main\\Dataset\\Call\\63\n",
      "Sequence directory already exists: C:\\Users\\Qasim\\Documents\\Major_Project\\ActionDetectionforSignLanguage-main\\Dataset\\Call\\63\n",
      "Creating directory: C:\\Users\\Qasim\\Documents\\Major_Project\\ActionDetectionforSignLanguage-main\\Dataset\\Call\\64\n",
      "Sequence directory already exists: C:\\Users\\Qasim\\Documents\\Major_Project\\ActionDetectionforSignLanguage-main\\Dataset\\Call\\64\n",
      "Creating directory: C:\\Users\\Qasim\\Documents\\Major_Project\\ActionDetectionforSignLanguage-main\\Dataset\\Call\\65\n",
      "Sequence directory already exists: C:\\Users\\Qasim\\Documents\\Major_Project\\ActionDetectionforSignLanguage-main\\Dataset\\Call\\65\n",
      "Creating directory: C:\\Users\\Qasim\\Documents\\Major_Project\\ActionDetectionforSignLanguage-main\\Dataset\\Call\\66\n",
      "Sequence directory already exists: C:\\Users\\Qasim\\Documents\\Major_Project\\ActionDetectionforSignLanguage-main\\Dataset\\Call\\66\n",
      "Creating directory: C:\\Users\\Qasim\\Documents\\Major_Project\\ActionDetectionforSignLanguage-main\\Dataset\\Call\\67\n",
      "Sequence directory already exists: C:\\Users\\Qasim\\Documents\\Major_Project\\ActionDetectionforSignLanguage-main\\Dataset\\Call\\67\n",
      "Creating directory: C:\\Users\\Qasim\\Documents\\Major_Project\\ActionDetectionforSignLanguage-main\\Dataset\\Call\\68\n",
      "Sequence directory already exists: C:\\Users\\Qasim\\Documents\\Major_Project\\ActionDetectionforSignLanguage-main\\Dataset\\Call\\68\n",
      "Creating directory: C:\\Users\\Qasim\\Documents\\Major_Project\\ActionDetectionforSignLanguage-main\\Dataset\\Call\\69\n",
      "Sequence directory already exists: C:\\Users\\Qasim\\Documents\\Major_Project\\ActionDetectionforSignLanguage-main\\Dataset\\Call\\69\n",
      "Creating directory: C:\\Users\\Qasim\\Documents\\Major_Project\\ActionDetectionforSignLanguage-main\\Dataset\\Call\\70\n",
      "Sequence directory already exists: C:\\Users\\Qasim\\Documents\\Major_Project\\ActionDetectionforSignLanguage-main\\Dataset\\Call\\70\n",
      "Creating directory: C:\\Users\\Qasim\\Documents\\Major_Project\\ActionDetectionforSignLanguage-main\\Dataset\\Call\\71\n",
      "Sequence directory already exists: C:\\Users\\Qasim\\Documents\\Major_Project\\ActionDetectionforSignLanguage-main\\Dataset\\Call\\71\n",
      "Creating directory: C:\\Users\\Qasim\\Documents\\Major_Project\\ActionDetectionforSignLanguage-main\\Dataset\\Call\\72\n",
      "Sequence directory already exists: C:\\Users\\Qasim\\Documents\\Major_Project\\ActionDetectionforSignLanguage-main\\Dataset\\Call\\72\n",
      "Creating directory: C:\\Users\\Qasim\\Documents\\Major_Project\\ActionDetectionforSignLanguage-main\\Dataset\\Call\\73\n",
      "Sequence directory already exists: C:\\Users\\Qasim\\Documents\\Major_Project\\ActionDetectionforSignLanguage-main\\Dataset\\Call\\73\n",
      "Creating directory: C:\\Users\\Qasim\\Documents\\Major_Project\\ActionDetectionforSignLanguage-main\\Dataset\\Call\\74\n",
      "Sequence directory already exists: C:\\Users\\Qasim\\Documents\\Major_Project\\ActionDetectionforSignLanguage-main\\Dataset\\Call\\74\n",
      "Creating directory: C:\\Users\\Qasim\\Documents\\Major_Project\\ActionDetectionforSignLanguage-main\\Dataset\\Call\\75\n",
      "Sequence directory already exists: C:\\Users\\Qasim\\Documents\\Major_Project\\ActionDetectionforSignLanguage-main\\Dataset\\Call\\75\n",
      "Creating directory: C:\\Users\\Qasim\\Documents\\Major_Project\\ActionDetectionforSignLanguage-main\\Dataset\\Call\\76\n",
      "Sequence directory already exists: C:\\Users\\Qasim\\Documents\\Major_Project\\ActionDetectionforSignLanguage-main\\Dataset\\Call\\76\n",
      "Creating directory: C:\\Users\\Qasim\\Documents\\Major_Project\\ActionDetectionforSignLanguage-main\\Dataset\\Call\\77\n",
      "Sequence directory already exists: C:\\Users\\Qasim\\Documents\\Major_Project\\ActionDetectionforSignLanguage-main\\Dataset\\Call\\77\n",
      "Creating directory: C:\\Users\\Qasim\\Documents\\Major_Project\\ActionDetectionforSignLanguage-main\\Dataset\\Call\\78\n",
      "Sequence directory already exists: C:\\Users\\Qasim\\Documents\\Major_Project\\ActionDetectionforSignLanguage-main\\Dataset\\Call\\78\n",
      "Creating directory: C:\\Users\\Qasim\\Documents\\Major_Project\\ActionDetectionforSignLanguage-main\\Dataset\\Call\\79\n",
      "Sequence directory already exists: C:\\Users\\Qasim\\Documents\\Major_Project\\ActionDetectionforSignLanguage-main\\Dataset\\Call\\79\n",
      "Creating directory: C:\\Users\\Qasim\\Documents\\Major_Project\\ActionDetectionforSignLanguage-main\\Dataset\\Call\\80\n",
      "Sequence directory already exists: C:\\Users\\Qasim\\Documents\\Major_Project\\ActionDetectionforSignLanguage-main\\Dataset\\Call\\80\n",
      "Creating directory: C:\\Users\\Qasim\\Documents\\Major_Project\\ActionDetectionforSignLanguage-main\\Dataset\\Call\\81\n",
      "Sequence directory already exists: C:\\Users\\Qasim\\Documents\\Major_Project\\ActionDetectionforSignLanguage-main\\Dataset\\Call\\81\n",
      "Creating directory: C:\\Users\\Qasim\\Documents\\Major_Project\\ActionDetectionforSignLanguage-main\\Dataset\\Call\\82\n",
      "Sequence directory already exists: C:\\Users\\Qasim\\Documents\\Major_Project\\ActionDetectionforSignLanguage-main\\Dataset\\Call\\82\n",
      "Creating directory: C:\\Users\\Qasim\\Documents\\Major_Project\\ActionDetectionforSignLanguage-main\\Dataset\\Call\\83\n",
      "Sequence directory already exists: C:\\Users\\Qasim\\Documents\\Major_Project\\ActionDetectionforSignLanguage-main\\Dataset\\Call\\83\n",
      "Creating directory: C:\\Users\\Qasim\\Documents\\Major_Project\\ActionDetectionforSignLanguage-main\\Dataset\\Call\\84\n",
      "Sequence directory already exists: C:\\Users\\Qasim\\Documents\\Major_Project\\ActionDetectionforSignLanguage-main\\Dataset\\Call\\84\n",
      "Creating directory: C:\\Users\\Qasim\\Documents\\Major_Project\\ActionDetectionforSignLanguage-main\\Dataset\\Call\\85\n",
      "Sequence directory already exists: C:\\Users\\Qasim\\Documents\\Major_Project\\ActionDetectionforSignLanguage-main\\Dataset\\Call\\85\n",
      "Creating directory: C:\\Users\\Qasim\\Documents\\Major_Project\\ActionDetectionforSignLanguage-main\\Dataset\\Call\\86\n",
      "Sequence directory already exists: C:\\Users\\Qasim\\Documents\\Major_Project\\ActionDetectionforSignLanguage-main\\Dataset\\Call\\86\n",
      "Creating directory: C:\\Users\\Qasim\\Documents\\Major_Project\\ActionDetectionforSignLanguage-main\\Dataset\\Call\\87\n",
      "Sequence directory already exists: C:\\Users\\Qasim\\Documents\\Major_Project\\ActionDetectionforSignLanguage-main\\Dataset\\Call\\87\n",
      "Creating directory: C:\\Users\\Qasim\\Documents\\Major_Project\\ActionDetectionforSignLanguage-main\\Dataset\\Call\\88\n",
      "Sequence directory already exists: C:\\Users\\Qasim\\Documents\\Major_Project\\ActionDetectionforSignLanguage-main\\Dataset\\Call\\88\n",
      "Creating directory: C:\\Users\\Qasim\\Documents\\Major_Project\\ActionDetectionforSignLanguage-main\\Dataset\\Call\\89\n",
      "Sequence directory already exists: C:\\Users\\Qasim\\Documents\\Major_Project\\ActionDetectionforSignLanguage-main\\Dataset\\Call\\89\n",
      "Creating directory: C:\\Users\\Qasim\\Documents\\Major_Project\\ActionDetectionforSignLanguage-main\\Dataset\\Call\\90\n",
      "Sequence directory already exists: C:\\Users\\Qasim\\Documents\\Major_Project\\ActionDetectionforSignLanguage-main\\Dataset\\Call\\90\n",
      "Checking action path: C:\\Users\\Qasim\\Documents\\Major_Project\\ActionDetectionforSignLanguage-main\\Dataset\\Doctor\n",
      "Directory already exists: C:\\Users\\Qasim\\Documents\\Major_Project\\ActionDetectionforSignLanguage-main\\Dataset\\Doctor\n",
      "Creating directory: C:\\Users\\Qasim\\Documents\\Major_Project\\ActionDetectionforSignLanguage-main\\Dataset\\Doctor\\61\n",
      "Sequence directory already exists: C:\\Users\\Qasim\\Documents\\Major_Project\\ActionDetectionforSignLanguage-main\\Dataset\\Doctor\\61\n",
      "Creating directory: C:\\Users\\Qasim\\Documents\\Major_Project\\ActionDetectionforSignLanguage-main\\Dataset\\Doctor\\62\n",
      "Sequence directory already exists: C:\\Users\\Qasim\\Documents\\Major_Project\\ActionDetectionforSignLanguage-main\\Dataset\\Doctor\\62\n",
      "Creating directory: C:\\Users\\Qasim\\Documents\\Major_Project\\ActionDetectionforSignLanguage-main\\Dataset\\Doctor\\63\n",
      "Sequence directory already exists: C:\\Users\\Qasim\\Documents\\Major_Project\\ActionDetectionforSignLanguage-main\\Dataset\\Doctor\\63\n",
      "Creating directory: C:\\Users\\Qasim\\Documents\\Major_Project\\ActionDetectionforSignLanguage-main\\Dataset\\Doctor\\64\n",
      "Sequence directory already exists: C:\\Users\\Qasim\\Documents\\Major_Project\\ActionDetectionforSignLanguage-main\\Dataset\\Doctor\\64\n",
      "Creating directory: C:\\Users\\Qasim\\Documents\\Major_Project\\ActionDetectionforSignLanguage-main\\Dataset\\Doctor\\65\n",
      "Sequence directory already exists: C:\\Users\\Qasim\\Documents\\Major_Project\\ActionDetectionforSignLanguage-main\\Dataset\\Doctor\\65\n",
      "Creating directory: C:\\Users\\Qasim\\Documents\\Major_Project\\ActionDetectionforSignLanguage-main\\Dataset\\Doctor\\66\n",
      "Sequence directory already exists: C:\\Users\\Qasim\\Documents\\Major_Project\\ActionDetectionforSignLanguage-main\\Dataset\\Doctor\\66\n",
      "Creating directory: C:\\Users\\Qasim\\Documents\\Major_Project\\ActionDetectionforSignLanguage-main\\Dataset\\Doctor\\67\n",
      "Sequence directory already exists: C:\\Users\\Qasim\\Documents\\Major_Project\\ActionDetectionforSignLanguage-main\\Dataset\\Doctor\\67\n",
      "Creating directory: C:\\Users\\Qasim\\Documents\\Major_Project\\ActionDetectionforSignLanguage-main\\Dataset\\Doctor\\68\n",
      "Sequence directory already exists: C:\\Users\\Qasim\\Documents\\Major_Project\\ActionDetectionforSignLanguage-main\\Dataset\\Doctor\\68\n",
      "Creating directory: C:\\Users\\Qasim\\Documents\\Major_Project\\ActionDetectionforSignLanguage-main\\Dataset\\Doctor\\69\n",
      "Sequence directory already exists: C:\\Users\\Qasim\\Documents\\Major_Project\\ActionDetectionforSignLanguage-main\\Dataset\\Doctor\\69\n",
      "Creating directory: C:\\Users\\Qasim\\Documents\\Major_Project\\ActionDetectionforSignLanguage-main\\Dataset\\Doctor\\70\n",
      "Sequence directory already exists: C:\\Users\\Qasim\\Documents\\Major_Project\\ActionDetectionforSignLanguage-main\\Dataset\\Doctor\\70\n",
      "Creating directory: C:\\Users\\Qasim\\Documents\\Major_Project\\ActionDetectionforSignLanguage-main\\Dataset\\Doctor\\71\n",
      "Sequence directory already exists: C:\\Users\\Qasim\\Documents\\Major_Project\\ActionDetectionforSignLanguage-main\\Dataset\\Doctor\\71\n",
      "Creating directory: C:\\Users\\Qasim\\Documents\\Major_Project\\ActionDetectionforSignLanguage-main\\Dataset\\Doctor\\72\n",
      "Sequence directory already exists: C:\\Users\\Qasim\\Documents\\Major_Project\\ActionDetectionforSignLanguage-main\\Dataset\\Doctor\\72\n",
      "Creating directory: C:\\Users\\Qasim\\Documents\\Major_Project\\ActionDetectionforSignLanguage-main\\Dataset\\Doctor\\73\n",
      "Sequence directory already exists: C:\\Users\\Qasim\\Documents\\Major_Project\\ActionDetectionforSignLanguage-main\\Dataset\\Doctor\\73\n",
      "Creating directory: C:\\Users\\Qasim\\Documents\\Major_Project\\ActionDetectionforSignLanguage-main\\Dataset\\Doctor\\74\n",
      "Sequence directory already exists: C:\\Users\\Qasim\\Documents\\Major_Project\\ActionDetectionforSignLanguage-main\\Dataset\\Doctor\\74\n",
      "Creating directory: C:\\Users\\Qasim\\Documents\\Major_Project\\ActionDetectionforSignLanguage-main\\Dataset\\Doctor\\75\n",
      "Sequence directory already exists: C:\\Users\\Qasim\\Documents\\Major_Project\\ActionDetectionforSignLanguage-main\\Dataset\\Doctor\\75\n",
      "Creating directory: C:\\Users\\Qasim\\Documents\\Major_Project\\ActionDetectionforSignLanguage-main\\Dataset\\Doctor\\76\n",
      "Sequence directory already exists: C:\\Users\\Qasim\\Documents\\Major_Project\\ActionDetectionforSignLanguage-main\\Dataset\\Doctor\\76\n",
      "Creating directory: C:\\Users\\Qasim\\Documents\\Major_Project\\ActionDetectionforSignLanguage-main\\Dataset\\Doctor\\77\n",
      "Sequence directory already exists: C:\\Users\\Qasim\\Documents\\Major_Project\\ActionDetectionforSignLanguage-main\\Dataset\\Doctor\\77\n",
      "Creating directory: C:\\Users\\Qasim\\Documents\\Major_Project\\ActionDetectionforSignLanguage-main\\Dataset\\Doctor\\78\n",
      "Sequence directory already exists: C:\\Users\\Qasim\\Documents\\Major_Project\\ActionDetectionforSignLanguage-main\\Dataset\\Doctor\\78\n",
      "Creating directory: C:\\Users\\Qasim\\Documents\\Major_Project\\ActionDetectionforSignLanguage-main\\Dataset\\Doctor\\79\n",
      "Sequence directory already exists: C:\\Users\\Qasim\\Documents\\Major_Project\\ActionDetectionforSignLanguage-main\\Dataset\\Doctor\\79\n",
      "Creating directory: C:\\Users\\Qasim\\Documents\\Major_Project\\ActionDetectionforSignLanguage-main\\Dataset\\Doctor\\80\n",
      "Sequence directory already exists: C:\\Users\\Qasim\\Documents\\Major_Project\\ActionDetectionforSignLanguage-main\\Dataset\\Doctor\\80\n",
      "Creating directory: C:\\Users\\Qasim\\Documents\\Major_Project\\ActionDetectionforSignLanguage-main\\Dataset\\Doctor\\81\n",
      "Sequence directory already exists: C:\\Users\\Qasim\\Documents\\Major_Project\\ActionDetectionforSignLanguage-main\\Dataset\\Doctor\\81\n",
      "Creating directory: C:\\Users\\Qasim\\Documents\\Major_Project\\ActionDetectionforSignLanguage-main\\Dataset\\Doctor\\82\n",
      "Sequence directory already exists: C:\\Users\\Qasim\\Documents\\Major_Project\\ActionDetectionforSignLanguage-main\\Dataset\\Doctor\\82\n",
      "Creating directory: C:\\Users\\Qasim\\Documents\\Major_Project\\ActionDetectionforSignLanguage-main\\Dataset\\Doctor\\83\n",
      "Sequence directory already exists: C:\\Users\\Qasim\\Documents\\Major_Project\\ActionDetectionforSignLanguage-main\\Dataset\\Doctor\\83\n",
      "Creating directory: C:\\Users\\Qasim\\Documents\\Major_Project\\ActionDetectionforSignLanguage-main\\Dataset\\Doctor\\84\n",
      "Sequence directory already exists: C:\\Users\\Qasim\\Documents\\Major_Project\\ActionDetectionforSignLanguage-main\\Dataset\\Doctor\\84\n",
      "Creating directory: C:\\Users\\Qasim\\Documents\\Major_Project\\ActionDetectionforSignLanguage-main\\Dataset\\Doctor\\85\n",
      "Sequence directory already exists: C:\\Users\\Qasim\\Documents\\Major_Project\\ActionDetectionforSignLanguage-main\\Dataset\\Doctor\\85\n",
      "Creating directory: C:\\Users\\Qasim\\Documents\\Major_Project\\ActionDetectionforSignLanguage-main\\Dataset\\Doctor\\86\n",
      "Sequence directory already exists: C:\\Users\\Qasim\\Documents\\Major_Project\\ActionDetectionforSignLanguage-main\\Dataset\\Doctor\\86\n",
      "Creating directory: C:\\Users\\Qasim\\Documents\\Major_Project\\ActionDetectionforSignLanguage-main\\Dataset\\Doctor\\87\n",
      "Sequence directory already exists: C:\\Users\\Qasim\\Documents\\Major_Project\\ActionDetectionforSignLanguage-main\\Dataset\\Doctor\\87\n",
      "Creating directory: C:\\Users\\Qasim\\Documents\\Major_Project\\ActionDetectionforSignLanguage-main\\Dataset\\Doctor\\88\n",
      "Sequence directory already exists: C:\\Users\\Qasim\\Documents\\Major_Project\\ActionDetectionforSignLanguage-main\\Dataset\\Doctor\\88\n",
      "Creating directory: C:\\Users\\Qasim\\Documents\\Major_Project\\ActionDetectionforSignLanguage-main\\Dataset\\Doctor\\89\n",
      "Sequence directory already exists: C:\\Users\\Qasim\\Documents\\Major_Project\\ActionDetectionforSignLanguage-main\\Dataset\\Doctor\\89\n",
      "Creating directory: C:\\Users\\Qasim\\Documents\\Major_Project\\ActionDetectionforSignLanguage-main\\Dataset\\Doctor\\90\n",
      "Sequence directory already exists: C:\\Users\\Qasim\\Documents\\Major_Project\\ActionDetectionforSignLanguage-main\\Dataset\\Doctor\\90\n",
      "Checking action path: C:\\Users\\Qasim\\Documents\\Major_Project\\ActionDetectionforSignLanguage-main\\Dataset\\Help\n",
      "Directory already exists: C:\\Users\\Qasim\\Documents\\Major_Project\\ActionDetectionforSignLanguage-main\\Dataset\\Help\n",
      "Creating directory: C:\\Users\\Qasim\\Documents\\Major_Project\\ActionDetectionforSignLanguage-main\\Dataset\\Help\\61\n",
      "Sequence directory already exists: C:\\Users\\Qasim\\Documents\\Major_Project\\ActionDetectionforSignLanguage-main\\Dataset\\Help\\61\n",
      "Creating directory: C:\\Users\\Qasim\\Documents\\Major_Project\\ActionDetectionforSignLanguage-main\\Dataset\\Help\\62\n",
      "Sequence directory already exists: C:\\Users\\Qasim\\Documents\\Major_Project\\ActionDetectionforSignLanguage-main\\Dataset\\Help\\62\n",
      "Creating directory: C:\\Users\\Qasim\\Documents\\Major_Project\\ActionDetectionforSignLanguage-main\\Dataset\\Help\\63\n",
      "Sequence directory already exists: C:\\Users\\Qasim\\Documents\\Major_Project\\ActionDetectionforSignLanguage-main\\Dataset\\Help\\63\n",
      "Creating directory: C:\\Users\\Qasim\\Documents\\Major_Project\\ActionDetectionforSignLanguage-main\\Dataset\\Help\\64\n",
      "Sequence directory already exists: C:\\Users\\Qasim\\Documents\\Major_Project\\ActionDetectionforSignLanguage-main\\Dataset\\Help\\64\n",
      "Creating directory: C:\\Users\\Qasim\\Documents\\Major_Project\\ActionDetectionforSignLanguage-main\\Dataset\\Help\\65\n",
      "Sequence directory already exists: C:\\Users\\Qasim\\Documents\\Major_Project\\ActionDetectionforSignLanguage-main\\Dataset\\Help\\65\n",
      "Creating directory: C:\\Users\\Qasim\\Documents\\Major_Project\\ActionDetectionforSignLanguage-main\\Dataset\\Help\\66\n",
      "Sequence directory already exists: C:\\Users\\Qasim\\Documents\\Major_Project\\ActionDetectionforSignLanguage-main\\Dataset\\Help\\66\n",
      "Creating directory: C:\\Users\\Qasim\\Documents\\Major_Project\\ActionDetectionforSignLanguage-main\\Dataset\\Help\\67\n",
      "Sequence directory already exists: C:\\Users\\Qasim\\Documents\\Major_Project\\ActionDetectionforSignLanguage-main\\Dataset\\Help\\67\n",
      "Creating directory: C:\\Users\\Qasim\\Documents\\Major_Project\\ActionDetectionforSignLanguage-main\\Dataset\\Help\\68\n",
      "Sequence directory already exists: C:\\Users\\Qasim\\Documents\\Major_Project\\ActionDetectionforSignLanguage-main\\Dataset\\Help\\68\n",
      "Creating directory: C:\\Users\\Qasim\\Documents\\Major_Project\\ActionDetectionforSignLanguage-main\\Dataset\\Help\\69\n",
      "Sequence directory already exists: C:\\Users\\Qasim\\Documents\\Major_Project\\ActionDetectionforSignLanguage-main\\Dataset\\Help\\69\n",
      "Creating directory: C:\\Users\\Qasim\\Documents\\Major_Project\\ActionDetectionforSignLanguage-main\\Dataset\\Help\\70\n",
      "Sequence directory already exists: C:\\Users\\Qasim\\Documents\\Major_Project\\ActionDetectionforSignLanguage-main\\Dataset\\Help\\70\n",
      "Creating directory: C:\\Users\\Qasim\\Documents\\Major_Project\\ActionDetectionforSignLanguage-main\\Dataset\\Help\\71\n",
      "Sequence directory already exists: C:\\Users\\Qasim\\Documents\\Major_Project\\ActionDetectionforSignLanguage-main\\Dataset\\Help\\71\n",
      "Creating directory: C:\\Users\\Qasim\\Documents\\Major_Project\\ActionDetectionforSignLanguage-main\\Dataset\\Help\\72\n",
      "Sequence directory already exists: C:\\Users\\Qasim\\Documents\\Major_Project\\ActionDetectionforSignLanguage-main\\Dataset\\Help\\72\n",
      "Creating directory: C:\\Users\\Qasim\\Documents\\Major_Project\\ActionDetectionforSignLanguage-main\\Dataset\\Help\\73\n",
      "Sequence directory already exists: C:\\Users\\Qasim\\Documents\\Major_Project\\ActionDetectionforSignLanguage-main\\Dataset\\Help\\73\n",
      "Creating directory: C:\\Users\\Qasim\\Documents\\Major_Project\\ActionDetectionforSignLanguage-main\\Dataset\\Help\\74\n",
      "Sequence directory already exists: C:\\Users\\Qasim\\Documents\\Major_Project\\ActionDetectionforSignLanguage-main\\Dataset\\Help\\74\n",
      "Creating directory: C:\\Users\\Qasim\\Documents\\Major_Project\\ActionDetectionforSignLanguage-main\\Dataset\\Help\\75\n",
      "Sequence directory already exists: C:\\Users\\Qasim\\Documents\\Major_Project\\ActionDetectionforSignLanguage-main\\Dataset\\Help\\75\n",
      "Creating directory: C:\\Users\\Qasim\\Documents\\Major_Project\\ActionDetectionforSignLanguage-main\\Dataset\\Help\\76\n",
      "Sequence directory already exists: C:\\Users\\Qasim\\Documents\\Major_Project\\ActionDetectionforSignLanguage-main\\Dataset\\Help\\76\n",
      "Creating directory: C:\\Users\\Qasim\\Documents\\Major_Project\\ActionDetectionforSignLanguage-main\\Dataset\\Help\\77\n",
      "Sequence directory already exists: C:\\Users\\Qasim\\Documents\\Major_Project\\ActionDetectionforSignLanguage-main\\Dataset\\Help\\77\n",
      "Creating directory: C:\\Users\\Qasim\\Documents\\Major_Project\\ActionDetectionforSignLanguage-main\\Dataset\\Help\\78\n",
      "Sequence directory already exists: C:\\Users\\Qasim\\Documents\\Major_Project\\ActionDetectionforSignLanguage-main\\Dataset\\Help\\78\n",
      "Creating directory: C:\\Users\\Qasim\\Documents\\Major_Project\\ActionDetectionforSignLanguage-main\\Dataset\\Help\\79\n",
      "Sequence directory already exists: C:\\Users\\Qasim\\Documents\\Major_Project\\ActionDetectionforSignLanguage-main\\Dataset\\Help\\79\n",
      "Creating directory: C:\\Users\\Qasim\\Documents\\Major_Project\\ActionDetectionforSignLanguage-main\\Dataset\\Help\\80\n",
      "Sequence directory already exists: C:\\Users\\Qasim\\Documents\\Major_Project\\ActionDetectionforSignLanguage-main\\Dataset\\Help\\80\n",
      "Creating directory: C:\\Users\\Qasim\\Documents\\Major_Project\\ActionDetectionforSignLanguage-main\\Dataset\\Help\\81\n",
      "Sequence directory already exists: C:\\Users\\Qasim\\Documents\\Major_Project\\ActionDetectionforSignLanguage-main\\Dataset\\Help\\81\n",
      "Creating directory: C:\\Users\\Qasim\\Documents\\Major_Project\\ActionDetectionforSignLanguage-main\\Dataset\\Help\\82\n",
      "Sequence directory already exists: C:\\Users\\Qasim\\Documents\\Major_Project\\ActionDetectionforSignLanguage-main\\Dataset\\Help\\82\n",
      "Creating directory: C:\\Users\\Qasim\\Documents\\Major_Project\\ActionDetectionforSignLanguage-main\\Dataset\\Help\\83\n",
      "Sequence directory already exists: C:\\Users\\Qasim\\Documents\\Major_Project\\ActionDetectionforSignLanguage-main\\Dataset\\Help\\83\n",
      "Creating directory: C:\\Users\\Qasim\\Documents\\Major_Project\\ActionDetectionforSignLanguage-main\\Dataset\\Help\\84\n",
      "Sequence directory already exists: C:\\Users\\Qasim\\Documents\\Major_Project\\ActionDetectionforSignLanguage-main\\Dataset\\Help\\84\n",
      "Creating directory: C:\\Users\\Qasim\\Documents\\Major_Project\\ActionDetectionforSignLanguage-main\\Dataset\\Help\\85\n",
      "Sequence directory already exists: C:\\Users\\Qasim\\Documents\\Major_Project\\ActionDetectionforSignLanguage-main\\Dataset\\Help\\85\n",
      "Creating directory: C:\\Users\\Qasim\\Documents\\Major_Project\\ActionDetectionforSignLanguage-main\\Dataset\\Help\\86\n",
      "Sequence directory already exists: C:\\Users\\Qasim\\Documents\\Major_Project\\ActionDetectionforSignLanguage-main\\Dataset\\Help\\86\n",
      "Creating directory: C:\\Users\\Qasim\\Documents\\Major_Project\\ActionDetectionforSignLanguage-main\\Dataset\\Help\\87\n",
      "Sequence directory already exists: C:\\Users\\Qasim\\Documents\\Major_Project\\ActionDetectionforSignLanguage-main\\Dataset\\Help\\87\n",
      "Creating directory: C:\\Users\\Qasim\\Documents\\Major_Project\\ActionDetectionforSignLanguage-main\\Dataset\\Help\\88\n",
      "Sequence directory already exists: C:\\Users\\Qasim\\Documents\\Major_Project\\ActionDetectionforSignLanguage-main\\Dataset\\Help\\88\n",
      "Creating directory: C:\\Users\\Qasim\\Documents\\Major_Project\\ActionDetectionforSignLanguage-main\\Dataset\\Help\\89\n",
      "Sequence directory already exists: C:\\Users\\Qasim\\Documents\\Major_Project\\ActionDetectionforSignLanguage-main\\Dataset\\Help\\89\n",
      "Creating directory: C:\\Users\\Qasim\\Documents\\Major_Project\\ActionDetectionforSignLanguage-main\\Dataset\\Help\\90\n",
      "Sequence directory already exists: C:\\Users\\Qasim\\Documents\\Major_Project\\ActionDetectionforSignLanguage-main\\Dataset\\Help\\90\n",
      "Checking action path: C:\\Users\\Qasim\\Documents\\Major_Project\\ActionDetectionforSignLanguage-main\\Dataset\\Hot\n",
      "Directory already exists: C:\\Users\\Qasim\\Documents\\Major_Project\\ActionDetectionforSignLanguage-main\\Dataset\\Hot\n",
      "Creating directory: C:\\Users\\Qasim\\Documents\\Major_Project\\ActionDetectionforSignLanguage-main\\Dataset\\Hot\\61\n",
      "Sequence directory already exists: C:\\Users\\Qasim\\Documents\\Major_Project\\ActionDetectionforSignLanguage-main\\Dataset\\Hot\\61\n",
      "Creating directory: C:\\Users\\Qasim\\Documents\\Major_Project\\ActionDetectionforSignLanguage-main\\Dataset\\Hot\\62\n",
      "Sequence directory already exists: C:\\Users\\Qasim\\Documents\\Major_Project\\ActionDetectionforSignLanguage-main\\Dataset\\Hot\\62\n",
      "Creating directory: C:\\Users\\Qasim\\Documents\\Major_Project\\ActionDetectionforSignLanguage-main\\Dataset\\Hot\\63\n",
      "Sequence directory already exists: C:\\Users\\Qasim\\Documents\\Major_Project\\ActionDetectionforSignLanguage-main\\Dataset\\Hot\\63\n",
      "Creating directory: C:\\Users\\Qasim\\Documents\\Major_Project\\ActionDetectionforSignLanguage-main\\Dataset\\Hot\\64\n",
      "Sequence directory already exists: C:\\Users\\Qasim\\Documents\\Major_Project\\ActionDetectionforSignLanguage-main\\Dataset\\Hot\\64\n",
      "Creating directory: C:\\Users\\Qasim\\Documents\\Major_Project\\ActionDetectionforSignLanguage-main\\Dataset\\Hot\\65\n",
      "Sequence directory already exists: C:\\Users\\Qasim\\Documents\\Major_Project\\ActionDetectionforSignLanguage-main\\Dataset\\Hot\\65\n",
      "Creating directory: C:\\Users\\Qasim\\Documents\\Major_Project\\ActionDetectionforSignLanguage-main\\Dataset\\Hot\\66\n",
      "Sequence directory already exists: C:\\Users\\Qasim\\Documents\\Major_Project\\ActionDetectionforSignLanguage-main\\Dataset\\Hot\\66\n",
      "Creating directory: C:\\Users\\Qasim\\Documents\\Major_Project\\ActionDetectionforSignLanguage-main\\Dataset\\Hot\\67\n",
      "Sequence directory already exists: C:\\Users\\Qasim\\Documents\\Major_Project\\ActionDetectionforSignLanguage-main\\Dataset\\Hot\\67\n",
      "Creating directory: C:\\Users\\Qasim\\Documents\\Major_Project\\ActionDetectionforSignLanguage-main\\Dataset\\Hot\\68\n",
      "Sequence directory already exists: C:\\Users\\Qasim\\Documents\\Major_Project\\ActionDetectionforSignLanguage-main\\Dataset\\Hot\\68\n",
      "Creating directory: C:\\Users\\Qasim\\Documents\\Major_Project\\ActionDetectionforSignLanguage-main\\Dataset\\Hot\\69\n",
      "Sequence directory already exists: C:\\Users\\Qasim\\Documents\\Major_Project\\ActionDetectionforSignLanguage-main\\Dataset\\Hot\\69\n",
      "Creating directory: C:\\Users\\Qasim\\Documents\\Major_Project\\ActionDetectionforSignLanguage-main\\Dataset\\Hot\\70\n",
      "Sequence directory already exists: C:\\Users\\Qasim\\Documents\\Major_Project\\ActionDetectionforSignLanguage-main\\Dataset\\Hot\\70\n",
      "Creating directory: C:\\Users\\Qasim\\Documents\\Major_Project\\ActionDetectionforSignLanguage-main\\Dataset\\Hot\\71\n",
      "Sequence directory already exists: C:\\Users\\Qasim\\Documents\\Major_Project\\ActionDetectionforSignLanguage-main\\Dataset\\Hot\\71\n",
      "Creating directory: C:\\Users\\Qasim\\Documents\\Major_Project\\ActionDetectionforSignLanguage-main\\Dataset\\Hot\\72\n",
      "Sequence directory already exists: C:\\Users\\Qasim\\Documents\\Major_Project\\ActionDetectionforSignLanguage-main\\Dataset\\Hot\\72\n",
      "Creating directory: C:\\Users\\Qasim\\Documents\\Major_Project\\ActionDetectionforSignLanguage-main\\Dataset\\Hot\\73\n",
      "Sequence directory already exists: C:\\Users\\Qasim\\Documents\\Major_Project\\ActionDetectionforSignLanguage-main\\Dataset\\Hot\\73\n",
      "Creating directory: C:\\Users\\Qasim\\Documents\\Major_Project\\ActionDetectionforSignLanguage-main\\Dataset\\Hot\\74\n",
      "Sequence directory already exists: C:\\Users\\Qasim\\Documents\\Major_Project\\ActionDetectionforSignLanguage-main\\Dataset\\Hot\\74\n",
      "Creating directory: C:\\Users\\Qasim\\Documents\\Major_Project\\ActionDetectionforSignLanguage-main\\Dataset\\Hot\\75\n",
      "Sequence directory already exists: C:\\Users\\Qasim\\Documents\\Major_Project\\ActionDetectionforSignLanguage-main\\Dataset\\Hot\\75\n",
      "Creating directory: C:\\Users\\Qasim\\Documents\\Major_Project\\ActionDetectionforSignLanguage-main\\Dataset\\Hot\\76\n",
      "Sequence directory already exists: C:\\Users\\Qasim\\Documents\\Major_Project\\ActionDetectionforSignLanguage-main\\Dataset\\Hot\\76\n",
      "Creating directory: C:\\Users\\Qasim\\Documents\\Major_Project\\ActionDetectionforSignLanguage-main\\Dataset\\Hot\\77\n",
      "Sequence directory already exists: C:\\Users\\Qasim\\Documents\\Major_Project\\ActionDetectionforSignLanguage-main\\Dataset\\Hot\\77\n",
      "Creating directory: C:\\Users\\Qasim\\Documents\\Major_Project\\ActionDetectionforSignLanguage-main\\Dataset\\Hot\\78\n",
      "Sequence directory already exists: C:\\Users\\Qasim\\Documents\\Major_Project\\ActionDetectionforSignLanguage-main\\Dataset\\Hot\\78\n",
      "Creating directory: C:\\Users\\Qasim\\Documents\\Major_Project\\ActionDetectionforSignLanguage-main\\Dataset\\Hot\\79\n",
      "Sequence directory already exists: C:\\Users\\Qasim\\Documents\\Major_Project\\ActionDetectionforSignLanguage-main\\Dataset\\Hot\\79\n",
      "Creating directory: C:\\Users\\Qasim\\Documents\\Major_Project\\ActionDetectionforSignLanguage-main\\Dataset\\Hot\\80\n",
      "Sequence directory already exists: C:\\Users\\Qasim\\Documents\\Major_Project\\ActionDetectionforSignLanguage-main\\Dataset\\Hot\\80\n",
      "Creating directory: C:\\Users\\Qasim\\Documents\\Major_Project\\ActionDetectionforSignLanguage-main\\Dataset\\Hot\\81\n",
      "Sequence directory already exists: C:\\Users\\Qasim\\Documents\\Major_Project\\ActionDetectionforSignLanguage-main\\Dataset\\Hot\\81\n",
      "Creating directory: C:\\Users\\Qasim\\Documents\\Major_Project\\ActionDetectionforSignLanguage-main\\Dataset\\Hot\\82\n",
      "Sequence directory already exists: C:\\Users\\Qasim\\Documents\\Major_Project\\ActionDetectionforSignLanguage-main\\Dataset\\Hot\\82\n",
      "Creating directory: C:\\Users\\Qasim\\Documents\\Major_Project\\ActionDetectionforSignLanguage-main\\Dataset\\Hot\\83\n",
      "Sequence directory already exists: C:\\Users\\Qasim\\Documents\\Major_Project\\ActionDetectionforSignLanguage-main\\Dataset\\Hot\\83\n",
      "Creating directory: C:\\Users\\Qasim\\Documents\\Major_Project\\ActionDetectionforSignLanguage-main\\Dataset\\Hot\\84\n",
      "Sequence directory already exists: C:\\Users\\Qasim\\Documents\\Major_Project\\ActionDetectionforSignLanguage-main\\Dataset\\Hot\\84\n",
      "Creating directory: C:\\Users\\Qasim\\Documents\\Major_Project\\ActionDetectionforSignLanguage-main\\Dataset\\Hot\\85\n",
      "Sequence directory already exists: C:\\Users\\Qasim\\Documents\\Major_Project\\ActionDetectionforSignLanguage-main\\Dataset\\Hot\\85\n",
      "Creating directory: C:\\Users\\Qasim\\Documents\\Major_Project\\ActionDetectionforSignLanguage-main\\Dataset\\Hot\\86\n",
      "Sequence directory already exists: C:\\Users\\Qasim\\Documents\\Major_Project\\ActionDetectionforSignLanguage-main\\Dataset\\Hot\\86\n",
      "Creating directory: C:\\Users\\Qasim\\Documents\\Major_Project\\ActionDetectionforSignLanguage-main\\Dataset\\Hot\\87\n",
      "Sequence directory already exists: C:\\Users\\Qasim\\Documents\\Major_Project\\ActionDetectionforSignLanguage-main\\Dataset\\Hot\\87\n",
      "Creating directory: C:\\Users\\Qasim\\Documents\\Major_Project\\ActionDetectionforSignLanguage-main\\Dataset\\Hot\\88\n",
      "Sequence directory already exists: C:\\Users\\Qasim\\Documents\\Major_Project\\ActionDetectionforSignLanguage-main\\Dataset\\Hot\\88\n",
      "Creating directory: C:\\Users\\Qasim\\Documents\\Major_Project\\ActionDetectionforSignLanguage-main\\Dataset\\Hot\\89\n",
      "Sequence directory already exists: C:\\Users\\Qasim\\Documents\\Major_Project\\ActionDetectionforSignLanguage-main\\Dataset\\Hot\\89\n",
      "Creating directory: C:\\Users\\Qasim\\Documents\\Major_Project\\ActionDetectionforSignLanguage-main\\Dataset\\Hot\\90\n",
      "Sequence directory already exists: C:\\Users\\Qasim\\Documents\\Major_Project\\ActionDetectionforSignLanguage-main\\Dataset\\Hot\\90\n",
      "Checking action path: C:\\Users\\Qasim\\Documents\\Major_Project\\ActionDetectionforSignLanguage-main\\Dataset\\Lose\n",
      "Directory already exists: C:\\Users\\Qasim\\Documents\\Major_Project\\ActionDetectionforSignLanguage-main\\Dataset\\Lose\n",
      "Creating directory: C:\\Users\\Qasim\\Documents\\Major_Project\\ActionDetectionforSignLanguage-main\\Dataset\\Lose\\61\n",
      "Sequence directory already exists: C:\\Users\\Qasim\\Documents\\Major_Project\\ActionDetectionforSignLanguage-main\\Dataset\\Lose\\61\n",
      "Creating directory: C:\\Users\\Qasim\\Documents\\Major_Project\\ActionDetectionforSignLanguage-main\\Dataset\\Lose\\62\n",
      "Sequence directory already exists: C:\\Users\\Qasim\\Documents\\Major_Project\\ActionDetectionforSignLanguage-main\\Dataset\\Lose\\62\n",
      "Creating directory: C:\\Users\\Qasim\\Documents\\Major_Project\\ActionDetectionforSignLanguage-main\\Dataset\\Lose\\63\n",
      "Sequence directory already exists: C:\\Users\\Qasim\\Documents\\Major_Project\\ActionDetectionforSignLanguage-main\\Dataset\\Lose\\63\n",
      "Creating directory: C:\\Users\\Qasim\\Documents\\Major_Project\\ActionDetectionforSignLanguage-main\\Dataset\\Lose\\64\n",
      "Sequence directory already exists: C:\\Users\\Qasim\\Documents\\Major_Project\\ActionDetectionforSignLanguage-main\\Dataset\\Lose\\64\n",
      "Creating directory: C:\\Users\\Qasim\\Documents\\Major_Project\\ActionDetectionforSignLanguage-main\\Dataset\\Lose\\65\n",
      "Sequence directory already exists: C:\\Users\\Qasim\\Documents\\Major_Project\\ActionDetectionforSignLanguage-main\\Dataset\\Lose\\65\n",
      "Creating directory: C:\\Users\\Qasim\\Documents\\Major_Project\\ActionDetectionforSignLanguage-main\\Dataset\\Lose\\66\n",
      "Sequence directory already exists: C:\\Users\\Qasim\\Documents\\Major_Project\\ActionDetectionforSignLanguage-main\\Dataset\\Lose\\66\n",
      "Creating directory: C:\\Users\\Qasim\\Documents\\Major_Project\\ActionDetectionforSignLanguage-main\\Dataset\\Lose\\67\n",
      "Sequence directory already exists: C:\\Users\\Qasim\\Documents\\Major_Project\\ActionDetectionforSignLanguage-main\\Dataset\\Lose\\67\n",
      "Creating directory: C:\\Users\\Qasim\\Documents\\Major_Project\\ActionDetectionforSignLanguage-main\\Dataset\\Lose\\68\n",
      "Sequence directory already exists: C:\\Users\\Qasim\\Documents\\Major_Project\\ActionDetectionforSignLanguage-main\\Dataset\\Lose\\68\n",
      "Creating directory: C:\\Users\\Qasim\\Documents\\Major_Project\\ActionDetectionforSignLanguage-main\\Dataset\\Lose\\69\n",
      "Sequence directory already exists: C:\\Users\\Qasim\\Documents\\Major_Project\\ActionDetectionforSignLanguage-main\\Dataset\\Lose\\69\n",
      "Creating directory: C:\\Users\\Qasim\\Documents\\Major_Project\\ActionDetectionforSignLanguage-main\\Dataset\\Lose\\70\n",
      "Sequence directory already exists: C:\\Users\\Qasim\\Documents\\Major_Project\\ActionDetectionforSignLanguage-main\\Dataset\\Lose\\70\n",
      "Creating directory: C:\\Users\\Qasim\\Documents\\Major_Project\\ActionDetectionforSignLanguage-main\\Dataset\\Lose\\71\n",
      "Sequence directory already exists: C:\\Users\\Qasim\\Documents\\Major_Project\\ActionDetectionforSignLanguage-main\\Dataset\\Lose\\71\n",
      "Creating directory: C:\\Users\\Qasim\\Documents\\Major_Project\\ActionDetectionforSignLanguage-main\\Dataset\\Lose\\72\n",
      "Sequence directory already exists: C:\\Users\\Qasim\\Documents\\Major_Project\\ActionDetectionforSignLanguage-main\\Dataset\\Lose\\72\n",
      "Creating directory: C:\\Users\\Qasim\\Documents\\Major_Project\\ActionDetectionforSignLanguage-main\\Dataset\\Lose\\73\n",
      "Sequence directory already exists: C:\\Users\\Qasim\\Documents\\Major_Project\\ActionDetectionforSignLanguage-main\\Dataset\\Lose\\73\n",
      "Creating directory: C:\\Users\\Qasim\\Documents\\Major_Project\\ActionDetectionforSignLanguage-main\\Dataset\\Lose\\74\n",
      "Sequence directory already exists: C:\\Users\\Qasim\\Documents\\Major_Project\\ActionDetectionforSignLanguage-main\\Dataset\\Lose\\74\n",
      "Creating directory: C:\\Users\\Qasim\\Documents\\Major_Project\\ActionDetectionforSignLanguage-main\\Dataset\\Lose\\75\n",
      "Sequence directory already exists: C:\\Users\\Qasim\\Documents\\Major_Project\\ActionDetectionforSignLanguage-main\\Dataset\\Lose\\75\n",
      "Creating directory: C:\\Users\\Qasim\\Documents\\Major_Project\\ActionDetectionforSignLanguage-main\\Dataset\\Lose\\76\n",
      "Sequence directory already exists: C:\\Users\\Qasim\\Documents\\Major_Project\\ActionDetectionforSignLanguage-main\\Dataset\\Lose\\76\n",
      "Creating directory: C:\\Users\\Qasim\\Documents\\Major_Project\\ActionDetectionforSignLanguage-main\\Dataset\\Lose\\77\n",
      "Sequence directory already exists: C:\\Users\\Qasim\\Documents\\Major_Project\\ActionDetectionforSignLanguage-main\\Dataset\\Lose\\77\n",
      "Creating directory: C:\\Users\\Qasim\\Documents\\Major_Project\\ActionDetectionforSignLanguage-main\\Dataset\\Lose\\78\n",
      "Sequence directory already exists: C:\\Users\\Qasim\\Documents\\Major_Project\\ActionDetectionforSignLanguage-main\\Dataset\\Lose\\78\n",
      "Creating directory: C:\\Users\\Qasim\\Documents\\Major_Project\\ActionDetectionforSignLanguage-main\\Dataset\\Lose\\79\n",
      "Sequence directory already exists: C:\\Users\\Qasim\\Documents\\Major_Project\\ActionDetectionforSignLanguage-main\\Dataset\\Lose\\79\n",
      "Creating directory: C:\\Users\\Qasim\\Documents\\Major_Project\\ActionDetectionforSignLanguage-main\\Dataset\\Lose\\80\n",
      "Sequence directory already exists: C:\\Users\\Qasim\\Documents\\Major_Project\\ActionDetectionforSignLanguage-main\\Dataset\\Lose\\80\n",
      "Creating directory: C:\\Users\\Qasim\\Documents\\Major_Project\\ActionDetectionforSignLanguage-main\\Dataset\\Lose\\81\n",
      "Sequence directory already exists: C:\\Users\\Qasim\\Documents\\Major_Project\\ActionDetectionforSignLanguage-main\\Dataset\\Lose\\81\n",
      "Creating directory: C:\\Users\\Qasim\\Documents\\Major_Project\\ActionDetectionforSignLanguage-main\\Dataset\\Lose\\82\n",
      "Sequence directory already exists: C:\\Users\\Qasim\\Documents\\Major_Project\\ActionDetectionforSignLanguage-main\\Dataset\\Lose\\82\n",
      "Creating directory: C:\\Users\\Qasim\\Documents\\Major_Project\\ActionDetectionforSignLanguage-main\\Dataset\\Lose\\83\n",
      "Sequence directory already exists: C:\\Users\\Qasim\\Documents\\Major_Project\\ActionDetectionforSignLanguage-main\\Dataset\\Lose\\83\n",
      "Creating directory: C:\\Users\\Qasim\\Documents\\Major_Project\\ActionDetectionforSignLanguage-main\\Dataset\\Lose\\84\n",
      "Sequence directory already exists: C:\\Users\\Qasim\\Documents\\Major_Project\\ActionDetectionforSignLanguage-main\\Dataset\\Lose\\84\n",
      "Creating directory: C:\\Users\\Qasim\\Documents\\Major_Project\\ActionDetectionforSignLanguage-main\\Dataset\\Lose\\85\n",
      "Sequence directory already exists: C:\\Users\\Qasim\\Documents\\Major_Project\\ActionDetectionforSignLanguage-main\\Dataset\\Lose\\85\n",
      "Creating directory: C:\\Users\\Qasim\\Documents\\Major_Project\\ActionDetectionforSignLanguage-main\\Dataset\\Lose\\86\n",
      "Sequence directory already exists: C:\\Users\\Qasim\\Documents\\Major_Project\\ActionDetectionforSignLanguage-main\\Dataset\\Lose\\86\n",
      "Creating directory: C:\\Users\\Qasim\\Documents\\Major_Project\\ActionDetectionforSignLanguage-main\\Dataset\\Lose\\87\n",
      "Sequence directory already exists: C:\\Users\\Qasim\\Documents\\Major_Project\\ActionDetectionforSignLanguage-main\\Dataset\\Lose\\87\n",
      "Creating directory: C:\\Users\\Qasim\\Documents\\Major_Project\\ActionDetectionforSignLanguage-main\\Dataset\\Lose\\88\n",
      "Sequence directory already exists: C:\\Users\\Qasim\\Documents\\Major_Project\\ActionDetectionforSignLanguage-main\\Dataset\\Lose\\88\n",
      "Creating directory: C:\\Users\\Qasim\\Documents\\Major_Project\\ActionDetectionforSignLanguage-main\\Dataset\\Lose\\89\n",
      "Sequence directory already exists: C:\\Users\\Qasim\\Documents\\Major_Project\\ActionDetectionforSignLanguage-main\\Dataset\\Lose\\89\n",
      "Creating directory: C:\\Users\\Qasim\\Documents\\Major_Project\\ActionDetectionforSignLanguage-main\\Dataset\\Lose\\90\n",
      "Sequence directory already exists: C:\\Users\\Qasim\\Documents\\Major_Project\\ActionDetectionforSignLanguage-main\\Dataset\\Lose\\90\n",
      "Checking action path: C:\\Users\\Qasim\\Documents\\Major_Project\\ActionDetectionforSignLanguage-main\\Dataset\\Pain\n",
      "Directory already exists: C:\\Users\\Qasim\\Documents\\Major_Project\\ActionDetectionforSignLanguage-main\\Dataset\\Pain\n",
      "Creating directory: C:\\Users\\Qasim\\Documents\\Major_Project\\ActionDetectionforSignLanguage-main\\Dataset\\Pain\\61\n",
      "Sequence directory already exists: C:\\Users\\Qasim\\Documents\\Major_Project\\ActionDetectionforSignLanguage-main\\Dataset\\Pain\\61\n",
      "Creating directory: C:\\Users\\Qasim\\Documents\\Major_Project\\ActionDetectionforSignLanguage-main\\Dataset\\Pain\\62\n",
      "Sequence directory already exists: C:\\Users\\Qasim\\Documents\\Major_Project\\ActionDetectionforSignLanguage-main\\Dataset\\Pain\\62\n",
      "Creating directory: C:\\Users\\Qasim\\Documents\\Major_Project\\ActionDetectionforSignLanguage-main\\Dataset\\Pain\\63\n",
      "Sequence directory already exists: C:\\Users\\Qasim\\Documents\\Major_Project\\ActionDetectionforSignLanguage-main\\Dataset\\Pain\\63\n",
      "Creating directory: C:\\Users\\Qasim\\Documents\\Major_Project\\ActionDetectionforSignLanguage-main\\Dataset\\Pain\\64\n",
      "Sequence directory already exists: C:\\Users\\Qasim\\Documents\\Major_Project\\ActionDetectionforSignLanguage-main\\Dataset\\Pain\\64\n",
      "Creating directory: C:\\Users\\Qasim\\Documents\\Major_Project\\ActionDetectionforSignLanguage-main\\Dataset\\Pain\\65\n",
      "Sequence directory already exists: C:\\Users\\Qasim\\Documents\\Major_Project\\ActionDetectionforSignLanguage-main\\Dataset\\Pain\\65\n",
      "Creating directory: C:\\Users\\Qasim\\Documents\\Major_Project\\ActionDetectionforSignLanguage-main\\Dataset\\Pain\\66\n",
      "Sequence directory already exists: C:\\Users\\Qasim\\Documents\\Major_Project\\ActionDetectionforSignLanguage-main\\Dataset\\Pain\\66\n",
      "Creating directory: C:\\Users\\Qasim\\Documents\\Major_Project\\ActionDetectionforSignLanguage-main\\Dataset\\Pain\\67\n",
      "Sequence directory already exists: C:\\Users\\Qasim\\Documents\\Major_Project\\ActionDetectionforSignLanguage-main\\Dataset\\Pain\\67\n",
      "Creating directory: C:\\Users\\Qasim\\Documents\\Major_Project\\ActionDetectionforSignLanguage-main\\Dataset\\Pain\\68\n",
      "Sequence directory already exists: C:\\Users\\Qasim\\Documents\\Major_Project\\ActionDetectionforSignLanguage-main\\Dataset\\Pain\\68\n",
      "Creating directory: C:\\Users\\Qasim\\Documents\\Major_Project\\ActionDetectionforSignLanguage-main\\Dataset\\Pain\\69\n",
      "Sequence directory already exists: C:\\Users\\Qasim\\Documents\\Major_Project\\ActionDetectionforSignLanguage-main\\Dataset\\Pain\\69\n",
      "Creating directory: C:\\Users\\Qasim\\Documents\\Major_Project\\ActionDetectionforSignLanguage-main\\Dataset\\Pain\\70\n",
      "Sequence directory already exists: C:\\Users\\Qasim\\Documents\\Major_Project\\ActionDetectionforSignLanguage-main\\Dataset\\Pain\\70\n",
      "Creating directory: C:\\Users\\Qasim\\Documents\\Major_Project\\ActionDetectionforSignLanguage-main\\Dataset\\Pain\\71\n",
      "Sequence directory already exists: C:\\Users\\Qasim\\Documents\\Major_Project\\ActionDetectionforSignLanguage-main\\Dataset\\Pain\\71\n",
      "Creating directory: C:\\Users\\Qasim\\Documents\\Major_Project\\ActionDetectionforSignLanguage-main\\Dataset\\Pain\\72\n",
      "Sequence directory already exists: C:\\Users\\Qasim\\Documents\\Major_Project\\ActionDetectionforSignLanguage-main\\Dataset\\Pain\\72\n",
      "Creating directory: C:\\Users\\Qasim\\Documents\\Major_Project\\ActionDetectionforSignLanguage-main\\Dataset\\Pain\\73\n",
      "Sequence directory already exists: C:\\Users\\Qasim\\Documents\\Major_Project\\ActionDetectionforSignLanguage-main\\Dataset\\Pain\\73\n",
      "Creating directory: C:\\Users\\Qasim\\Documents\\Major_Project\\ActionDetectionforSignLanguage-main\\Dataset\\Pain\\74\n",
      "Sequence directory already exists: C:\\Users\\Qasim\\Documents\\Major_Project\\ActionDetectionforSignLanguage-main\\Dataset\\Pain\\74\n",
      "Creating directory: C:\\Users\\Qasim\\Documents\\Major_Project\\ActionDetectionforSignLanguage-main\\Dataset\\Pain\\75\n",
      "Sequence directory already exists: C:\\Users\\Qasim\\Documents\\Major_Project\\ActionDetectionforSignLanguage-main\\Dataset\\Pain\\75\n",
      "Creating directory: C:\\Users\\Qasim\\Documents\\Major_Project\\ActionDetectionforSignLanguage-main\\Dataset\\Pain\\76\n",
      "Sequence directory already exists: C:\\Users\\Qasim\\Documents\\Major_Project\\ActionDetectionforSignLanguage-main\\Dataset\\Pain\\76\n",
      "Creating directory: C:\\Users\\Qasim\\Documents\\Major_Project\\ActionDetectionforSignLanguage-main\\Dataset\\Pain\\77\n",
      "Sequence directory already exists: C:\\Users\\Qasim\\Documents\\Major_Project\\ActionDetectionforSignLanguage-main\\Dataset\\Pain\\77\n",
      "Creating directory: C:\\Users\\Qasim\\Documents\\Major_Project\\ActionDetectionforSignLanguage-main\\Dataset\\Pain\\78\n",
      "Sequence directory already exists: C:\\Users\\Qasim\\Documents\\Major_Project\\ActionDetectionforSignLanguage-main\\Dataset\\Pain\\78\n",
      "Creating directory: C:\\Users\\Qasim\\Documents\\Major_Project\\ActionDetectionforSignLanguage-main\\Dataset\\Pain\\79\n",
      "Sequence directory already exists: C:\\Users\\Qasim\\Documents\\Major_Project\\ActionDetectionforSignLanguage-main\\Dataset\\Pain\\79\n",
      "Creating directory: C:\\Users\\Qasim\\Documents\\Major_Project\\ActionDetectionforSignLanguage-main\\Dataset\\Pain\\80\n",
      "Sequence directory already exists: C:\\Users\\Qasim\\Documents\\Major_Project\\ActionDetectionforSignLanguage-main\\Dataset\\Pain\\80\n",
      "Creating directory: C:\\Users\\Qasim\\Documents\\Major_Project\\ActionDetectionforSignLanguage-main\\Dataset\\Pain\\81\n",
      "Sequence directory already exists: C:\\Users\\Qasim\\Documents\\Major_Project\\ActionDetectionforSignLanguage-main\\Dataset\\Pain\\81\n",
      "Creating directory: C:\\Users\\Qasim\\Documents\\Major_Project\\ActionDetectionforSignLanguage-main\\Dataset\\Pain\\82\n",
      "Sequence directory already exists: C:\\Users\\Qasim\\Documents\\Major_Project\\ActionDetectionforSignLanguage-main\\Dataset\\Pain\\82\n",
      "Creating directory: C:\\Users\\Qasim\\Documents\\Major_Project\\ActionDetectionforSignLanguage-main\\Dataset\\Pain\\83\n",
      "Sequence directory already exists: C:\\Users\\Qasim\\Documents\\Major_Project\\ActionDetectionforSignLanguage-main\\Dataset\\Pain\\83\n",
      "Creating directory: C:\\Users\\Qasim\\Documents\\Major_Project\\ActionDetectionforSignLanguage-main\\Dataset\\Pain\\84\n",
      "Sequence directory already exists: C:\\Users\\Qasim\\Documents\\Major_Project\\ActionDetectionforSignLanguage-main\\Dataset\\Pain\\84\n",
      "Creating directory: C:\\Users\\Qasim\\Documents\\Major_Project\\ActionDetectionforSignLanguage-main\\Dataset\\Pain\\85\n",
      "Sequence directory already exists: C:\\Users\\Qasim\\Documents\\Major_Project\\ActionDetectionforSignLanguage-main\\Dataset\\Pain\\85\n",
      "Creating directory: C:\\Users\\Qasim\\Documents\\Major_Project\\ActionDetectionforSignLanguage-main\\Dataset\\Pain\\86\n",
      "Sequence directory already exists: C:\\Users\\Qasim\\Documents\\Major_Project\\ActionDetectionforSignLanguage-main\\Dataset\\Pain\\86\n",
      "Creating directory: C:\\Users\\Qasim\\Documents\\Major_Project\\ActionDetectionforSignLanguage-main\\Dataset\\Pain\\87\n",
      "Sequence directory already exists: C:\\Users\\Qasim\\Documents\\Major_Project\\ActionDetectionforSignLanguage-main\\Dataset\\Pain\\87\n",
      "Creating directory: C:\\Users\\Qasim\\Documents\\Major_Project\\ActionDetectionforSignLanguage-main\\Dataset\\Pain\\88\n",
      "Sequence directory already exists: C:\\Users\\Qasim\\Documents\\Major_Project\\ActionDetectionforSignLanguage-main\\Dataset\\Pain\\88\n",
      "Creating directory: C:\\Users\\Qasim\\Documents\\Major_Project\\ActionDetectionforSignLanguage-main\\Dataset\\Pain\\89\n",
      "Sequence directory already exists: C:\\Users\\Qasim\\Documents\\Major_Project\\ActionDetectionforSignLanguage-main\\Dataset\\Pain\\89\n",
      "Creating directory: C:\\Users\\Qasim\\Documents\\Major_Project\\ActionDetectionforSignLanguage-main\\Dataset\\Pain\\90\n",
      "Sequence directory already exists: C:\\Users\\Qasim\\Documents\\Major_Project\\ActionDetectionforSignLanguage-main\\Dataset\\Pain\\90\n",
      "Checking action path: C:\\Users\\Qasim\\Documents\\Major_Project\\ActionDetectionforSignLanguage-main\\Dataset\\Thief\n",
      "Directory already exists: C:\\Users\\Qasim\\Documents\\Major_Project\\ActionDetectionforSignLanguage-main\\Dataset\\Thief\n",
      "Creating directory: C:\\Users\\Qasim\\Documents\\Major_Project\\ActionDetectionforSignLanguage-main\\Dataset\\Thief\\61\n",
      "Sequence directory already exists: C:\\Users\\Qasim\\Documents\\Major_Project\\ActionDetectionforSignLanguage-main\\Dataset\\Thief\\61\n",
      "Creating directory: C:\\Users\\Qasim\\Documents\\Major_Project\\ActionDetectionforSignLanguage-main\\Dataset\\Thief\\62\n",
      "Sequence directory already exists: C:\\Users\\Qasim\\Documents\\Major_Project\\ActionDetectionforSignLanguage-main\\Dataset\\Thief\\62\n",
      "Creating directory: C:\\Users\\Qasim\\Documents\\Major_Project\\ActionDetectionforSignLanguage-main\\Dataset\\Thief\\63\n",
      "Sequence directory already exists: C:\\Users\\Qasim\\Documents\\Major_Project\\ActionDetectionforSignLanguage-main\\Dataset\\Thief\\63\n",
      "Creating directory: C:\\Users\\Qasim\\Documents\\Major_Project\\ActionDetectionforSignLanguage-main\\Dataset\\Thief\\64\n",
      "Sequence directory already exists: C:\\Users\\Qasim\\Documents\\Major_Project\\ActionDetectionforSignLanguage-main\\Dataset\\Thief\\64\n",
      "Creating directory: C:\\Users\\Qasim\\Documents\\Major_Project\\ActionDetectionforSignLanguage-main\\Dataset\\Thief\\65\n",
      "Sequence directory already exists: C:\\Users\\Qasim\\Documents\\Major_Project\\ActionDetectionforSignLanguage-main\\Dataset\\Thief\\65\n",
      "Creating directory: C:\\Users\\Qasim\\Documents\\Major_Project\\ActionDetectionforSignLanguage-main\\Dataset\\Thief\\66\n",
      "Sequence directory already exists: C:\\Users\\Qasim\\Documents\\Major_Project\\ActionDetectionforSignLanguage-main\\Dataset\\Thief\\66\n",
      "Creating directory: C:\\Users\\Qasim\\Documents\\Major_Project\\ActionDetectionforSignLanguage-main\\Dataset\\Thief\\67\n",
      "Sequence directory already exists: C:\\Users\\Qasim\\Documents\\Major_Project\\ActionDetectionforSignLanguage-main\\Dataset\\Thief\\67\n",
      "Creating directory: C:\\Users\\Qasim\\Documents\\Major_Project\\ActionDetectionforSignLanguage-main\\Dataset\\Thief\\68\n",
      "Sequence directory already exists: C:\\Users\\Qasim\\Documents\\Major_Project\\ActionDetectionforSignLanguage-main\\Dataset\\Thief\\68\n",
      "Creating directory: C:\\Users\\Qasim\\Documents\\Major_Project\\ActionDetectionforSignLanguage-main\\Dataset\\Thief\\69\n",
      "Sequence directory already exists: C:\\Users\\Qasim\\Documents\\Major_Project\\ActionDetectionforSignLanguage-main\\Dataset\\Thief\\69\n",
      "Creating directory: C:\\Users\\Qasim\\Documents\\Major_Project\\ActionDetectionforSignLanguage-main\\Dataset\\Thief\\70\n",
      "Sequence directory already exists: C:\\Users\\Qasim\\Documents\\Major_Project\\ActionDetectionforSignLanguage-main\\Dataset\\Thief\\70\n",
      "Creating directory: C:\\Users\\Qasim\\Documents\\Major_Project\\ActionDetectionforSignLanguage-main\\Dataset\\Thief\\71\n",
      "Sequence directory already exists: C:\\Users\\Qasim\\Documents\\Major_Project\\ActionDetectionforSignLanguage-main\\Dataset\\Thief\\71\n",
      "Creating directory: C:\\Users\\Qasim\\Documents\\Major_Project\\ActionDetectionforSignLanguage-main\\Dataset\\Thief\\72\n",
      "Sequence directory already exists: C:\\Users\\Qasim\\Documents\\Major_Project\\ActionDetectionforSignLanguage-main\\Dataset\\Thief\\72\n",
      "Creating directory: C:\\Users\\Qasim\\Documents\\Major_Project\\ActionDetectionforSignLanguage-main\\Dataset\\Thief\\73\n",
      "Sequence directory already exists: C:\\Users\\Qasim\\Documents\\Major_Project\\ActionDetectionforSignLanguage-main\\Dataset\\Thief\\73\n",
      "Creating directory: C:\\Users\\Qasim\\Documents\\Major_Project\\ActionDetectionforSignLanguage-main\\Dataset\\Thief\\74\n",
      "Sequence directory already exists: C:\\Users\\Qasim\\Documents\\Major_Project\\ActionDetectionforSignLanguage-main\\Dataset\\Thief\\74\n",
      "Creating directory: C:\\Users\\Qasim\\Documents\\Major_Project\\ActionDetectionforSignLanguage-main\\Dataset\\Thief\\75\n",
      "Sequence directory already exists: C:\\Users\\Qasim\\Documents\\Major_Project\\ActionDetectionforSignLanguage-main\\Dataset\\Thief\\75\n",
      "Creating directory: C:\\Users\\Qasim\\Documents\\Major_Project\\ActionDetectionforSignLanguage-main\\Dataset\\Thief\\76\n",
      "Sequence directory already exists: C:\\Users\\Qasim\\Documents\\Major_Project\\ActionDetectionforSignLanguage-main\\Dataset\\Thief\\76\n",
      "Creating directory: C:\\Users\\Qasim\\Documents\\Major_Project\\ActionDetectionforSignLanguage-main\\Dataset\\Thief\\77\n",
      "Sequence directory already exists: C:\\Users\\Qasim\\Documents\\Major_Project\\ActionDetectionforSignLanguage-main\\Dataset\\Thief\\77\n",
      "Creating directory: C:\\Users\\Qasim\\Documents\\Major_Project\\ActionDetectionforSignLanguage-main\\Dataset\\Thief\\78\n",
      "Sequence directory already exists: C:\\Users\\Qasim\\Documents\\Major_Project\\ActionDetectionforSignLanguage-main\\Dataset\\Thief\\78\n",
      "Creating directory: C:\\Users\\Qasim\\Documents\\Major_Project\\ActionDetectionforSignLanguage-main\\Dataset\\Thief\\79\n",
      "Sequence directory already exists: C:\\Users\\Qasim\\Documents\\Major_Project\\ActionDetectionforSignLanguage-main\\Dataset\\Thief\\79\n",
      "Creating directory: C:\\Users\\Qasim\\Documents\\Major_Project\\ActionDetectionforSignLanguage-main\\Dataset\\Thief\\80\n",
      "Sequence directory already exists: C:\\Users\\Qasim\\Documents\\Major_Project\\ActionDetectionforSignLanguage-main\\Dataset\\Thief\\80\n",
      "Creating directory: C:\\Users\\Qasim\\Documents\\Major_Project\\ActionDetectionforSignLanguage-main\\Dataset\\Thief\\81\n",
      "Sequence directory already exists: C:\\Users\\Qasim\\Documents\\Major_Project\\ActionDetectionforSignLanguage-main\\Dataset\\Thief\\81\n",
      "Creating directory: C:\\Users\\Qasim\\Documents\\Major_Project\\ActionDetectionforSignLanguage-main\\Dataset\\Thief\\82\n",
      "Sequence directory already exists: C:\\Users\\Qasim\\Documents\\Major_Project\\ActionDetectionforSignLanguage-main\\Dataset\\Thief\\82\n",
      "Creating directory: C:\\Users\\Qasim\\Documents\\Major_Project\\ActionDetectionforSignLanguage-main\\Dataset\\Thief\\83\n",
      "Sequence directory already exists: C:\\Users\\Qasim\\Documents\\Major_Project\\ActionDetectionforSignLanguage-main\\Dataset\\Thief\\83\n",
      "Creating directory: C:\\Users\\Qasim\\Documents\\Major_Project\\ActionDetectionforSignLanguage-main\\Dataset\\Thief\\84\n",
      "Sequence directory already exists: C:\\Users\\Qasim\\Documents\\Major_Project\\ActionDetectionforSignLanguage-main\\Dataset\\Thief\\84\n",
      "Creating directory: C:\\Users\\Qasim\\Documents\\Major_Project\\ActionDetectionforSignLanguage-main\\Dataset\\Thief\\85\n",
      "Sequence directory already exists: C:\\Users\\Qasim\\Documents\\Major_Project\\ActionDetectionforSignLanguage-main\\Dataset\\Thief\\85\n",
      "Creating directory: C:\\Users\\Qasim\\Documents\\Major_Project\\ActionDetectionforSignLanguage-main\\Dataset\\Thief\\86\n",
      "Sequence directory already exists: C:\\Users\\Qasim\\Documents\\Major_Project\\ActionDetectionforSignLanguage-main\\Dataset\\Thief\\86\n",
      "Creating directory: C:\\Users\\Qasim\\Documents\\Major_Project\\ActionDetectionforSignLanguage-main\\Dataset\\Thief\\87\n",
      "Sequence directory already exists: C:\\Users\\Qasim\\Documents\\Major_Project\\ActionDetectionforSignLanguage-main\\Dataset\\Thief\\87\n",
      "Creating directory: C:\\Users\\Qasim\\Documents\\Major_Project\\ActionDetectionforSignLanguage-main\\Dataset\\Thief\\88\n",
      "Sequence directory already exists: C:\\Users\\Qasim\\Documents\\Major_Project\\ActionDetectionforSignLanguage-main\\Dataset\\Thief\\88\n",
      "Creating directory: C:\\Users\\Qasim\\Documents\\Major_Project\\ActionDetectionforSignLanguage-main\\Dataset\\Thief\\89\n",
      "Sequence directory already exists: C:\\Users\\Qasim\\Documents\\Major_Project\\ActionDetectionforSignLanguage-main\\Dataset\\Thief\\89\n",
      "Creating directory: C:\\Users\\Qasim\\Documents\\Major_Project\\ActionDetectionforSignLanguage-main\\Dataset\\Thief\\90\n",
      "Sequence directory already exists: C:\\Users\\Qasim\\Documents\\Major_Project\\ActionDetectionforSignLanguage-main\\Dataset\\Thief\\90\n"
     ]
    }
   ],
   "source": [
    "import os\n",
    "import numpy as np\n",
    "\n",
    "for action in actions: \n",
    "    action_path = os.path.join(DATA_PATH, action)\n",
    "    print(\"Checking action path:\", action_path)\n",
    "    \n",
    "    if not os.path.exists(action_path):\n",
    "        os.makedirs(action_path)\n",
    "        print(\"Directory created:\", action_path)\n",
    "    else:\n",
    "        print(\"Directory already exists:\", action_path)\n",
    "    \n",
    "    #change this \n",
    "    for sequence in range(61, 91):\n",
    "        new_dir = os.path.join(action_path, str(sequence))\n",
    "        print(\"Creating directory:\", new_dir)\n",
    "        \n",
    "        if not os.path.exists(new_dir):\n",
    "            os.makedirs(new_dir)\n",
    "            print(\"Sequence directory created:\", new_dir)\n",
    "        else:\n",
    "            print(\"Sequence directory already exists:\", new_dir)\n",
    "            continue\n"
   ]
  },
  {
   "cell_type": "markdown",
   "metadata": {},
   "source": [
    "# 5. Collect Keypoint Values for Training and Testing"
   ]
  },
  {
   "cell_type": "markdown",
   "metadata": {},
   "source": [
    "### collecting images"
   ]
  },
  {
   "cell_type": "code",
   "execution_count": 19,
   "metadata": {
    "metadata": {}
   },
   "outputs": [
    {
     "name": "stderr",
     "output_type": "stream",
     "text": [
      "c:\\Users\\Qasim\\anaconda3\\envs\\islsign\\lib\\site-packages\\google\\protobuf\\symbol_database.py:55: UserWarning: SymbolDatabase.GetPrototype() is deprecated. Please use message_factory.GetMessageClass() instead. SymbolDatabase.GetPrototype() will be removed soon.\n",
      "  warnings.warn('SymbolDatabase.GetPrototype() is deprecated. Please '\n"
     ]
    }
   ],
   "source": [
    "cap = cv2.VideoCapture(0)\n",
    "# Set mediapipe model \n",
    "with mp_holistic.Holistic(min_detection_confidence=0.5, min_tracking_confidence=0.5) as holistic:\n",
    "    \n",
    "    # NEW LOOP\n",
    "    # Loop through actions\n",
    "    for action in actions:\n",
    "        # Loop through sequences aka videos\n",
    "        for sequence in range(61,91):\n",
    "            # Loop through video length aka sequence length\n",
    "            for frame_num in range(sequence_length):\n",
    "\n",
    "                # Read feed\n",
    "                ret, frame = cap.read()\n",
    "\n",
    "                # Make detections\n",
    "                image, results = mediapipe_detection(frame, holistic)\n",
    "\n",
    "                # Draw landmarks\n",
    "                draw_styled_landmarks(image, results)\n",
    "                \n",
    "                # NEW Apply wait logic\n",
    "                if frame_num == 0: \n",
    "                    cv2.putText(image, 'STARTING COLLECTION', (120,200), \n",
    "                               cv2.FONT_HERSHEY_SIMPLEX, 1, (0,255, 0), 4, cv2.LINE_AA)\n",
    "                    cv2.putText(image, 'Collecting frames for {} Video Number {}'.format(action, sequence), (15,12), \n",
    "                               cv2.FONT_HERSHEY_SIMPLEX, 0.5, (0, 0, 255), 1, cv2.LINE_AA)\n",
    "                    # Show to screen\n",
    "                    cv2.imshow('OpenCV Feed', image)\n",
    "                    cv2.waitKey(500)\n",
    "                else: \n",
    "                    cv2.putText(image, 'Collecting frames for {} Video Number {}'.format(action, sequence), (15,12), \n",
    "                               cv2.FONT_HERSHEY_SIMPLEX, 0.5, (0, 0, 255), 1, cv2.LINE_AA)\n",
    "                    # Show to screen\n",
    "                    cv2.imshow('OpenCV Feed', image)\n",
    "\n",
    "                # NEW Export keypoints\n",
    "                keypoints = extract_keypoints(results)\n",
    "                npy_path = os.path.join(DATA_PATH, action, str(sequence), str(frame_num))\n",
    "\n",
    "                # Create the directory if it doesn't exist\n",
    "                os.makedirs(os.path.dirname(npy_path), exist_ok=True)\n",
    "                \n",
    "                # Save keypoints to npy_path\n",
    "                np.save(npy_path, keypoints)\n",
    "\n",
    "                # Break gracefully\n",
    "                if cv2.waitKey(10) & 0xFF == ord('q'):\n",
    "                    break\n",
    "\n",
    "            # print('Completed collecting frames for {} Video number{}'.format(action, sequence))\n",
    "            cv2.putText(image, 'Completed collecting frames for {} Video number{}'.format(action, sequence), (120,200), \n",
    "                               cv2.FONT_HERSHEY_SIMPLEX, 1, (0,255, 0), 4, cv2.LINE_AA)\n",
    "            cv2.waitKey(3000)\n",
    "\n",
    "        # Break gracefully\n",
    "        if cv2.waitKey(10) & 0xFF == ord('q'):\n",
    "            break\n",
    "             \n",
    "    cap.release()\n",
    "    cv2.destroyAllWindows()"
   ]
  },
  {
   "cell_type": "code",
   "execution_count": 18,
   "metadata": {
    "metadata": {}
   },
   "outputs": [],
   "source": [
    "def check_missing_sequences(actions, no_sequences, sequence_length):\n",
    "    missing_sequences = []\n",
    "    for action in actions:\n",
    "        for video_num in range(1, no_sequences):\n",
    "            for sequence_num in range(sequence_length):\n",
    "                npy_path = os.path.join(DATA_PATH, action, str(video_num), str(sequence_num) + '.npy')\n",
    "                if not os.path.exists(npy_path):\n",
    "                    missing_sequences.append((action, video_num, sequence_num))\n",
    "    return missing_sequences"
   ]
  },
  {
   "cell_type": "code",
   "execution_count": 19,
   "metadata": {
    "metadata": {}
   },
   "outputs": [
    {
     "name": "stdout",
     "output_type": "stream",
     "text": [
      "Missing sequences: []\n"
     ]
    }
   ],
   "source": [
    "missing_sequences = check_missing_sequences(actions, no_sequences, sequence_length)\n",
    "print(\"Missing sequences:\", missing_sequences)"
   ]
  },
  {
   "cell_type": "code",
   "execution_count": 20,
   "metadata": {
    "metadata": {}
   },
   "outputs": [],
   "source": [
    "cap.release()\n",
    "cv2.destroyAllWindows()"
   ]
  },
  {
   "cell_type": "markdown",
   "metadata": {},
   "source": [
    "# 6. Preprocess Data and Create Labels and Features"
   ]
  },
  {
   "cell_type": "code",
   "execution_count": 15,
   "metadata": {
    "metadata": {}
   },
   "outputs": [],
   "source": [
    "from sklearn.model_selection import train_test_split\n",
    "from tensorflow.keras.utils import to_categorical"
   ]
  },
  {
   "cell_type": "code",
   "execution_count": 16,
   "metadata": {
    "metadata": {}
   },
   "outputs": [],
   "source": [
    "label_map = {label:num for num, label in enumerate(actions)}"
   ]
  },
  {
   "cell_type": "code",
   "execution_count": 17,
   "metadata": {
    "metadata": {}
   },
   "outputs": [
    {
     "data": {
      "text/plain": [
       "{'Accident': 0,\n",
       " 'Call': 1,\n",
       " 'Doctor': 2,\n",
       " 'Help': 3,\n",
       " 'Hot': 4,\n",
       " 'Lose': 5,\n",
       " 'Pain': 6,\n",
       " 'Thief': 7}"
      ]
     },
     "execution_count": 17,
     "metadata": {},
     "output_type": "execute_result"
    }
   ],
   "source": [
    "label_map"
   ]
  },
  {
   "cell_type": "code",
   "execution_count": 20,
   "metadata": {
    "metadata": {}
   },
   "outputs": [],
   "source": [
    "sequences, labels = [], []\n",
    "for action in actions:\n",
    "    for sequence in np.array(os.listdir(os.path.join(DATA_PATH, action))).astype(int):\n",
    "        window = []\n",
    "        for frame_num in range(sequence_length):\n",
    "            res = np.load(os.path.join(DATA_PATH, action, str(sequence), \"{}.npy\".format(frame_num)))\n",
    "            window.append(res)\n",
    "        sequences.append(window)\n",
    "        labels.append(label_map[action])"
   ]
  },
  {
   "cell_type": "code",
   "execution_count": 21,
   "metadata": {
    "metadata": {}
   },
   "outputs": [
    {
     "data": {
      "text/plain": [
       "(720, 30, 126)"
      ]
     },
     "execution_count": 21,
     "metadata": {},
     "output_type": "execute_result"
    }
   ],
   "source": [
    "np.array(sequences).shape"
   ]
  },
  {
   "cell_type": "code",
   "execution_count": 22,
   "metadata": {
    "metadata": {}
   },
   "outputs": [
    {
     "data": {
      "text/plain": [
       "(720,)"
      ]
     },
     "execution_count": 22,
     "metadata": {},
     "output_type": "execute_result"
    }
   ],
   "source": [
    "np.array(labels).shape"
   ]
  },
  {
   "cell_type": "code",
   "execution_count": 23,
   "metadata": {
    "metadata": {}
   },
   "outputs": [],
   "source": [
    "X = np.array(sequences)"
   ]
  },
  {
   "cell_type": "code",
   "execution_count": 24,
   "metadata": {
    "metadata": {}
   },
   "outputs": [
    {
     "data": {
      "text/plain": [
       "(720, 30, 126)"
      ]
     },
     "execution_count": 24,
     "metadata": {},
     "output_type": "execute_result"
    }
   ],
   "source": [
    "X.shape"
   ]
  },
  {
   "cell_type": "code",
   "execution_count": 25,
   "metadata": {
    "metadata": {}
   },
   "outputs": [],
   "source": [
    "y = to_categorical(labels).astype(int)"
   ]
  },
  {
   "cell_type": "code",
   "execution_count": 26,
   "metadata": {
    "metadata": {}
   },
   "outputs": [],
   "source": [
    "X_train, X_test, y_train, y_test = train_test_split(X, y, test_size=0.15)"
   ]
  },
  {
   "cell_type": "code",
   "execution_count": 27,
   "metadata": {
    "metadata": {}
   },
   "outputs": [
    {
     "data": {
      "text/plain": [
       "(108, 8)"
      ]
     },
     "execution_count": 27,
     "metadata": {},
     "output_type": "execute_result"
    }
   ],
   "source": [
    "y_test.shape"
   ]
  },
  {
   "cell_type": "markdown",
   "metadata": {},
   "source": [
    "# 7. Build and Train LSTM Neural Network"
   ]
  },
  {
   "cell_type": "code",
   "execution_count": 28,
   "metadata": {
    "metadata": {}
   },
   "outputs": [],
   "source": [
    "from tensorflow.keras.models import Sequential\n",
    "from tensorflow.keras.layers import LSTM, Dense\n",
    "from tensorflow.keras.callbacks import TensorBoard"
   ]
  },
  {
   "cell_type": "code",
   "execution_count": 33,
   "metadata": {
    "metadata": {}
   },
   "outputs": [],
   "source": [
    "log_dir = os.path.join('Logs')\n",
    "tb_callback = TensorBoard(log_dir=log_dir)"
   ]
  },
  {
   "cell_type": "code",
   "execution_count": 34,
   "metadata": {},
   "outputs": [
    {
     "data": {
      "text/plain": [
       "8"
      ]
     },
     "execution_count": 34,
     "metadata": {},
     "output_type": "execute_result"
    }
   ],
   "source": [
    "actions.shape[0]"
   ]
  },
  {
   "cell_type": "code",
   "execution_count": 29,
   "metadata": {},
   "outputs": [
    {
     "name": "stderr",
     "output_type": "stream",
     "text": [
      "c:\\Users\\Qasim\\anaconda3\\envs\\islsign\\lib\\site-packages\\keras\\src\\layers\\rnn\\rnn.py:204: UserWarning: Do not pass an `input_shape`/`input_dim` argument to a layer. When using Sequential models, prefer using an `Input(shape)` object as the first layer in the model instead.\n",
      "  super().__init__(**kwargs)\n"
     ]
    }
   ],
   "source": [
    "model = Sequential()\n",
    "model.add(LSTM(64, return_sequences=True, activation='relu', input_shape=(30,126)))\n",
    "model.add(LSTM(64, return_sequences=False, activation='relu'))\n",
    "model.add(Dense(32, activation='relu'))\n",
    "model.add(Dense(actions.shape[0], activation='softmax'))"
   ]
  },
  {
   "cell_type": "code",
   "execution_count": 30,
   "metadata": {
    "metadata": {}
   },
   "outputs": [],
   "source": [
    "model.compile(optimizer='Adam', loss='categorical_crossentropy', metrics=['categorical_accuracy'])"
   ]
  },
  {
   "cell_type": "code",
   "execution_count": 68,
   "metadata": {
    "metadata": {},
    "scrolled": true
   },
   "outputs": [
    {
     "name": "stdout",
     "output_type": "stream",
     "text": [
      "Epoch 1/300\n",
      "\u001b[1m20/20\u001b[0m \u001b[32m━━━━━━━━━━━━━━━━━━━━\u001b[0m\u001b[37m\u001b[0m \u001b[1m7s\u001b[0m 28ms/step - categorical_accuracy: 0.2317 - loss: 1.9286\n",
      "Epoch 2/300\n",
      "\u001b[1m20/20\u001b[0m \u001b[32m━━━━━━━━━━━━━━━━━━━━\u001b[0m\u001b[37m\u001b[0m \u001b[1m1s\u001b[0m 27ms/step - categorical_accuracy: 0.3199 - loss: 1.5375\n",
      "Epoch 3/300\n",
      "\u001b[1m20/20\u001b[0m \u001b[32m━━━━━━━━━━━━━━━━━━━━\u001b[0m\u001b[37m\u001b[0m \u001b[1m1s\u001b[0m 30ms/step - categorical_accuracy: 0.5074 - loss: 1.3699\n",
      "Epoch 4/300\n",
      "\u001b[1m20/20\u001b[0m \u001b[32m━━━━━━━━━━━━━━━━━━━━\u001b[0m\u001b[37m\u001b[0m \u001b[1m1s\u001b[0m 27ms/step - categorical_accuracy: 0.6268 - loss: 1.2137\n",
      "Epoch 5/300\n",
      "\u001b[1m20/20\u001b[0m \u001b[32m━━━━━━━━━━━━━━━━━━━━\u001b[0m\u001b[37m\u001b[0m \u001b[1m1s\u001b[0m 28ms/step - categorical_accuracy: 0.6499 - loss: 1.1682\n",
      "Epoch 6/300\n",
      "\u001b[1m20/20\u001b[0m \u001b[32m━━━━━━━━━━━━━━━━━━━━\u001b[0m\u001b[37m\u001b[0m \u001b[1m1s\u001b[0m 28ms/step - categorical_accuracy: 0.6619 - loss: 1.0321\n",
      "Epoch 7/300\n",
      "\u001b[1m20/20\u001b[0m \u001b[32m━━━━━━━━━━━━━━━━━━━━\u001b[0m\u001b[37m\u001b[0m \u001b[1m1s\u001b[0m 29ms/step - categorical_accuracy: 0.7255 - loss: 0.9515\n",
      "Epoch 8/300\n",
      "\u001b[1m20/20\u001b[0m \u001b[32m━━━━━━━━━━━━━━━━━━━━\u001b[0m\u001b[37m\u001b[0m \u001b[1m1s\u001b[0m 27ms/step - categorical_accuracy: 0.7744 - loss: 0.7655\n",
      "Epoch 9/300\n",
      "\u001b[1m20/20\u001b[0m \u001b[32m━━━━━━━━━━━━━━━━━━━━\u001b[0m\u001b[37m\u001b[0m \u001b[1m1s\u001b[0m 28ms/step - categorical_accuracy: 0.7180 - loss: 0.8050\n",
      "Epoch 10/300\n",
      "\u001b[1m20/20\u001b[0m \u001b[32m━━━━━━━━━━━━━━━━━━━━\u001b[0m\u001b[37m\u001b[0m \u001b[1m1s\u001b[0m 33ms/step - categorical_accuracy: 0.8213 - loss: 0.5545\n",
      "Epoch 11/300\n",
      "\u001b[1m20/20\u001b[0m \u001b[32m━━━━━━━━━━━━━━━━━━━━\u001b[0m\u001b[37m\u001b[0m \u001b[1m1s\u001b[0m 31ms/step - categorical_accuracy: 0.8561 - loss: 0.4800\n",
      "Epoch 12/300\n",
      "\u001b[1m20/20\u001b[0m \u001b[32m━━━━━━━━━━━━━━━━━━━━\u001b[0m\u001b[37m\u001b[0m \u001b[1m1s\u001b[0m 29ms/step - categorical_accuracy: 0.7625 - loss: 0.6784\n",
      "Epoch 13/300\n",
      "\u001b[1m20/20\u001b[0m \u001b[32m━━━━━━━━━━━━━━━━━━━━\u001b[0m\u001b[37m\u001b[0m \u001b[1m1s\u001b[0m 34ms/step - categorical_accuracy: 0.7594 - loss: 0.9637\n",
      "Epoch 14/300\n",
      "\u001b[1m20/20\u001b[0m \u001b[32m━━━━━━━━━━━━━━━━━━━━\u001b[0m\u001b[37m\u001b[0m \u001b[1m1s\u001b[0m 28ms/step - categorical_accuracy: 0.7516 - loss: 0.6370\n",
      "Epoch 15/300\n",
      "\u001b[1m20/20\u001b[0m \u001b[32m━━━━━━━━━━━━━━━━━━━━\u001b[0m\u001b[37m\u001b[0m \u001b[1m1s\u001b[0m 29ms/step - categorical_accuracy: 0.8145 - loss: 0.4683\n",
      "Epoch 16/300\n",
      "\u001b[1m20/20\u001b[0m \u001b[32m━━━━━━━━━━━━━━━━━━━━\u001b[0m\u001b[37m\u001b[0m \u001b[1m1s\u001b[0m 29ms/step - categorical_accuracy: 0.8829 - loss: 0.3061\n",
      "Epoch 17/300\n",
      "\u001b[1m20/20\u001b[0m \u001b[32m━━━━━━━━━━━━━━━━━━━━\u001b[0m\u001b[37m\u001b[0m \u001b[1m1s\u001b[0m 29ms/step - categorical_accuracy: 0.8733 - loss: 0.4370\n",
      "Epoch 18/300\n",
      "\u001b[1m20/20\u001b[0m \u001b[32m━━━━━━━━━━━━━━━━━━━━\u001b[0m\u001b[37m\u001b[0m \u001b[1m1s\u001b[0m 28ms/step - categorical_accuracy: 0.8848 - loss: 0.3643\n",
      "Epoch 19/300\n",
      "\u001b[1m20/20\u001b[0m \u001b[32m━━━━━━━━━━━━━━━━━━━━\u001b[0m\u001b[37m\u001b[0m \u001b[1m1s\u001b[0m 27ms/step - categorical_accuracy: 0.8905 - loss: 0.4287\n",
      "Epoch 20/300\n",
      "\u001b[1m20/20\u001b[0m \u001b[32m━━━━━━━━━━━━━━━━━━━━\u001b[0m\u001b[37m\u001b[0m \u001b[1m1s\u001b[0m 27ms/step - categorical_accuracy: 0.8492 - loss: 0.4966\n",
      "Epoch 21/300\n",
      "\u001b[1m20/20\u001b[0m \u001b[32m━━━━━━━━━━━━━━━━━━━━\u001b[0m\u001b[37m\u001b[0m \u001b[1m1s\u001b[0m 27ms/step - categorical_accuracy: 0.9015 - loss: 0.3670\n",
      "Epoch 22/300\n",
      "\u001b[1m20/20\u001b[0m \u001b[32m━━━━━━━━━━━━━━━━━━━━\u001b[0m\u001b[37m\u001b[0m \u001b[1m1s\u001b[0m 28ms/step - categorical_accuracy: 0.8588 - loss: 0.4611\n",
      "Epoch 23/300\n",
      "\u001b[1m20/20\u001b[0m \u001b[32m━━━━━━━━━━━━━━━━━━━━\u001b[0m\u001b[37m\u001b[0m \u001b[1m1s\u001b[0m 31ms/step - categorical_accuracy: 0.9020 - loss: 0.3231\n",
      "Epoch 24/300\n",
      "\u001b[1m20/20\u001b[0m \u001b[32m━━━━━━━━━━━━━━━━━━━━\u001b[0m\u001b[37m\u001b[0m \u001b[1m1s\u001b[0m 28ms/step - categorical_accuracy: 0.9571 - loss: 0.1565\n",
      "Epoch 25/300\n",
      "\u001b[1m20/20\u001b[0m \u001b[32m━━━━━━━━━━━━━━━━━━━━\u001b[0m\u001b[37m\u001b[0m \u001b[1m1s\u001b[0m 28ms/step - categorical_accuracy: 0.9569 - loss: 0.1393\n",
      "Epoch 26/300\n",
      "\u001b[1m20/20\u001b[0m \u001b[32m━━━━━━━━━━━━━━━━━━━━\u001b[0m\u001b[37m\u001b[0m \u001b[1m1s\u001b[0m 26ms/step - categorical_accuracy: 0.9427 - loss: 0.2013\n",
      "Epoch 27/300\n",
      "\u001b[1m20/20\u001b[0m \u001b[32m━━━━━━━━━━━━━━━━━━━━\u001b[0m\u001b[37m\u001b[0m \u001b[1m1s\u001b[0m 27ms/step - categorical_accuracy: 0.9464 - loss: 0.1980\n",
      "Epoch 28/300\n",
      "\u001b[1m20/20\u001b[0m \u001b[32m━━━━━━━━━━━━━━━━━━━━\u001b[0m\u001b[37m\u001b[0m \u001b[1m1s\u001b[0m 30ms/step - categorical_accuracy: 0.9165 - loss: 0.2847\n",
      "Epoch 29/300\n",
      "\u001b[1m20/20\u001b[0m \u001b[32m━━━━━━━━━━━━━━━━━━━━\u001b[0m\u001b[37m\u001b[0m \u001b[1m1s\u001b[0m 29ms/step - categorical_accuracy: 0.9700 - loss: 0.1104\n",
      "Epoch 30/300\n",
      "\u001b[1m20/20\u001b[0m \u001b[32m━━━━━━━━━━━━━━━━━━━━\u001b[0m\u001b[37m\u001b[0m \u001b[1m1s\u001b[0m 28ms/step - categorical_accuracy: 0.9775 - loss: 0.0765\n",
      "Epoch 31/300\n",
      "\u001b[1m20/20\u001b[0m \u001b[32m━━━━━━━━━━━━━━━━━━━━\u001b[0m\u001b[37m\u001b[0m \u001b[1m1s\u001b[0m 30ms/step - categorical_accuracy: 0.9829 - loss: 0.0637\n",
      "Epoch 32/300\n",
      "\u001b[1m20/20\u001b[0m \u001b[32m━━━━━━━━━━━━━━━━━━━━\u001b[0m\u001b[37m\u001b[0m \u001b[1m1s\u001b[0m 31ms/step - categorical_accuracy: 0.9920 - loss: 0.0449\n",
      "Epoch 33/300\n",
      "\u001b[1m20/20\u001b[0m \u001b[32m━━━━━━━━━━━━━━━━━━━━\u001b[0m\u001b[37m\u001b[0m \u001b[1m1s\u001b[0m 28ms/step - categorical_accuracy: 0.9907 - loss: 0.0409\n",
      "Epoch 34/300\n",
      "\u001b[1m20/20\u001b[0m \u001b[32m━━━━━━━━━━━━━━━━━━━━\u001b[0m\u001b[37m\u001b[0m \u001b[1m1s\u001b[0m 27ms/step - categorical_accuracy: 0.9871 - loss: 0.0452\n",
      "Epoch 35/300\n",
      "\u001b[1m20/20\u001b[0m \u001b[32m━━━━━━━━━━━━━━━━━━━━\u001b[0m\u001b[37m\u001b[0m \u001b[1m1s\u001b[0m 26ms/step - categorical_accuracy: 0.9902 - loss: 0.0384\n",
      "Epoch 36/300\n",
      "\u001b[1m20/20\u001b[0m \u001b[32m━━━━━━━━━━━━━━━━━━━━\u001b[0m\u001b[37m\u001b[0m \u001b[1m1s\u001b[0m 27ms/step - categorical_accuracy: 0.9918 - loss: 0.0214\n",
      "Epoch 37/300\n",
      "\u001b[1m20/20\u001b[0m \u001b[32m━━━━━━━━━━━━━━━━━━━━\u001b[0m\u001b[37m\u001b[0m \u001b[1m1s\u001b[0m 29ms/step - categorical_accuracy: 0.9879 - loss: 0.0356\n",
      "Epoch 38/300\n",
      "\u001b[1m20/20\u001b[0m \u001b[32m━━━━━━━━━━━━━━━━━━━━\u001b[0m\u001b[37m\u001b[0m \u001b[1m1s\u001b[0m 28ms/step - categorical_accuracy: 0.9874 - loss: 0.0448\n",
      "Epoch 39/300\n",
      "\u001b[1m20/20\u001b[0m \u001b[32m━━━━━━━━━━━━━━━━━━━━\u001b[0m\u001b[37m\u001b[0m \u001b[1m1s\u001b[0m 34ms/step - categorical_accuracy: 0.9890 - loss: 0.0429\n",
      "Epoch 40/300\n",
      "\u001b[1m20/20\u001b[0m \u001b[32m━━━━━━━━━━━━━━━━━━━━\u001b[0m\u001b[37m\u001b[0m \u001b[1m1s\u001b[0m 29ms/step - categorical_accuracy: 0.9823 - loss: 0.0485\n",
      "Epoch 41/300\n",
      "\u001b[1m20/20\u001b[0m \u001b[32m━━━━━━━━━━━━━━━━━━━━\u001b[0m\u001b[37m\u001b[0m \u001b[1m1s\u001b[0m 28ms/step - categorical_accuracy: 0.9564 - loss: 0.1210\n",
      "Epoch 42/300\n",
      "\u001b[1m20/20\u001b[0m \u001b[32m━━━━━━━━━━━━━━━━━━━━\u001b[0m\u001b[37m\u001b[0m \u001b[1m1s\u001b[0m 29ms/step - categorical_accuracy: 0.9828 - loss: 0.0438\n",
      "Epoch 43/300\n",
      "\u001b[1m20/20\u001b[0m \u001b[32m━━━━━━━━━━━━━━━━━━━━\u001b[0m\u001b[37m\u001b[0m \u001b[1m1s\u001b[0m 29ms/step - categorical_accuracy: 0.9935 - loss: 0.0248\n",
      "Epoch 44/300\n",
      "\u001b[1m20/20\u001b[0m \u001b[32m━━━━━━━━━━━━━━━━━━━━\u001b[0m\u001b[37m\u001b[0m \u001b[1m1s\u001b[0m 30ms/step - categorical_accuracy: 0.9958 - loss: 0.0130\n",
      "Epoch 45/300\n",
      "\u001b[1m20/20\u001b[0m \u001b[32m━━━━━━━━━━━━━━━━━━━━\u001b[0m\u001b[37m\u001b[0m \u001b[1m1s\u001b[0m 31ms/step - categorical_accuracy: 0.9929 - loss: 0.0164\n",
      "Epoch 46/300\n",
      "\u001b[1m20/20\u001b[0m \u001b[32m━━━━━━━━━━━━━━━━━━━━\u001b[0m\u001b[37m\u001b[0m \u001b[1m1s\u001b[0m 31ms/step - categorical_accuracy: 0.9958 - loss: 0.0098\n",
      "Epoch 47/300\n",
      "\u001b[1m20/20\u001b[0m \u001b[32m━━━━━━━━━━━━━━━━━━━━\u001b[0m\u001b[37m\u001b[0m \u001b[1m1s\u001b[0m 37ms/step - categorical_accuracy: 0.9978 - loss: 0.0068\n",
      "Epoch 48/300\n",
      "\u001b[1m20/20\u001b[0m \u001b[32m━━━━━━━━━━━━━━━━━━━━\u001b[0m\u001b[37m\u001b[0m \u001b[1m1s\u001b[0m 31ms/step - categorical_accuracy: 0.9853 - loss: 0.0323\n",
      "Epoch 49/300\n",
      "\u001b[1m20/20\u001b[0m \u001b[32m━━━━━━━━━━━━━━━━━━━━\u001b[0m\u001b[37m\u001b[0m \u001b[1m1s\u001b[0m 30ms/step - categorical_accuracy: 0.9394 - loss: 0.2866\n",
      "Epoch 50/300\n",
      "\u001b[1m20/20\u001b[0m \u001b[32m━━━━━━━━━━━━━━━━━━━━\u001b[0m\u001b[37m\u001b[0m \u001b[1m1s\u001b[0m 30ms/step - categorical_accuracy: 0.9594 - loss: 0.1752\n",
      "Epoch 51/300\n",
      "\u001b[1m20/20\u001b[0m \u001b[32m━━━━━━━━━━━━━━━━━━━━\u001b[0m\u001b[37m\u001b[0m \u001b[1m1s\u001b[0m 29ms/step - categorical_accuracy: 0.9141 - loss: 0.2333\n",
      "Epoch 52/300\n",
      "\u001b[1m20/20\u001b[0m \u001b[32m━━━━━━━━━━━━━━━━━━━━\u001b[0m\u001b[37m\u001b[0m \u001b[1m1s\u001b[0m 29ms/step - categorical_accuracy: 0.9927 - loss: 0.0637\n",
      "Epoch 53/300\n",
      "\u001b[1m20/20\u001b[0m \u001b[32m━━━━━━━━━━━━━━━━━━━━\u001b[0m\u001b[37m\u001b[0m \u001b[1m1s\u001b[0m 32ms/step - categorical_accuracy: 0.8579 - loss: 0.5454\n",
      "Epoch 54/300\n",
      "\u001b[1m20/20\u001b[0m \u001b[32m━━━━━━━━━━━━━━━━━━━━\u001b[0m\u001b[37m\u001b[0m \u001b[1m1s\u001b[0m 29ms/step - categorical_accuracy: 0.8456 - loss: 0.6897\n",
      "Epoch 55/300\n",
      "\u001b[1m20/20\u001b[0m \u001b[32m━━━━━━━━━━━━━━━━━━━━\u001b[0m\u001b[37m\u001b[0m \u001b[1m1s\u001b[0m 30ms/step - categorical_accuracy: 0.8765 - loss: 11.9348\n",
      "Epoch 56/300\n",
      "\u001b[1m20/20\u001b[0m \u001b[32m━━━━━━━━━━━━━━━━━━━━\u001b[0m\u001b[37m\u001b[0m \u001b[1m1s\u001b[0m 29ms/step - categorical_accuracy: 0.6634 - loss: 0.7109\n",
      "Epoch 57/300\n",
      "\u001b[1m20/20\u001b[0m \u001b[32m━━━━━━━━━━━━━━━━━━━━\u001b[0m\u001b[37m\u001b[0m \u001b[1m1s\u001b[0m 31ms/step - categorical_accuracy: 0.8494 - loss: 0.3976\n",
      "Epoch 58/300\n",
      "\u001b[1m20/20\u001b[0m \u001b[32m━━━━━━━━━━━━━━━━━━━━\u001b[0m\u001b[37m\u001b[0m \u001b[1m1s\u001b[0m 32ms/step - categorical_accuracy: 0.8877 - loss: 0.2961\n",
      "Epoch 59/300\n",
      "\u001b[1m20/20\u001b[0m \u001b[32m━━━━━━━━━━━━━━━━━━━━\u001b[0m\u001b[37m\u001b[0m \u001b[1m1s\u001b[0m 28ms/step - categorical_accuracy: 0.9029 - loss: 0.3719\n",
      "Epoch 60/300\n",
      "\u001b[1m20/20\u001b[0m \u001b[32m━━━━━━━━━━━━━━━━━━━━\u001b[0m\u001b[37m\u001b[0m \u001b[1m1s\u001b[0m 28ms/step - categorical_accuracy: 0.9157 - loss: 0.2639\n",
      "Epoch 61/300\n",
      "\u001b[1m20/20\u001b[0m \u001b[32m━━━━━━━━━━━━━━━━━━━━\u001b[0m\u001b[37m\u001b[0m \u001b[1m1s\u001b[0m 30ms/step - categorical_accuracy: 0.8805 - loss: 0.3431\n",
      "Epoch 62/300\n",
      "\u001b[1m20/20\u001b[0m \u001b[32m━━━━━━━━━━━━━━━━━━━━\u001b[0m\u001b[37m\u001b[0m \u001b[1m1s\u001b[0m 28ms/step - categorical_accuracy: 0.8978 - loss: 0.5228\n",
      "Epoch 63/300\n",
      "\u001b[1m20/20\u001b[0m \u001b[32m━━━━━━━━━━━━━━━━━━━━\u001b[0m\u001b[37m\u001b[0m \u001b[1m1s\u001b[0m 28ms/step - categorical_accuracy: 0.8716 - loss: 0.4600\n",
      "Epoch 64/300\n",
      "\u001b[1m20/20\u001b[0m \u001b[32m━━━━━━━━━━━━━━━━━━━━\u001b[0m\u001b[37m\u001b[0m \u001b[1m1s\u001b[0m 40ms/step - categorical_accuracy: 0.9395 - loss: 0.2865\n",
      "Epoch 65/300\n",
      "\u001b[1m20/20\u001b[0m \u001b[32m━━━━━━━━━━━━━━━━━━━━\u001b[0m\u001b[37m\u001b[0m \u001b[1m1s\u001b[0m 32ms/step - categorical_accuracy: 0.9520 - loss: 0.2158\n",
      "Epoch 66/300\n",
      "\u001b[1m20/20\u001b[0m \u001b[32m━━━━━━━━━━━━━━━━━━━━\u001b[0m\u001b[37m\u001b[0m \u001b[1m1s\u001b[0m 29ms/step - categorical_accuracy: 0.9142 - loss: 0.2936\n",
      "Epoch 67/300\n",
      "\u001b[1m20/20\u001b[0m \u001b[32m━━━━━━━━━━━━━━━━━━━━\u001b[0m\u001b[37m\u001b[0m \u001b[1m1s\u001b[0m 31ms/step - categorical_accuracy: 0.9551 - loss: 0.1744\n",
      "Epoch 68/300\n",
      "\u001b[1m20/20\u001b[0m \u001b[32m━━━━━━━━━━━━━━━━━━━━\u001b[0m\u001b[37m\u001b[0m \u001b[1m1s\u001b[0m 30ms/step - categorical_accuracy: 0.9782 - loss: 0.0963\n",
      "Epoch 69/300\n",
      "\u001b[1m20/20\u001b[0m \u001b[32m━━━━━━━━━━━━━━━━━━━━\u001b[0m\u001b[37m\u001b[0m \u001b[1m1s\u001b[0m 34ms/step - categorical_accuracy: 0.9804 - loss: 0.0688\n",
      "Epoch 70/300\n",
      "\u001b[1m20/20\u001b[0m \u001b[32m━━━━━━━━━━━━━━━━━━━━\u001b[0m\u001b[37m\u001b[0m \u001b[1m1s\u001b[0m 27ms/step - categorical_accuracy: 0.9532 - loss: 0.1398\n",
      "Epoch 71/300\n",
      "\u001b[1m20/20\u001b[0m \u001b[32m━━━━━━━━━━━━━━━━━━━━\u001b[0m\u001b[37m\u001b[0m \u001b[1m1s\u001b[0m 34ms/step - categorical_accuracy: 0.9587 - loss: 0.1262\n",
      "Epoch 72/300\n",
      "\u001b[1m20/20\u001b[0m \u001b[32m━━━━━━━━━━━━━━━━━━━━\u001b[0m\u001b[37m\u001b[0m \u001b[1m1s\u001b[0m 36ms/step - categorical_accuracy: 0.9769 - loss: 0.0602\n",
      "Epoch 73/300\n",
      "\u001b[1m20/20\u001b[0m \u001b[32m━━━━━━━━━━━━━━━━━━━━\u001b[0m\u001b[37m\u001b[0m \u001b[1m1s\u001b[0m 35ms/step - categorical_accuracy: 0.9922 - loss: 0.0354\n",
      "Epoch 74/300\n",
      "\u001b[1m20/20\u001b[0m \u001b[32m━━━━━━━━━━━━━━━━━━━━\u001b[0m\u001b[37m\u001b[0m \u001b[1m1s\u001b[0m 31ms/step - categorical_accuracy: 0.9970 - loss: 0.0235\n",
      "Epoch 75/300\n",
      "\u001b[1m20/20\u001b[0m \u001b[32m━━━━━━━━━━━━━━━━━━━━\u001b[0m\u001b[37m\u001b[0m \u001b[1m1s\u001b[0m 28ms/step - categorical_accuracy: 0.9920 - loss: 0.0262\n",
      "Epoch 76/300\n",
      "\u001b[1m20/20\u001b[0m \u001b[32m━━━━━━━━━━━━━━━━━━━━\u001b[0m\u001b[37m\u001b[0m \u001b[1m1s\u001b[0m 29ms/step - categorical_accuracy: 0.9798 - loss: 0.0645\n",
      "Epoch 77/300\n",
      "\u001b[1m20/20\u001b[0m \u001b[32m━━━━━━━━━━━━━━━━━━━━\u001b[0m\u001b[37m\u001b[0m \u001b[1m1s\u001b[0m 29ms/step - categorical_accuracy: 0.9710 - loss: 0.0781\n",
      "Epoch 78/300\n",
      "\u001b[1m20/20\u001b[0m \u001b[32m━━━━━━━━━━━━━━━━━━━━\u001b[0m\u001b[37m\u001b[0m \u001b[1m1s\u001b[0m 29ms/step - categorical_accuracy: 0.9675 - loss: 0.0841\n",
      "Epoch 79/300\n",
      "\u001b[1m20/20\u001b[0m \u001b[32m━━━━━━━━━━━━━━━━━━━━\u001b[0m\u001b[37m\u001b[0m \u001b[1m1s\u001b[0m 30ms/step - categorical_accuracy: 0.9925 - loss: 0.0465\n",
      "Epoch 80/300\n",
      "\u001b[1m20/20\u001b[0m \u001b[32m━━━━━━━━━━━━━━━━━━━━\u001b[0m\u001b[37m\u001b[0m \u001b[1m1s\u001b[0m 29ms/step - categorical_accuracy: 0.9987 - loss: 0.0184\n",
      "Epoch 81/300\n",
      "\u001b[1m20/20\u001b[0m \u001b[32m━━━━━━━━━━━━━━━━━━━━\u001b[0m\u001b[37m\u001b[0m \u001b[1m1s\u001b[0m 30ms/step - categorical_accuracy: 0.9871 - loss: 0.0401\n",
      "Epoch 82/300\n",
      "\u001b[1m20/20\u001b[0m \u001b[32m━━━━━━━━━━━━━━━━━━━━\u001b[0m\u001b[37m\u001b[0m \u001b[1m1s\u001b[0m 28ms/step - categorical_accuracy: 0.9809 - loss: 0.0558\n",
      "Epoch 83/300\n",
      "\u001b[1m20/20\u001b[0m \u001b[32m━━━━━━━━━━━━━━━━━━━━\u001b[0m\u001b[37m\u001b[0m \u001b[1m1s\u001b[0m 28ms/step - categorical_accuracy: 0.9939 - loss: 0.0220\n",
      "Epoch 84/300\n",
      "\u001b[1m20/20\u001b[0m \u001b[32m━━━━━━━━━━━━━━━━━━━━\u001b[0m\u001b[37m\u001b[0m \u001b[1m1s\u001b[0m 29ms/step - categorical_accuracy: 0.9965 - loss: 0.0101\n",
      "Epoch 85/300\n",
      "\u001b[1m20/20\u001b[0m \u001b[32m━━━━━━━━━━━━━━━━━━━━\u001b[0m\u001b[37m\u001b[0m \u001b[1m1s\u001b[0m 28ms/step - categorical_accuracy: 0.9990 - loss: 0.0079\n",
      "Epoch 86/300\n",
      "\u001b[1m20/20\u001b[0m \u001b[32m━━━━━━━━━━━━━━━━━━━━\u001b[0m\u001b[37m\u001b[0m \u001b[1m1s\u001b[0m 29ms/step - categorical_accuracy: 0.9939 - loss: 0.0165\n",
      "Epoch 87/300\n",
      "\u001b[1m20/20\u001b[0m \u001b[32m━━━━━━━━━━━━━━━━━━━━\u001b[0m\u001b[37m\u001b[0m \u001b[1m1s\u001b[0m 29ms/step - categorical_accuracy: 0.9953 - loss: 0.0126\n",
      "Epoch 88/300\n",
      "\u001b[1m20/20\u001b[0m \u001b[32m━━━━━━━━━━━━━━━━━━━━\u001b[0m\u001b[37m\u001b[0m \u001b[1m1s\u001b[0m 28ms/step - categorical_accuracy: 0.9953 - loss: 0.0117\n",
      "Epoch 89/300\n",
      "\u001b[1m20/20\u001b[0m \u001b[32m━━━━━━━━━━━━━━━━━━━━\u001b[0m\u001b[37m\u001b[0m \u001b[1m1s\u001b[0m 31ms/step - categorical_accuracy: 0.9968 - loss: 0.0089\n",
      "Epoch 90/300\n",
      "\u001b[1m20/20\u001b[0m \u001b[32m━━━━━━━━━━━━━━━━━━━━\u001b[0m\u001b[37m\u001b[0m \u001b[1m1s\u001b[0m 29ms/step - categorical_accuracy: 0.9948 - loss: 0.0112\n",
      "Epoch 91/300\n",
      "\u001b[1m20/20\u001b[0m \u001b[32m━━━━━━━━━━━━━━━━━━━━\u001b[0m\u001b[37m\u001b[0m \u001b[1m1s\u001b[0m 29ms/step - categorical_accuracy: 0.9913 - loss: 0.0195\n",
      "Epoch 92/300\n",
      "\u001b[1m20/20\u001b[0m \u001b[32m━━━━━━━━━━━━━━━━━━━━\u001b[0m\u001b[37m\u001b[0m \u001b[1m1s\u001b[0m 28ms/step - categorical_accuracy: 0.9959 - loss: 0.0137\n",
      "Epoch 93/300\n",
      "\u001b[1m20/20\u001b[0m \u001b[32m━━━━━━━━━━━━━━━━━━━━\u001b[0m\u001b[37m\u001b[0m \u001b[1m1s\u001b[0m 33ms/step - categorical_accuracy: 0.8190 - loss: 1.1484\n",
      "Epoch 94/300\n",
      "\u001b[1m20/20\u001b[0m \u001b[32m━━━━━━━━━━━━━━━━━━━━\u001b[0m\u001b[37m\u001b[0m \u001b[1m1s\u001b[0m 31ms/step - categorical_accuracy: 0.8182 - loss: 0.7280\n",
      "Epoch 95/300\n",
      "\u001b[1m20/20\u001b[0m \u001b[32m━━━━━━━━━━━━━━━━━━━━\u001b[0m\u001b[37m\u001b[0m \u001b[1m1s\u001b[0m 37ms/step - categorical_accuracy: 0.9116 - loss: 0.3660\n",
      "Epoch 96/300\n",
      "\u001b[1m20/20\u001b[0m \u001b[32m━━━━━━━━━━━━━━━━━━━━\u001b[0m\u001b[37m\u001b[0m \u001b[1m1s\u001b[0m 30ms/step - categorical_accuracy: 0.9476 - loss: 0.2118\n",
      "Epoch 97/300\n",
      "\u001b[1m20/20\u001b[0m \u001b[32m━━━━━━━━━━━━━━━━━━━━\u001b[0m\u001b[37m\u001b[0m \u001b[1m1s\u001b[0m 28ms/step - categorical_accuracy: 0.9365 - loss: 0.1888\n",
      "Epoch 98/300\n",
      "\u001b[1m20/20\u001b[0m \u001b[32m━━━━━━━━━━━━━━━━━━━━\u001b[0m\u001b[37m\u001b[0m \u001b[1m1s\u001b[0m 31ms/step - categorical_accuracy: 0.9361 - loss: 0.1892\n",
      "Epoch 99/300\n",
      "\u001b[1m20/20\u001b[0m \u001b[32m━━━━━━━━━━━━━━━━━━━━\u001b[0m\u001b[37m\u001b[0m \u001b[1m1s\u001b[0m 31ms/step - categorical_accuracy: 0.9588 - loss: 0.1311\n",
      "Epoch 100/300\n",
      "\u001b[1m20/20\u001b[0m \u001b[32m━━━━━━━━━━━━━━━━━━━━\u001b[0m\u001b[37m\u001b[0m \u001b[1m1s\u001b[0m 35ms/step - categorical_accuracy: 0.9816 - loss: 0.0746\n",
      "Epoch 101/300\n",
      "\u001b[1m20/20\u001b[0m \u001b[32m━━━━━━━━━━━━━━━━━━━━\u001b[0m\u001b[37m\u001b[0m \u001b[1m1s\u001b[0m 29ms/step - categorical_accuracy: 0.9622 - loss: 0.0891\n",
      "Epoch 102/300\n",
      "\u001b[1m20/20\u001b[0m \u001b[32m━━━━━━━━━━━━━━━━━━━━\u001b[0m\u001b[37m\u001b[0m \u001b[1m1s\u001b[0m 32ms/step - categorical_accuracy: 0.9658 - loss: 0.0943\n",
      "Epoch 103/300\n",
      "\u001b[1m20/20\u001b[0m \u001b[32m━━━━━━━━━━━━━━━━━━━━\u001b[0m\u001b[37m\u001b[0m \u001b[1m1s\u001b[0m 28ms/step - categorical_accuracy: 0.9754 - loss: 0.0658\n",
      "Epoch 104/300\n",
      "\u001b[1m20/20\u001b[0m \u001b[32m━━━━━━━━━━━━━━━━━━━━\u001b[0m\u001b[37m\u001b[0m \u001b[1m1s\u001b[0m 27ms/step - categorical_accuracy: 0.9869 - loss: 0.0440\n",
      "Epoch 105/300\n",
      "\u001b[1m20/20\u001b[0m \u001b[32m━━━━━━━━━━━━━━━━━━━━\u001b[0m\u001b[37m\u001b[0m \u001b[1m1s\u001b[0m 31ms/step - categorical_accuracy: 0.9867 - loss: 0.0368\n",
      "Epoch 106/300\n",
      "\u001b[1m20/20\u001b[0m \u001b[32m━━━━━━━━━━━━━━━━━━━━\u001b[0m\u001b[37m\u001b[0m \u001b[1m1s\u001b[0m 33ms/step - categorical_accuracy: 0.9963 - loss: 0.0338\n",
      "Epoch 107/300\n",
      "\u001b[1m20/20\u001b[0m \u001b[32m━━━━━━━━━━━━━━━━━━━━\u001b[0m\u001b[37m\u001b[0m \u001b[1m1s\u001b[0m 31ms/step - categorical_accuracy: 0.9625 - loss: 0.1060\n",
      "Epoch 108/300\n",
      "\u001b[1m20/20\u001b[0m \u001b[32m━━━━━━━━━━━━━━━━━━━━\u001b[0m\u001b[37m\u001b[0m \u001b[1m1s\u001b[0m 32ms/step - categorical_accuracy: 0.9917 - loss: 0.0300\n",
      "Epoch 109/300\n",
      "\u001b[1m20/20\u001b[0m \u001b[32m━━━━━━━━━━━━━━━━━━━━\u001b[0m\u001b[37m\u001b[0m \u001b[1m1s\u001b[0m 27ms/step - categorical_accuracy: 0.9851 - loss: 0.0430\n",
      "Epoch 110/300\n",
      "\u001b[1m20/20\u001b[0m \u001b[32m━━━━━━━━━━━━━━━━━━━━\u001b[0m\u001b[37m\u001b[0m \u001b[1m1s\u001b[0m 29ms/step - categorical_accuracy: 0.9939 - loss: 0.0231\n",
      "Epoch 111/300\n",
      "\u001b[1m20/20\u001b[0m \u001b[32m━━━━━━━━━━━━━━━━━━━━\u001b[0m\u001b[37m\u001b[0m \u001b[1m1s\u001b[0m 29ms/step - categorical_accuracy: 0.9908 - loss: 0.0176\n",
      "Epoch 112/300\n",
      "\u001b[1m20/20\u001b[0m \u001b[32m━━━━━━━━━━━━━━━━━━━━\u001b[0m\u001b[37m\u001b[0m \u001b[1m1s\u001b[0m 29ms/step - categorical_accuracy: 0.9972 - loss: 0.0086\n",
      "Epoch 113/300\n",
      "\u001b[1m20/20\u001b[0m \u001b[32m━━━━━━━━━━━━━━━━━━━━\u001b[0m\u001b[37m\u001b[0m \u001b[1m1s\u001b[0m 28ms/step - categorical_accuracy: 0.9972 - loss: 0.0167\n",
      "Epoch 114/300\n",
      "\u001b[1m20/20\u001b[0m \u001b[32m━━━━━━━━━━━━━━━━━━━━\u001b[0m\u001b[37m\u001b[0m \u001b[1m1s\u001b[0m 30ms/step - categorical_accuracy: 0.9893 - loss: 0.0375\n",
      "Epoch 115/300\n",
      "\u001b[1m20/20\u001b[0m \u001b[32m━━━━━━━━━━━━━━━━━━━━\u001b[0m\u001b[37m\u001b[0m \u001b[1m1s\u001b[0m 28ms/step - categorical_accuracy: 0.9581 - loss: 0.1518\n",
      "Epoch 116/300\n",
      "\u001b[1m20/20\u001b[0m \u001b[32m━━━━━━━━━━━━━━━━━━━━\u001b[0m\u001b[37m\u001b[0m \u001b[1m1s\u001b[0m 28ms/step - categorical_accuracy: 0.9444 - loss: 0.1743\n",
      "Epoch 117/300\n",
      "\u001b[1m20/20\u001b[0m \u001b[32m━━━━━━━━━━━━━━━━━━━━\u001b[0m\u001b[37m\u001b[0m \u001b[1m1s\u001b[0m 28ms/step - categorical_accuracy: 0.9619 - loss: 0.1068\n",
      "Epoch 118/300\n",
      "\u001b[1m20/20\u001b[0m \u001b[32m━━━━━━━━━━━━━━━━━━━━\u001b[0m\u001b[37m\u001b[0m \u001b[1m1s\u001b[0m 27ms/step - categorical_accuracy: 0.9825 - loss: 0.0474\n",
      "Epoch 119/300\n",
      "\u001b[1m20/20\u001b[0m \u001b[32m━━━━━━━━━━━━━━━━━━━━\u001b[0m\u001b[37m\u001b[0m \u001b[1m1s\u001b[0m 31ms/step - categorical_accuracy: 0.9965 - loss: 0.0157\n",
      "Epoch 120/300\n",
      "\u001b[1m20/20\u001b[0m \u001b[32m━━━━━━━━━━━━━━━━━━━━\u001b[0m\u001b[37m\u001b[0m \u001b[1m1s\u001b[0m 33ms/step - categorical_accuracy: 0.9966 - loss: 0.0182\n",
      "Epoch 121/300\n",
      "\u001b[1m20/20\u001b[0m \u001b[32m━━━━━━━━━━━━━━━━━━━━\u001b[0m\u001b[37m\u001b[0m \u001b[1m1s\u001b[0m 31ms/step - categorical_accuracy: 0.9942 - loss: 0.0160\n",
      "Epoch 122/300\n",
      "\u001b[1m20/20\u001b[0m \u001b[32m━━━━━━━━━━━━━━━━━━━━\u001b[0m\u001b[37m\u001b[0m \u001b[1m1s\u001b[0m 28ms/step - categorical_accuracy: 0.9976 - loss: 0.0078\n",
      "Epoch 123/300\n",
      "\u001b[1m20/20\u001b[0m \u001b[32m━━━━━━━━━━━━━━━━━━━━\u001b[0m\u001b[37m\u001b[0m \u001b[1m1s\u001b[0m 29ms/step - categorical_accuracy: 0.9986 - loss: 0.0084\n",
      "Epoch 124/300\n",
      "\u001b[1m20/20\u001b[0m \u001b[32m━━━━━━━━━━━━━━━━━━━━\u001b[0m\u001b[37m\u001b[0m \u001b[1m1s\u001b[0m 27ms/step - categorical_accuracy: 0.9941 - loss: 0.0123\n",
      "Epoch 125/300\n",
      "\u001b[1m20/20\u001b[0m \u001b[32m━━━━━━━━━━━━━━━━━━━━\u001b[0m\u001b[37m\u001b[0m \u001b[1m1s\u001b[0m 29ms/step - categorical_accuracy: 0.9971 - loss: 0.0076\n",
      "Epoch 126/300\n",
      "\u001b[1m20/20\u001b[0m \u001b[32m━━━━━━━━━━━━━━━━━━━━\u001b[0m\u001b[37m\u001b[0m \u001b[1m1s\u001b[0m 29ms/step - categorical_accuracy: 0.9977 - loss: 0.0062\n",
      "Epoch 127/300\n",
      "\u001b[1m20/20\u001b[0m \u001b[32m━━━━━━━━━━━━━━━━━━━━\u001b[0m\u001b[37m\u001b[0m \u001b[1m1s\u001b[0m 28ms/step - categorical_accuracy: 0.9945 - loss: 0.0109\n",
      "Epoch 128/300\n",
      "\u001b[1m20/20\u001b[0m \u001b[32m━━━━━━━━━━━━━━━━━━━━\u001b[0m\u001b[37m\u001b[0m \u001b[1m1s\u001b[0m 27ms/step - categorical_accuracy: 0.9966 - loss: 0.0097\n",
      "Epoch 129/300\n",
      "\u001b[1m20/20\u001b[0m \u001b[32m━━━━━━━━━━━━━━━━━━━━\u001b[0m\u001b[37m\u001b[0m \u001b[1m1s\u001b[0m 28ms/step - categorical_accuracy: 0.9989 - loss: 0.0046\n",
      "Epoch 130/300\n",
      "\u001b[1m20/20\u001b[0m \u001b[32m━━━━━━━━━━━━━━━━━━━━\u001b[0m\u001b[37m\u001b[0m \u001b[1m1s\u001b[0m 27ms/step - categorical_accuracy: 0.9975 - loss: 0.0064\n",
      "Epoch 131/300\n",
      "\u001b[1m20/20\u001b[0m \u001b[32m━━━━━━━━━━━━━━━━━━━━\u001b[0m\u001b[37m\u001b[0m \u001b[1m1s\u001b[0m 27ms/step - categorical_accuracy: 0.9965 - loss: 0.0062\n",
      "Epoch 132/300\n",
      "\u001b[1m20/20\u001b[0m \u001b[32m━━━━━━━━━━━━━━━━━━━━\u001b[0m\u001b[37m\u001b[0m \u001b[1m1s\u001b[0m 30ms/step - categorical_accuracy: 0.9983 - loss: 0.0036\n",
      "Epoch 133/300\n",
      "\u001b[1m20/20\u001b[0m \u001b[32m━━━━━━━━━━━━━━━━━━━━\u001b[0m\u001b[37m\u001b[0m \u001b[1m1s\u001b[0m 28ms/step - categorical_accuracy: 0.9962 - loss: 0.0058\n",
      "Epoch 134/300\n",
      "\u001b[1m20/20\u001b[0m \u001b[32m━━━━━━━━━━━━━━━━━━━━\u001b[0m\u001b[37m\u001b[0m \u001b[1m1s\u001b[0m 27ms/step - categorical_accuracy: 0.9964 - loss: 0.0074\n",
      "Epoch 135/300\n",
      "\u001b[1m20/20\u001b[0m \u001b[32m━━━━━━━━━━━━━━━━━━━━\u001b[0m\u001b[37m\u001b[0m \u001b[1m1s\u001b[0m 30ms/step - categorical_accuracy: 0.9960 - loss: 0.0050\n",
      "Epoch 136/300\n",
      "\u001b[1m20/20\u001b[0m \u001b[32m━━━━━━━━━━━━━━━━━━━━\u001b[0m\u001b[37m\u001b[0m \u001b[1m1s\u001b[0m 28ms/step - categorical_accuracy: 0.9995 - loss: 0.0020  \n",
      "Epoch 137/300\n",
      "\u001b[1m20/20\u001b[0m \u001b[32m━━━━━━━━━━━━━━━━━━━━\u001b[0m\u001b[37m\u001b[0m \u001b[1m1s\u001b[0m 28ms/step - categorical_accuracy: 0.9989 - loss: 0.0023\n",
      "Epoch 138/300\n",
      "\u001b[1m20/20\u001b[0m \u001b[32m━━━━━━━━━━━━━━━━━━━━\u001b[0m\u001b[37m\u001b[0m \u001b[1m1s\u001b[0m 32ms/step - categorical_accuracy: 0.9991 - loss: 0.0060\n",
      "Epoch 139/300\n",
      "\u001b[1m20/20\u001b[0m \u001b[32m━━━━━━━━━━━━━━━━━━━━\u001b[0m\u001b[37m\u001b[0m \u001b[1m1s\u001b[0m 27ms/step - categorical_accuracy: 0.9984 - loss: 0.0051\n",
      "Epoch 140/300\n",
      "\u001b[1m20/20\u001b[0m \u001b[32m━━━━━━━━━━━━━━━━━━━━\u001b[0m\u001b[37m\u001b[0m \u001b[1m1s\u001b[0m 29ms/step - categorical_accuracy: 0.9981 - loss: 0.0026\n",
      "Epoch 141/300\n",
      "\u001b[1m20/20\u001b[0m \u001b[32m━━━━━━━━━━━━━━━━━━━━\u001b[0m\u001b[37m\u001b[0m \u001b[1m1s\u001b[0m 27ms/step - categorical_accuracy: 0.9998 - loss: 0.0018\n",
      "Epoch 142/300\n",
      "\u001b[1m20/20\u001b[0m \u001b[32m━━━━━━━━━━━━━━━━━━━━\u001b[0m\u001b[37m\u001b[0m \u001b[1m1s\u001b[0m 29ms/step - categorical_accuracy: 0.9869 - loss: 0.0465\n",
      "Epoch 143/300\n",
      "\u001b[1m20/20\u001b[0m \u001b[32m━━━━━━━━━━━━━━━━━━━━\u001b[0m\u001b[37m\u001b[0m \u001b[1m1s\u001b[0m 29ms/step - categorical_accuracy: 0.9788 - loss: 0.0729\n",
      "Epoch 144/300\n",
      "\u001b[1m20/20\u001b[0m \u001b[32m━━━━━━━━━━━━━━━━━━━━\u001b[0m\u001b[37m\u001b[0m \u001b[1m1s\u001b[0m 33ms/step - categorical_accuracy: 0.9872 - loss: 0.0440\n",
      "Epoch 145/300\n",
      "\u001b[1m20/20\u001b[0m \u001b[32m━━━━━━━━━━━━━━━━━━━━\u001b[0m\u001b[37m\u001b[0m \u001b[1m1s\u001b[0m 29ms/step - categorical_accuracy: 0.9940 - loss: 0.0225\n",
      "Epoch 146/300\n",
      "\u001b[1m20/20\u001b[0m \u001b[32m━━━━━━━━━━━━━━━━━━━━\u001b[0m\u001b[37m\u001b[0m \u001b[1m1s\u001b[0m 27ms/step - categorical_accuracy: 0.9935 - loss: 0.0160\n",
      "Epoch 147/300\n",
      "\u001b[1m20/20\u001b[0m \u001b[32m━━━━━━━━━━━━━━━━━━━━\u001b[0m\u001b[37m\u001b[0m \u001b[1m1s\u001b[0m 31ms/step - categorical_accuracy: 0.9973 - loss: 0.0067\n",
      "Epoch 148/300\n",
      "\u001b[1m20/20\u001b[0m \u001b[32m━━━━━━━━━━━━━━━━━━━━\u001b[0m\u001b[37m\u001b[0m \u001b[1m1s\u001b[0m 30ms/step - categorical_accuracy: 0.9953 - loss: 0.0105\n",
      "Epoch 149/300\n",
      "\u001b[1m20/20\u001b[0m \u001b[32m━━━━━━━━━━━━━━━━━━━━\u001b[0m\u001b[37m\u001b[0m \u001b[1m1s\u001b[0m 29ms/step - categorical_accuracy: 0.9957 - loss: 0.0069\n",
      "Epoch 150/300\n",
      "\u001b[1m20/20\u001b[0m \u001b[32m━━━━━━━━━━━━━━━━━━━━\u001b[0m\u001b[37m\u001b[0m \u001b[1m1s\u001b[0m 29ms/step - categorical_accuracy: 0.9992 - loss: 0.0062\n",
      "Epoch 151/300\n",
      "\u001b[1m20/20\u001b[0m \u001b[32m━━━━━━━━━━━━━━━━━━━━\u001b[0m\u001b[37m\u001b[0m \u001b[1m1s\u001b[0m 30ms/step - categorical_accuracy: 0.9956 - loss: 0.0087\n",
      "Epoch 152/300\n",
      "\u001b[1m20/20\u001b[0m \u001b[32m━━━━━━━━━━━━━━━━━━━━\u001b[0m\u001b[37m\u001b[0m \u001b[1m1s\u001b[0m 28ms/step - categorical_accuracy: 0.9992 - loss: 0.0032\n",
      "Epoch 153/300\n",
      "\u001b[1m20/20\u001b[0m \u001b[32m━━━━━━━━━━━━━━━━━━━━\u001b[0m\u001b[37m\u001b[0m \u001b[1m1s\u001b[0m 29ms/step - categorical_accuracy: 0.9945 - loss: 0.0102\n",
      "Epoch 154/300\n",
      "\u001b[1m20/20\u001b[0m \u001b[32m━━━━━━━━━━━━━━━━━━━━\u001b[0m\u001b[37m\u001b[0m \u001b[1m1s\u001b[0m 29ms/step - categorical_accuracy: 0.9640 - loss: 0.1426\n",
      "Epoch 155/300\n",
      "\u001b[1m20/20\u001b[0m \u001b[32m━━━━━━━━━━━━━━━━━━━━\u001b[0m\u001b[37m\u001b[0m \u001b[1m1s\u001b[0m 33ms/step - categorical_accuracy: 0.9574 - loss: 0.1623\n",
      "Epoch 156/300\n",
      "\u001b[1m20/20\u001b[0m \u001b[32m━━━━━━━━━━━━━━━━━━━━\u001b[0m\u001b[37m\u001b[0m \u001b[1m1s\u001b[0m 28ms/step - categorical_accuracy: 0.9567 - loss: 0.1439\n",
      "Epoch 157/300\n",
      "\u001b[1m20/20\u001b[0m \u001b[32m━━━━━━━━━━━━━━━━━━━━\u001b[0m\u001b[37m\u001b[0m \u001b[1m1s\u001b[0m 31ms/step - categorical_accuracy: 0.9884 - loss: 0.0560\n",
      "Epoch 158/300\n",
      "\u001b[1m20/20\u001b[0m \u001b[32m━━━━━━━━━━━━━━━━━━━━\u001b[0m\u001b[37m\u001b[0m \u001b[1m1s\u001b[0m 27ms/step - categorical_accuracy: 0.9868 - loss: 0.0358\n",
      "Epoch 159/300\n",
      "\u001b[1m20/20\u001b[0m \u001b[32m━━━━━━━━━━━━━━━━━━━━\u001b[0m\u001b[37m\u001b[0m \u001b[1m1s\u001b[0m 27ms/step - categorical_accuracy: 0.9972 - loss: 0.0118\n",
      "Epoch 160/300\n",
      "\u001b[1m20/20\u001b[0m \u001b[32m━━━━━━━━━━━━━━━━━━━━\u001b[0m\u001b[37m\u001b[0m \u001b[1m1s\u001b[0m 28ms/step - categorical_accuracy: 0.9989 - loss: 0.0050\n",
      "Epoch 161/300\n",
      "\u001b[1m20/20\u001b[0m \u001b[32m━━━━━━━━━━━━━━━━━━━━\u001b[0m\u001b[37m\u001b[0m \u001b[1m1s\u001b[0m 27ms/step - categorical_accuracy: 0.9989 - loss: 0.0044\n",
      "Epoch 162/300\n",
      "\u001b[1m20/20\u001b[0m \u001b[32m━━━━━━━━━━━━━━━━━━━━\u001b[0m\u001b[37m\u001b[0m \u001b[1m1s\u001b[0m 28ms/step - categorical_accuracy: 0.9967 - loss: 0.0074\n",
      "Epoch 163/300\n",
      "\u001b[1m20/20\u001b[0m \u001b[32m━━━━━━━━━━━━━━━━━━━━\u001b[0m\u001b[37m\u001b[0m \u001b[1m1s\u001b[0m 30ms/step - categorical_accuracy: 0.9974 - loss: 0.0070\n",
      "Epoch 164/300\n",
      "\u001b[1m20/20\u001b[0m \u001b[32m━━━━━━━━━━━━━━━━━━━━\u001b[0m\u001b[37m\u001b[0m \u001b[1m1s\u001b[0m 34ms/step - categorical_accuracy: 0.9974 - loss: 0.0051\n",
      "Epoch 165/300\n",
      "\u001b[1m20/20\u001b[0m \u001b[32m━━━━━━━━━━━━━━━━━━━━\u001b[0m\u001b[37m\u001b[0m \u001b[1m1s\u001b[0m 34ms/step - categorical_accuracy: 0.9958 - loss: 0.0071\n",
      "Epoch 166/300\n",
      "\u001b[1m20/20\u001b[0m \u001b[32m━━━━━━━━━━━━━━━━━━━━\u001b[0m\u001b[37m\u001b[0m \u001b[1m1s\u001b[0m 31ms/step - categorical_accuracy: 0.9971 - loss: 0.0059\n",
      "Epoch 167/300\n",
      "\u001b[1m20/20\u001b[0m \u001b[32m━━━━━━━━━━━━━━━━━━━━\u001b[0m\u001b[37m\u001b[0m \u001b[1m1s\u001b[0m 27ms/step - categorical_accuracy: 0.9943 - loss: 0.0122\n",
      "Epoch 168/300\n",
      "\u001b[1m20/20\u001b[0m \u001b[32m━━━━━━━━━━━━━━━━━━━━\u001b[0m\u001b[37m\u001b[0m \u001b[1m1s\u001b[0m 28ms/step - categorical_accuracy: 0.9947 - loss: 0.0138\n",
      "Epoch 169/300\n",
      "\u001b[1m20/20\u001b[0m \u001b[32m━━━━━━━━━━━━━━━━━━━━\u001b[0m\u001b[37m\u001b[0m \u001b[1m1s\u001b[0m 28ms/step - categorical_accuracy: 0.9957 - loss: 0.0088\n",
      "Epoch 170/300\n",
      "\u001b[1m20/20\u001b[0m \u001b[32m━━━━━━━━━━━━━━━━━━━━\u001b[0m\u001b[37m\u001b[0m \u001b[1m1s\u001b[0m 28ms/step - categorical_accuracy: 0.9918 - loss: 0.0145\n",
      "Epoch 171/300\n",
      "\u001b[1m20/20\u001b[0m \u001b[32m━━━━━━━━━━━━━━━━━━━━\u001b[0m\u001b[37m\u001b[0m \u001b[1m1s\u001b[0m 31ms/step - categorical_accuracy: 0.9971 - loss: 0.0069\n",
      "Epoch 172/300\n",
      "\u001b[1m20/20\u001b[0m \u001b[32m━━━━━━━━━━━━━━━━━━━━\u001b[0m\u001b[37m\u001b[0m \u001b[1m1s\u001b[0m 29ms/step - categorical_accuracy: 0.9930 - loss: 0.0120\n",
      "Epoch 173/300\n",
      "\u001b[1m20/20\u001b[0m \u001b[32m━━━━━━━━━━━━━━━━━━━━\u001b[0m\u001b[37m\u001b[0m \u001b[1m1s\u001b[0m 29ms/step - categorical_accuracy: 0.9971 - loss: 0.0065\n",
      "Epoch 174/300\n",
      "\u001b[1m20/20\u001b[0m \u001b[32m━━━━━━━━━━━━━━━━━━━━\u001b[0m\u001b[37m\u001b[0m \u001b[1m1s\u001b[0m 28ms/step - categorical_accuracy: 0.9961 - loss: 0.0054\n",
      "Epoch 175/300\n",
      "\u001b[1m20/20\u001b[0m \u001b[32m━━━━━━━━━━━━━━━━━━━━\u001b[0m\u001b[37m\u001b[0m \u001b[1m1s\u001b[0m 30ms/step - categorical_accuracy: 0.9992 - loss: 0.0039\n",
      "Epoch 176/300\n",
      "\u001b[1m20/20\u001b[0m \u001b[32m━━━━━━━━━━━━━━━━━━━━\u001b[0m\u001b[37m\u001b[0m \u001b[1m1s\u001b[0m 31ms/step - categorical_accuracy: 0.9992 - loss: 0.0019 \n",
      "Epoch 177/300\n",
      "\u001b[1m20/20\u001b[0m \u001b[32m━━━━━━━━━━━━━━━━━━━━\u001b[0m\u001b[37m\u001b[0m \u001b[1m1s\u001b[0m 28ms/step - categorical_accuracy: 0.9977 - loss: 0.0029\n",
      "Epoch 178/300\n",
      "\u001b[1m20/20\u001b[0m \u001b[32m━━━━━━━━━━━━━━━━━━━━\u001b[0m\u001b[37m\u001b[0m \u001b[1m1s\u001b[0m 28ms/step - categorical_accuracy: 0.9992 - loss: 0.0015  \n",
      "Epoch 179/300\n",
      "\u001b[1m20/20\u001b[0m \u001b[32m━━━━━━━━━━━━━━━━━━━━\u001b[0m\u001b[37m\u001b[0m \u001b[1m1s\u001b[0m 30ms/step - categorical_accuracy: 0.9953 - loss: 0.0042\n",
      "Epoch 180/300\n",
      "\u001b[1m20/20\u001b[0m \u001b[32m━━━━━━━━━━━━━━━━━━━━\u001b[0m\u001b[37m\u001b[0m \u001b[1m1s\u001b[0m 28ms/step - categorical_accuracy: 0.9996 - loss: 0.0042\n",
      "Epoch 181/300\n",
      "\u001b[1m20/20\u001b[0m \u001b[32m━━━━━━━━━━━━━━━━━━━━\u001b[0m\u001b[37m\u001b[0m \u001b[1m1s\u001b[0m 28ms/step - categorical_accuracy: 0.9984 - loss: 0.0032\n",
      "Epoch 182/300\n",
      "\u001b[1m20/20\u001b[0m \u001b[32m━━━━━━━━━━━━━━━━━━━━\u001b[0m\u001b[37m\u001b[0m \u001b[1m1s\u001b[0m 28ms/step - categorical_accuracy: 0.9980 - loss: 0.0021\n",
      "Epoch 183/300\n",
      "\u001b[1m20/20\u001b[0m \u001b[32m━━━━━━━━━━━━━━━━━━━━\u001b[0m\u001b[37m\u001b[0m \u001b[1m1s\u001b[0m 28ms/step - categorical_accuracy: 0.9914 - loss: 0.0071\n",
      "Epoch 184/300\n",
      "\u001b[1m20/20\u001b[0m \u001b[32m━━━━━━━━━━━━━━━━━━━━\u001b[0m\u001b[37m\u001b[0m \u001b[1m1s\u001b[0m 28ms/step - categorical_accuracy: 0.9992 - loss: 0.0027\n",
      "Epoch 185/300\n",
      "\u001b[1m20/20\u001b[0m \u001b[32m━━━━━━━━━━━━━━━━━━━━\u001b[0m\u001b[37m\u001b[0m \u001b[1m1s\u001b[0m 32ms/step - categorical_accuracy: 0.9998 - loss: 8.9264e-04\n",
      "Epoch 186/300\n",
      "\u001b[1m20/20\u001b[0m \u001b[32m━━━━━━━━━━━━━━━━━━━━\u001b[0m\u001b[37m\u001b[0m \u001b[1m1s\u001b[0m 28ms/step - categorical_accuracy: 0.9966 - loss: 0.0059\n",
      "Epoch 187/300\n",
      "\u001b[1m20/20\u001b[0m \u001b[32m━━━━━━━━━━━━━━━━━━━━\u001b[0m\u001b[37m\u001b[0m \u001b[1m1s\u001b[0m 29ms/step - categorical_accuracy: 0.9574 - loss: 0.1035\n",
      "Epoch 188/300\n",
      "\u001b[1m20/20\u001b[0m \u001b[32m━━━━━━━━━━━━━━━━━━━━\u001b[0m\u001b[37m\u001b[0m \u001b[1m1s\u001b[0m 29ms/step - categorical_accuracy: 0.9779 - loss: 0.0850\n",
      "Epoch 189/300\n",
      "\u001b[1m20/20\u001b[0m \u001b[32m━━━━━━━━━━━━━━━━━━━━\u001b[0m\u001b[37m\u001b[0m \u001b[1m1s\u001b[0m 29ms/step - categorical_accuracy: 0.9904 - loss: 0.0260\n",
      "Epoch 190/300\n",
      "\u001b[1m20/20\u001b[0m \u001b[32m━━━━━━━━━━━━━━━━━━━━\u001b[0m\u001b[37m\u001b[0m \u001b[1m1s\u001b[0m 32ms/step - categorical_accuracy: 0.9914 - loss: 0.0240\n",
      "Epoch 191/300\n",
      "\u001b[1m20/20\u001b[0m \u001b[32m━━━━━━━━━━━━━━━━━━━━\u001b[0m\u001b[37m\u001b[0m \u001b[1m1s\u001b[0m 28ms/step - categorical_accuracy: 0.9929 - loss: 0.0241\n",
      "Epoch 192/300\n",
      "\u001b[1m20/20\u001b[0m \u001b[32m━━━━━━━━━━━━━━━━━━━━\u001b[0m\u001b[37m\u001b[0m \u001b[1m1s\u001b[0m 31ms/step - categorical_accuracy: 0.9980 - loss: 0.0077\n",
      "Epoch 193/300\n",
      "\u001b[1m20/20\u001b[0m \u001b[32m━━━━━━━━━━━━━━━━━━━━\u001b[0m\u001b[37m\u001b[0m \u001b[1m1s\u001b[0m 30ms/step - categorical_accuracy: 0.9993 - loss: 0.0077\n",
      "Epoch 194/300\n",
      "\u001b[1m20/20\u001b[0m \u001b[32m━━━━━━━━━━━━━━━━━━━━\u001b[0m\u001b[37m\u001b[0m \u001b[1m1s\u001b[0m 28ms/step - categorical_accuracy: 0.9986 - loss: 0.0043\n",
      "Epoch 195/300\n",
      "\u001b[1m20/20\u001b[0m \u001b[32m━━━━━━━━━━━━━━━━━━━━\u001b[0m\u001b[37m\u001b[0m \u001b[1m1s\u001b[0m 28ms/step - categorical_accuracy: 0.9946 - loss: 0.0109\n",
      "Epoch 196/300\n",
      "\u001b[1m20/20\u001b[0m \u001b[32m━━━━━━━━━━━━━━━━━━━━\u001b[0m\u001b[37m\u001b[0m \u001b[1m1s\u001b[0m 27ms/step - categorical_accuracy: 0.9979 - loss: 0.0037\n",
      "Epoch 197/300\n",
      "\u001b[1m20/20\u001b[0m \u001b[32m━━━━━━━━━━━━━━━━━━━━\u001b[0m\u001b[37m\u001b[0m \u001b[1m1s\u001b[0m 27ms/step - categorical_accuracy: 0.9991 - loss: 0.0023 \n",
      "Epoch 198/300\n",
      "\u001b[1m20/20\u001b[0m \u001b[32m━━━━━━━━━━━━━━━━━━━━\u001b[0m\u001b[37m\u001b[0m \u001b[1m1s\u001b[0m 27ms/step - categorical_accuracy: 0.9980 - loss: 0.0043\n",
      "Epoch 199/300\n",
      "\u001b[1m20/20\u001b[0m \u001b[32m━━━━━━━━━━━━━━━━━━━━\u001b[0m\u001b[37m\u001b[0m \u001b[1m1s\u001b[0m 30ms/step - categorical_accuracy: 0.9963 - loss: 0.0114\n",
      "Epoch 200/300\n",
      "\u001b[1m20/20\u001b[0m \u001b[32m━━━━━━━━━━━━━━━━━━━━\u001b[0m\u001b[37m\u001b[0m \u001b[1m1s\u001b[0m 28ms/step - categorical_accuracy: 0.9693 - loss: 0.0985\n",
      "Epoch 201/300\n",
      "\u001b[1m20/20\u001b[0m \u001b[32m━━━━━━━━━━━━━━━━━━━━\u001b[0m\u001b[37m\u001b[0m \u001b[1m1s\u001b[0m 28ms/step - categorical_accuracy: 0.9514 - loss: 0.2278\n",
      "Epoch 202/300\n",
      "\u001b[1m20/20\u001b[0m \u001b[32m━━━━━━━━━━━━━━━━━━━━\u001b[0m\u001b[37m\u001b[0m \u001b[1m1s\u001b[0m 28ms/step - categorical_accuracy: 0.9241 - loss: 0.2096\n",
      "Epoch 203/300\n",
      "\u001b[1m20/20\u001b[0m \u001b[32m━━━━━━━━━━━━━━━━━━━━\u001b[0m\u001b[37m\u001b[0m \u001b[1m1s\u001b[0m 28ms/step - categorical_accuracy: 0.9355 - loss: 0.2061\n",
      "Epoch 204/300\n",
      "\u001b[1m20/20\u001b[0m \u001b[32m━━━━━━━━━━━━━━━━━━━━\u001b[0m\u001b[37m\u001b[0m \u001b[1m1s\u001b[0m 33ms/step - categorical_accuracy: 0.9770 - loss: 0.0617\n",
      "Epoch 205/300\n",
      "\u001b[1m20/20\u001b[0m \u001b[32m━━━━━━━━━━━━━━━━━━━━\u001b[0m\u001b[37m\u001b[0m \u001b[1m1s\u001b[0m 27ms/step - categorical_accuracy: 0.9958 - loss: 0.0394\n",
      "Epoch 206/300\n",
      "\u001b[1m20/20\u001b[0m \u001b[32m━━━━━━━━━━━━━━━━━━━━\u001b[0m\u001b[37m\u001b[0m \u001b[1m1s\u001b[0m 28ms/step - categorical_accuracy: 0.9966 - loss: 0.0161\n",
      "Epoch 207/300\n",
      "\u001b[1m20/20\u001b[0m \u001b[32m━━━━━━━━━━━━━━━━━━━━\u001b[0m\u001b[37m\u001b[0m \u001b[1m1s\u001b[0m 28ms/step - categorical_accuracy: 0.9979 - loss: 0.0110\n",
      "Epoch 208/300\n",
      "\u001b[1m20/20\u001b[0m \u001b[32m━━━━━━━━━━━━━━━━━━━━\u001b[0m\u001b[37m\u001b[0m \u001b[1m1s\u001b[0m 27ms/step - categorical_accuracy: 0.9967 - loss: 0.0134\n",
      "Epoch 209/300\n",
      "\u001b[1m20/20\u001b[0m \u001b[32m━━━━━━━━━━━━━━━━━━━━\u001b[0m\u001b[37m\u001b[0m \u001b[1m1s\u001b[0m 30ms/step - categorical_accuracy: 0.9964 - loss: 0.0117\n",
      "Epoch 210/300\n",
      "\u001b[1m20/20\u001b[0m \u001b[32m━━━━━━━━━━━━━━━━━━━━\u001b[0m\u001b[37m\u001b[0m \u001b[1m1s\u001b[0m 29ms/step - categorical_accuracy: 0.9971 - loss: 0.0095\n",
      "Epoch 211/300\n",
      "\u001b[1m20/20\u001b[0m \u001b[32m━━━━━━━━━━━━━━━━━━━━\u001b[0m\u001b[37m\u001b[0m \u001b[1m1s\u001b[0m 30ms/step - categorical_accuracy: 0.9880 - loss: 0.0276\n",
      "Epoch 212/300\n",
      "\u001b[1m20/20\u001b[0m \u001b[32m━━━━━━━━━━━━━━━━━━━━\u001b[0m\u001b[37m\u001b[0m \u001b[1m1s\u001b[0m 28ms/step - categorical_accuracy: 0.9972 - loss: 0.0147\n",
      "Epoch 213/300\n",
      "\u001b[1m20/20\u001b[0m \u001b[32m━━━━━━━━━━━━━━━━━━━━\u001b[0m\u001b[37m\u001b[0m \u001b[1m1s\u001b[0m 32ms/step - categorical_accuracy: 0.9956 - loss: 0.0175\n",
      "Epoch 214/300\n",
      "\u001b[1m20/20\u001b[0m \u001b[32m━━━━━━━━━━━━━━━━━━━━\u001b[0m\u001b[37m\u001b[0m \u001b[1m1s\u001b[0m 29ms/step - categorical_accuracy: 0.9988 - loss: 0.0057\n",
      "Epoch 215/300\n",
      "\u001b[1m20/20\u001b[0m \u001b[32m━━━━━━━━━━━━━━━━━━━━\u001b[0m\u001b[37m\u001b[0m \u001b[1m1s\u001b[0m 32ms/step - categorical_accuracy: 0.9952 - loss: 0.0107\n",
      "Epoch 216/300\n",
      "\u001b[1m20/20\u001b[0m \u001b[32m━━━━━━━━━━━━━━━━━━━━\u001b[0m\u001b[37m\u001b[0m \u001b[1m1s\u001b[0m 33ms/step - categorical_accuracy: 0.9948 - loss: 0.0100\n",
      "Epoch 217/300\n",
      "\u001b[1m20/20\u001b[0m \u001b[32m━━━━━━━━━━━━━━━━━━━━\u001b[0m\u001b[37m\u001b[0m \u001b[1m1s\u001b[0m 32ms/step - categorical_accuracy: 0.9955 - loss: 0.0104\n",
      "Epoch 218/300\n",
      "\u001b[1m20/20\u001b[0m \u001b[32m━━━━━━━━━━━━━━━━━━━━\u001b[0m\u001b[37m\u001b[0m \u001b[1m1s\u001b[0m 29ms/step - categorical_accuracy: 0.9954 - loss: 0.0079\n",
      "Epoch 219/300\n",
      "\u001b[1m20/20\u001b[0m \u001b[32m━━━━━━━━━━━━━━━━━━━━\u001b[0m\u001b[37m\u001b[0m \u001b[1m1s\u001b[0m 28ms/step - categorical_accuracy: 0.9974 - loss: 0.0050\n",
      "Epoch 220/300\n",
      "\u001b[1m20/20\u001b[0m \u001b[32m━━━━━━━━━━━━━━━━━━━━\u001b[0m\u001b[37m\u001b[0m \u001b[1m1s\u001b[0m 28ms/step - categorical_accuracy: 0.9965 - loss: 0.0056\n",
      "Epoch 221/300\n",
      "\u001b[1m20/20\u001b[0m \u001b[32m━━━━━━━━━━━━━━━━━━━━\u001b[0m\u001b[37m\u001b[0m \u001b[1m1s\u001b[0m 29ms/step - categorical_accuracy: 0.9984 - loss: 0.0029\n",
      "Epoch 222/300\n",
      "\u001b[1m20/20\u001b[0m \u001b[32m━━━━━━━━━━━━━━━━━━━━\u001b[0m\u001b[37m\u001b[0m \u001b[1m1s\u001b[0m 32ms/step - categorical_accuracy: 0.9986 - loss: 0.0033\n",
      "Epoch 223/300\n",
      "\u001b[1m20/20\u001b[0m \u001b[32m━━━━━━━━━━━━━━━━━━━━\u001b[0m\u001b[37m\u001b[0m \u001b[1m1s\u001b[0m 27ms/step - categorical_accuracy: 0.9985 - loss: 0.0027 \n",
      "Epoch 224/300\n",
      "\u001b[1m20/20\u001b[0m \u001b[32m━━━━━━━━━━━━━━━━━━━━\u001b[0m\u001b[37m\u001b[0m \u001b[1m1s\u001b[0m 28ms/step - categorical_accuracy: 0.9954 - loss: 0.0053\n",
      "Epoch 225/300\n",
      "\u001b[1m20/20\u001b[0m \u001b[32m━━━━━━━━━━━━━━━━━━━━\u001b[0m\u001b[37m\u001b[0m \u001b[1m1s\u001b[0m 27ms/step - categorical_accuracy: 0.9992 - loss: 0.0017   \n",
      "Epoch 226/300\n",
      "\u001b[1m20/20\u001b[0m \u001b[32m━━━━━━━━━━━━━━━━━━━━\u001b[0m\u001b[37m\u001b[0m \u001b[1m1s\u001b[0m 32ms/step - categorical_accuracy: 0.9959 - loss: 0.0055\n",
      "Epoch 227/300\n",
      "\u001b[1m20/20\u001b[0m \u001b[32m━━━━━━━━━━━━━━━━━━━━\u001b[0m\u001b[37m\u001b[0m \u001b[1m1s\u001b[0m 28ms/step - categorical_accuracy: 0.9975 - loss: 0.0052\n",
      "Epoch 228/300\n",
      "\u001b[1m20/20\u001b[0m \u001b[32m━━━━━━━━━━━━━━━━━━━━\u001b[0m\u001b[37m\u001b[0m \u001b[1m1s\u001b[0m 28ms/step - categorical_accuracy: 0.9938 - loss: 0.0052\n",
      "Epoch 229/300\n",
      "\u001b[1m20/20\u001b[0m \u001b[32m━━━━━━━━━━━━━━━━━━━━\u001b[0m\u001b[37m\u001b[0m \u001b[1m1s\u001b[0m 28ms/step - categorical_accuracy: 0.9989 - loss: 0.0014   \n",
      "Epoch 230/300\n",
      "\u001b[1m20/20\u001b[0m \u001b[32m━━━━━━━━━━━━━━━━━━━━\u001b[0m\u001b[37m\u001b[0m \u001b[1m1s\u001b[0m 29ms/step - categorical_accuracy: 0.9993 - loss: 0.0025\n",
      "Epoch 231/300\n",
      "\u001b[1m20/20\u001b[0m \u001b[32m━━━━━━━━━━━━━━━━━━━━\u001b[0m\u001b[37m\u001b[0m \u001b[1m1s\u001b[0m 28ms/step - categorical_accuracy: 0.9984 - loss: 0.0058\n",
      "Epoch 232/300\n",
      "\u001b[1m20/20\u001b[0m \u001b[32m━━━━━━━━━━━━━━━━━━━━\u001b[0m\u001b[37m\u001b[0m \u001b[1m1s\u001b[0m 29ms/step - categorical_accuracy: 0.9995 - loss: 0.0040\n",
      "Epoch 233/300\n",
      "\u001b[1m20/20\u001b[0m \u001b[32m━━━━━━━━━━━━━━━━━━━━\u001b[0m\u001b[37m\u001b[0m \u001b[1m1s\u001b[0m 28ms/step - categorical_accuracy: 0.9995 - loss: 0.0037\n",
      "Epoch 234/300\n",
      "\u001b[1m20/20\u001b[0m \u001b[32m━━━━━━━━━━━━━━━━━━━━\u001b[0m\u001b[37m\u001b[0m \u001b[1m1s\u001b[0m 30ms/step - categorical_accuracy: 0.9968 - loss: 0.0068\n",
      "Epoch 235/300\n",
      "\u001b[1m20/20\u001b[0m \u001b[32m━━━━━━━━━━━━━━━━━━━━\u001b[0m\u001b[37m\u001b[0m \u001b[1m1s\u001b[0m 29ms/step - categorical_accuracy: 0.9984 - loss: 0.0035\n",
      "Epoch 236/300\n",
      "\u001b[1m20/20\u001b[0m \u001b[32m━━━━━━━━━━━━━━━━━━━━\u001b[0m\u001b[37m\u001b[0m \u001b[1m1s\u001b[0m 28ms/step - categorical_accuracy: 0.9973 - loss: 0.0040\n",
      "Epoch 237/300\n",
      "\u001b[1m20/20\u001b[0m \u001b[32m━━━━━━━━━━━━━━━━━━━━\u001b[0m\u001b[37m\u001b[0m \u001b[1m1s\u001b[0m 28ms/step - categorical_accuracy: 0.9986 - loss: 0.0033\n",
      "Epoch 238/300\n",
      "\u001b[1m20/20\u001b[0m \u001b[32m━━━━━━━━━━━━━━━━━━━━\u001b[0m\u001b[37m\u001b[0m \u001b[1m1s\u001b[0m 28ms/step - categorical_accuracy: 0.9960 - loss: 0.0039\n",
      "Epoch 239/300\n",
      "\u001b[1m20/20\u001b[0m \u001b[32m━━━━━━━━━━━━━━━━━━━━\u001b[0m\u001b[37m\u001b[0m \u001b[1m1s\u001b[0m 32ms/step - categorical_accuracy: 0.9961 - loss: 0.0061\n",
      "Epoch 240/300\n",
      "\u001b[1m20/20\u001b[0m \u001b[32m━━━━━━━━━━━━━━━━━━━━\u001b[0m\u001b[37m\u001b[0m \u001b[1m1s\u001b[0m 28ms/step - categorical_accuracy: 0.9961 - loss: 0.0055\n",
      "Epoch 241/300\n",
      "\u001b[1m20/20\u001b[0m \u001b[32m━━━━━━━━━━━━━━━━━━━━\u001b[0m\u001b[37m\u001b[0m \u001b[1m1s\u001b[0m 29ms/step - categorical_accuracy: 0.9959 - loss: 0.0036\n",
      "Epoch 242/300\n",
      "\u001b[1m20/20\u001b[0m \u001b[32m━━━━━━━━━━━━━━━━━━━━\u001b[0m\u001b[37m\u001b[0m \u001b[1m1s\u001b[0m 29ms/step - categorical_accuracy: 0.9984 - loss: 0.0015\n",
      "Epoch 243/300\n",
      "\u001b[1m20/20\u001b[0m \u001b[32m━━━━━━━━━━━━━━━━━━━━\u001b[0m\u001b[37m\u001b[0m \u001b[1m1s\u001b[0m 31ms/step - categorical_accuracy: 0.9957 - loss: 0.0039\n",
      "Epoch 244/300\n",
      "\u001b[1m20/20\u001b[0m \u001b[32m━━━━━━━━━━━━━━━━━━━━\u001b[0m\u001b[37m\u001b[0m \u001b[1m1s\u001b[0m 29ms/step - categorical_accuracy: 0.9991 - loss: 0.0017\n",
      "Epoch 245/300\n",
      "\u001b[1m20/20\u001b[0m \u001b[32m━━━━━━━━━━━━━━━━━━━━\u001b[0m\u001b[37m\u001b[0m \u001b[1m1s\u001b[0m 30ms/step - categorical_accuracy: 0.9969 - loss: 0.0030\n",
      "Epoch 246/300\n",
      "\u001b[1m20/20\u001b[0m \u001b[32m━━━━━━━━━━━━━━━━━━━━\u001b[0m\u001b[37m\u001b[0m \u001b[1m1s\u001b[0m 29ms/step - categorical_accuracy: 0.9945 - loss: 0.0047\n",
      "Epoch 247/300\n",
      "\u001b[1m20/20\u001b[0m \u001b[32m━━━━━━━━━━━━━━━━━━━━\u001b[0m\u001b[37m\u001b[0m \u001b[1m1s\u001b[0m 29ms/step - categorical_accuracy: 0.9998 - loss: 0.0013 \n",
      "Epoch 248/300\n",
      "\u001b[1m20/20\u001b[0m \u001b[32m━━━━━━━━━━━━━━━━━━━━\u001b[0m\u001b[37m\u001b[0m \u001b[1m1s\u001b[0m 30ms/step - categorical_accuracy: 0.9997 - loss: 7.4452e-04\n",
      "Epoch 249/300\n",
      "\u001b[1m20/20\u001b[0m \u001b[32m━━━━━━━━━━━━━━━━━━━━\u001b[0m\u001b[37m\u001b[0m \u001b[1m1s\u001b[0m 28ms/step - categorical_accuracy: 0.9984 - loss: 0.0035\n",
      "Epoch 250/300\n",
      "\u001b[1m20/20\u001b[0m \u001b[32m━━━━━━━━━━━━━━━━━━━━\u001b[0m\u001b[37m\u001b[0m \u001b[1m1s\u001b[0m 28ms/step - categorical_accuracy: 0.9986 - loss: 0.0014  \n",
      "Epoch 251/300\n",
      "\u001b[1m20/20\u001b[0m \u001b[32m━━━━━━━━━━━━━━━━━━━━\u001b[0m\u001b[37m\u001b[0m \u001b[1m1s\u001b[0m 32ms/step - categorical_accuracy: 0.9986 - loss: 0.0033\n",
      "Epoch 252/300\n",
      "\u001b[1m20/20\u001b[0m \u001b[32m━━━━━━━━━━━━━━━━━━━━\u001b[0m\u001b[37m\u001b[0m \u001b[1m1s\u001b[0m 28ms/step - categorical_accuracy: 0.9933 - loss: 0.0049\n",
      "Epoch 253/300\n",
      "\u001b[1m20/20\u001b[0m \u001b[32m━━━━━━━━━━━━━━━━━━━━\u001b[0m\u001b[37m\u001b[0m \u001b[1m1s\u001b[0m 28ms/step - categorical_accuracy: 0.9991 - loss: 0.0018\n",
      "Epoch 254/300\n",
      "\u001b[1m20/20\u001b[0m \u001b[32m━━━━━━━━━━━━━━━━━━━━\u001b[0m\u001b[37m\u001b[0m \u001b[1m1s\u001b[0m 31ms/step - categorical_accuracy: 0.9973 - loss: 0.0049\n",
      "Epoch 255/300\n",
      "\u001b[1m20/20\u001b[0m \u001b[32m━━━━━━━━━━━━━━━━━━━━\u001b[0m\u001b[37m\u001b[0m \u001b[1m1s\u001b[0m 29ms/step - categorical_accuracy: 0.9998 - loss: 8.8765e-04\n",
      "Epoch 256/300\n",
      "\u001b[1m20/20\u001b[0m \u001b[32m━━━━━━━━━━━━━━━━━━━━\u001b[0m\u001b[37m\u001b[0m \u001b[1m1s\u001b[0m 29ms/step - categorical_accuracy: 0.9950 - loss: 0.0188\n",
      "Epoch 257/300\n",
      "\u001b[1m20/20\u001b[0m \u001b[32m━━━━━━━━━━━━━━━━━━━━\u001b[0m\u001b[37m\u001b[0m \u001b[1m1s\u001b[0m 28ms/step - categorical_accuracy: 0.8741 - loss: 1.3266\n",
      "Epoch 258/300\n",
      "\u001b[1m20/20\u001b[0m \u001b[32m━━━━━━━━━━━━━━━━━━━━\u001b[0m\u001b[37m\u001b[0m \u001b[1m1s\u001b[0m 28ms/step - categorical_accuracy: 0.9112 - loss: 0.2820\n",
      "Epoch 259/300\n",
      "\u001b[1m20/20\u001b[0m \u001b[32m━━━━━━━━━━━━━━━━━━━━\u001b[0m\u001b[37m\u001b[0m \u001b[1m1s\u001b[0m 31ms/step - categorical_accuracy: 0.9035 - loss: 0.4413\n",
      "Epoch 260/300\n",
      "\u001b[1m20/20\u001b[0m \u001b[32m━━━━━━━━━━━━━━━━━━━━\u001b[0m\u001b[37m\u001b[0m \u001b[1m1s\u001b[0m 31ms/step - categorical_accuracy: 0.8780 - loss: 0.4102\n",
      "Epoch 261/300\n",
      "\u001b[1m20/20\u001b[0m \u001b[32m━━━━━━━━━━━━━━━━━━━━\u001b[0m\u001b[37m\u001b[0m \u001b[1m1s\u001b[0m 28ms/step - categorical_accuracy: 0.8798 - loss: 0.3064\n",
      "Epoch 262/300\n",
      "\u001b[1m20/20\u001b[0m \u001b[32m━━━━━━━━━━━━━━━━━━━━\u001b[0m\u001b[37m\u001b[0m \u001b[1m1s\u001b[0m 28ms/step - categorical_accuracy: 0.9658 - loss: 0.1421\n",
      "Epoch 263/300\n",
      "\u001b[1m20/20\u001b[0m \u001b[32m━━━━━━━━━━━━━━━━━━━━\u001b[0m\u001b[37m\u001b[0m \u001b[1m1s\u001b[0m 30ms/step - categorical_accuracy: 0.9758 - loss: 0.0770\n",
      "Epoch 264/300\n",
      "\u001b[1m20/20\u001b[0m \u001b[32m━━━━━━━━━━━━━━━━━━━━\u001b[0m\u001b[37m\u001b[0m \u001b[1m1s\u001b[0m 29ms/step - categorical_accuracy: 0.9803 - loss: 0.0574\n",
      "Epoch 265/300\n",
      "\u001b[1m20/20\u001b[0m \u001b[32m━━━━━━━━━━━━━━━━━━━━\u001b[0m\u001b[37m\u001b[0m \u001b[1m1s\u001b[0m 34ms/step - categorical_accuracy: 0.9912 - loss: 0.0459\n",
      "Epoch 266/300\n",
      "\u001b[1m20/20\u001b[0m \u001b[32m━━━━━━━━━━━━━━━━━━━━\u001b[0m\u001b[37m\u001b[0m \u001b[1m1s\u001b[0m 40ms/step - categorical_accuracy: 0.9941 - loss: 0.0250\n",
      "Epoch 267/300\n",
      "\u001b[1m20/20\u001b[0m \u001b[32m━━━━━━━━━━━━━━━━━━━━\u001b[0m\u001b[37m\u001b[0m \u001b[1m1s\u001b[0m 31ms/step - categorical_accuracy: 0.9994 - loss: 0.0122\n",
      "Epoch 268/300\n",
      "\u001b[1m20/20\u001b[0m \u001b[32m━━━━━━━━━━━━━━━━━━━━\u001b[0m\u001b[37m\u001b[0m \u001b[1m1s\u001b[0m 33ms/step - categorical_accuracy: 0.9901 - loss: 0.0431\n",
      "Epoch 269/300\n",
      "\u001b[1m20/20\u001b[0m \u001b[32m━━━━━━━━━━━━━━━━━━━━\u001b[0m\u001b[37m\u001b[0m \u001b[1m1s\u001b[0m 36ms/step - categorical_accuracy: 0.8808 - loss: 0.3294\n",
      "Epoch 270/300\n",
      "\u001b[1m20/20\u001b[0m \u001b[32m━━━━━━━━━━━━━━━━━━━━\u001b[0m\u001b[37m\u001b[0m \u001b[1m1s\u001b[0m 35ms/step - categorical_accuracy: 0.9716 - loss: 0.1121\n",
      "Epoch 271/300\n",
      "\u001b[1m20/20\u001b[0m \u001b[32m━━━━━━━━━━━━━━━━━━━━\u001b[0m\u001b[37m\u001b[0m \u001b[1m1s\u001b[0m 33ms/step - categorical_accuracy: 0.9925 - loss: 0.0526\n",
      "Epoch 272/300\n",
      "\u001b[1m20/20\u001b[0m \u001b[32m━━━━━━━━━━━━━━━━━━━━\u001b[0m\u001b[37m\u001b[0m \u001b[1m1s\u001b[0m 27ms/step - categorical_accuracy: 0.9876 - loss: 0.0426\n",
      "Epoch 273/300\n",
      "\u001b[1m20/20\u001b[0m \u001b[32m━━━━━━━━━━━━━━━━━━━━\u001b[0m\u001b[37m\u001b[0m \u001b[1m1s\u001b[0m 27ms/step - categorical_accuracy: 0.9974 - loss: 0.0151\n",
      "Epoch 274/300\n",
      "\u001b[1m20/20\u001b[0m \u001b[32m━━━━━━━━━━━━━━━━━━━━\u001b[0m\u001b[37m\u001b[0m \u001b[1m1s\u001b[0m 31ms/step - categorical_accuracy: 0.9966 - loss: 0.0139\n",
      "Epoch 275/300\n",
      "\u001b[1m20/20\u001b[0m \u001b[32m━━━━━━━━━━━━━━━━━━━━\u001b[0m\u001b[37m\u001b[0m \u001b[1m1s\u001b[0m 34ms/step - categorical_accuracy: 0.9907 - loss: 0.0222\n",
      "Epoch 276/300\n",
      "\u001b[1m20/20\u001b[0m \u001b[32m━━━━━━━━━━━━━━━━━━━━\u001b[0m\u001b[37m\u001b[0m \u001b[1m1s\u001b[0m 33ms/step - categorical_accuracy: 0.9944 - loss: 0.0132\n",
      "Epoch 277/300\n",
      "\u001b[1m20/20\u001b[0m \u001b[32m━━━━━━━━━━━━━━━━━━━━\u001b[0m\u001b[37m\u001b[0m \u001b[1m1s\u001b[0m 36ms/step - categorical_accuracy: 0.9981 - loss: 0.0075\n",
      "Epoch 278/300\n",
      "\u001b[1m20/20\u001b[0m \u001b[32m━━━━━━━━━━━━━━━━━━━━\u001b[0m\u001b[37m\u001b[0m \u001b[1m1s\u001b[0m 36ms/step - categorical_accuracy: 0.9987 - loss: 0.0083\n",
      "Epoch 279/300\n",
      "\u001b[1m20/20\u001b[0m \u001b[32m━━━━━━━━━━━━━━━━━━━━\u001b[0m\u001b[37m\u001b[0m \u001b[1m1s\u001b[0m 33ms/step - categorical_accuracy: 0.9991 - loss: 0.0063\n",
      "Epoch 280/300\n",
      "\u001b[1m20/20\u001b[0m \u001b[32m━━━━━━━━━━━━━━━━━━━━\u001b[0m\u001b[37m\u001b[0m \u001b[1m1s\u001b[0m 32ms/step - categorical_accuracy: 0.9992 - loss: 0.0084\n",
      "Epoch 281/300\n",
      "\u001b[1m20/20\u001b[0m \u001b[32m━━━━━━━━━━━━━━━━━━━━\u001b[0m\u001b[37m\u001b[0m \u001b[1m1s\u001b[0m 33ms/step - categorical_accuracy: 0.9928 - loss: 0.0158\n",
      "Epoch 282/300\n",
      "\u001b[1m20/20\u001b[0m \u001b[32m━━━━━━━━━━━━━━━━━━━━\u001b[0m\u001b[37m\u001b[0m \u001b[1m1s\u001b[0m 28ms/step - categorical_accuracy: 0.9989 - loss: 0.0037\n",
      "Epoch 283/300\n",
      "\u001b[1m20/20\u001b[0m \u001b[32m━━━━━━━━━━━━━━━━━━━━\u001b[0m\u001b[37m\u001b[0m \u001b[1m1s\u001b[0m 30ms/step - categorical_accuracy: 0.9997 - loss: 0.0036\n",
      "Epoch 284/300\n",
      "\u001b[1m20/20\u001b[0m \u001b[32m━━━━━━━━━━━━━━━━━━━━\u001b[0m\u001b[37m\u001b[0m \u001b[1m1s\u001b[0m 28ms/step - categorical_accuracy: 0.9994 - loss: 0.0024\n",
      "Epoch 285/300\n",
      "\u001b[1m20/20\u001b[0m \u001b[32m━━━━━━━━━━━━━━━━━━━━\u001b[0m\u001b[37m\u001b[0m \u001b[1m1s\u001b[0m 31ms/step - categorical_accuracy: 0.9991 - loss: 0.0059\n",
      "Epoch 286/300\n",
      "\u001b[1m20/20\u001b[0m \u001b[32m━━━━━━━━━━━━━━━━━━━━\u001b[0m\u001b[37m\u001b[0m \u001b[1m1s\u001b[0m 30ms/step - categorical_accuracy: 0.9993 - loss: 0.0034\n",
      "Epoch 287/300\n",
      "\u001b[1m20/20\u001b[0m \u001b[32m━━━━━━━━━━━━━━━━━━━━\u001b[0m\u001b[37m\u001b[0m \u001b[1m1s\u001b[0m 34ms/step - categorical_accuracy: 0.9984 - loss: 0.0043\n",
      "Epoch 288/300\n",
      "\u001b[1m20/20\u001b[0m \u001b[32m━━━━━━━━━━━━━━━━━━━━\u001b[0m\u001b[37m\u001b[0m \u001b[1m1s\u001b[0m 29ms/step - categorical_accuracy: 0.9973 - loss: 0.0123\n",
      "Epoch 289/300\n",
      "\u001b[1m20/20\u001b[0m \u001b[32m━━━━━━━━━━━━━━━━━━━━\u001b[0m\u001b[37m\u001b[0m \u001b[1m1s\u001b[0m 28ms/step - categorical_accuracy: 0.9985 - loss: 0.0088\n",
      "Epoch 290/300\n",
      "\u001b[1m20/20\u001b[0m \u001b[32m━━━━━━━━━━━━━━━━━━━━\u001b[0m\u001b[37m\u001b[0m \u001b[1m1s\u001b[0m 29ms/step - categorical_accuracy: 0.9730 - loss: 0.0687\n",
      "Epoch 291/300\n",
      "\u001b[1m20/20\u001b[0m \u001b[32m━━━━━━━━━━━━━━━━━━━━\u001b[0m\u001b[37m\u001b[0m \u001b[1m1s\u001b[0m 31ms/step - categorical_accuracy: 0.9896 - loss: 0.0227\n",
      "Epoch 292/300\n",
      "\u001b[1m20/20\u001b[0m \u001b[32m━━━━━━━━━━━━━━━━━━━━\u001b[0m\u001b[37m\u001b[0m \u001b[1m1s\u001b[0m 28ms/step - categorical_accuracy: 0.9994 - loss: 0.0098\n",
      "Epoch 293/300\n",
      "\u001b[1m20/20\u001b[0m \u001b[32m━━━━━━━━━━━━━━━━━━━━\u001b[0m\u001b[37m\u001b[0m \u001b[1m1s\u001b[0m 29ms/step - categorical_accuracy: 0.9851 - loss: 0.0506\n",
      "Epoch 294/300\n",
      "\u001b[1m20/20\u001b[0m \u001b[32m━━━━━━━━━━━━━━━━━━━━\u001b[0m\u001b[37m\u001b[0m \u001b[1m1s\u001b[0m 28ms/step - categorical_accuracy: 0.9774 - loss: 0.0606\n",
      "Epoch 295/300\n",
      "\u001b[1m20/20\u001b[0m \u001b[32m━━━━━━━━━━━━━━━━━━━━\u001b[0m\u001b[37m\u001b[0m \u001b[1m1s\u001b[0m 30ms/step - categorical_accuracy: 0.9837 - loss: 0.0521\n",
      "Epoch 296/300\n",
      "\u001b[1m20/20\u001b[0m \u001b[32m━━━━━━━━━━━━━━━━━━━━\u001b[0m\u001b[37m\u001b[0m \u001b[1m1s\u001b[0m 28ms/step - categorical_accuracy: 0.9885 - loss: 0.0307\n",
      "Epoch 297/300\n",
      "\u001b[1m20/20\u001b[0m \u001b[32m━━━━━━━━━━━━━━━━━━━━\u001b[0m\u001b[37m\u001b[0m \u001b[1m1s\u001b[0m 28ms/step - categorical_accuracy: 0.9910 - loss: 0.0212\n",
      "Epoch 298/300\n",
      "\u001b[1m20/20\u001b[0m \u001b[32m━━━━━━━━━━━━━━━━━━━━\u001b[0m\u001b[37m\u001b[0m \u001b[1m1s\u001b[0m 33ms/step - categorical_accuracy: 0.9917 - loss: 0.0300\n",
      "Epoch 299/300\n",
      "\u001b[1m20/20\u001b[0m \u001b[32m━━━━━━━━━━━━━━━━━━━━\u001b[0m\u001b[37m\u001b[0m \u001b[1m1s\u001b[0m 27ms/step - categorical_accuracy: 0.9877 - loss: 0.0300\n",
      "Epoch 300/300\n",
      "\u001b[1m20/20\u001b[0m \u001b[32m━━━━━━━━━━━━━━━━━━━━\u001b[0m\u001b[37m\u001b[0m \u001b[1m1s\u001b[0m 30ms/step - categorical_accuracy: 0.9974 - loss: 0.0089\n"
     ]
    },
    {
     "data": {
      "text/plain": [
       "<keras.src.callbacks.history.History at 0x2b821c41510>"
      ]
     },
     "execution_count": 68,
     "metadata": {},
     "output_type": "execute_result"
    }
   ],
   "source": [
    "model.fit(X_train, y_train, epochs=300, callbacks=[tb_callback])"
   ]
  },
  {
   "cell_type": "code",
   "execution_count": 39,
   "metadata": {
    "metadata": {}
   },
   "outputs": [
    {
     "data": {
      "text/html": [
       "<pre style=\"white-space:pre;overflow-x:auto;line-height:normal;font-family:Menlo,'DejaVu Sans Mono',consolas,'Courier New',monospace\"><span style=\"font-weight: bold\">Model: \"sequential_1\"</span>\n",
       "</pre>\n"
      ],
      "text/plain": [
       "\u001b[1mModel: \"sequential_1\"\u001b[0m\n"
      ]
     },
     "metadata": {},
     "output_type": "display_data"
    },
    {
     "data": {
      "text/html": [
       "<pre style=\"white-space:pre;overflow-x:auto;line-height:normal;font-family:Menlo,'DejaVu Sans Mono',consolas,'Courier New',monospace\">┏━━━━━━━━━━━━━━━━━━━━━━━━━━━━━━━━━┳━━━━━━━━━━━━━━━━━━━━━━━━┳━━━━━━━━━━━━━━━┓\n",
       "┃<span style=\"font-weight: bold\"> Layer (type)                    </span>┃<span style=\"font-weight: bold\"> Output Shape           </span>┃<span style=\"font-weight: bold\">       Param # </span>┃\n",
       "┡━━━━━━━━━━━━━━━━━━━━━━━━━━━━━━━━━╇━━━━━━━━━━━━━━━━━━━━━━━━╇━━━━━━━━━━━━━━━┩\n",
       "│ lstm_3 (<span style=\"color: #0087ff; text-decoration-color: #0087ff\">LSTM</span>)                   │ (<span style=\"color: #00d7ff; text-decoration-color: #00d7ff\">None</span>, <span style=\"color: #00af00; text-decoration-color: #00af00\">30</span>, <span style=\"color: #00af00; text-decoration-color: #00af00\">64</span>)         │        <span style=\"color: #00af00; text-decoration-color: #00af00\">48,896</span> │\n",
       "├─────────────────────────────────┼────────────────────────┼───────────────┤\n",
       "│ lstm_4 (<span style=\"color: #0087ff; text-decoration-color: #0087ff\">LSTM</span>)                   │ (<span style=\"color: #00d7ff; text-decoration-color: #00d7ff\">None</span>, <span style=\"color: #00af00; text-decoration-color: #00af00\">64</span>)             │        <span style=\"color: #00af00; text-decoration-color: #00af00\">33,024</span> │\n",
       "├─────────────────────────────────┼────────────────────────┼───────────────┤\n",
       "│ dense_3 (<span style=\"color: #0087ff; text-decoration-color: #0087ff\">Dense</span>)                 │ (<span style=\"color: #00d7ff; text-decoration-color: #00d7ff\">None</span>, <span style=\"color: #00af00; text-decoration-color: #00af00\">32</span>)             │         <span style=\"color: #00af00; text-decoration-color: #00af00\">2,080</span> │\n",
       "├─────────────────────────────────┼────────────────────────┼───────────────┤\n",
       "│ dense_4 (<span style=\"color: #0087ff; text-decoration-color: #0087ff\">Dense</span>)                 │ (<span style=\"color: #00d7ff; text-decoration-color: #00d7ff\">None</span>, <span style=\"color: #00af00; text-decoration-color: #00af00\">8</span>)              │           <span style=\"color: #00af00; text-decoration-color: #00af00\">264</span> │\n",
       "└─────────────────────────────────┴────────────────────────┴───────────────┘\n",
       "</pre>\n"
      ],
      "text/plain": [
       "┏━━━━━━━━━━━━━━━━━━━━━━━━━━━━━━━━━┳━━━━━━━━━━━━━━━━━━━━━━━━┳━━━━━━━━━━━━━━━┓\n",
       "┃\u001b[1m \u001b[0m\u001b[1mLayer (type)                   \u001b[0m\u001b[1m \u001b[0m┃\u001b[1m \u001b[0m\u001b[1mOutput Shape          \u001b[0m\u001b[1m \u001b[0m┃\u001b[1m \u001b[0m\u001b[1m      Param #\u001b[0m\u001b[1m \u001b[0m┃\n",
       "┡━━━━━━━━━━━━━━━━━━━━━━━━━━━━━━━━━╇━━━━━━━━━━━━━━━━━━━━━━━━╇━━━━━━━━━━━━━━━┩\n",
       "│ lstm_3 (\u001b[38;5;33mLSTM\u001b[0m)                   │ (\u001b[38;5;45mNone\u001b[0m, \u001b[38;5;34m30\u001b[0m, \u001b[38;5;34m64\u001b[0m)         │        \u001b[38;5;34m48,896\u001b[0m │\n",
       "├─────────────────────────────────┼────────────────────────┼───────────────┤\n",
       "│ lstm_4 (\u001b[38;5;33mLSTM\u001b[0m)                   │ (\u001b[38;5;45mNone\u001b[0m, \u001b[38;5;34m64\u001b[0m)             │        \u001b[38;5;34m33,024\u001b[0m │\n",
       "├─────────────────────────────────┼────────────────────────┼───────────────┤\n",
       "│ dense_3 (\u001b[38;5;33mDense\u001b[0m)                 │ (\u001b[38;5;45mNone\u001b[0m, \u001b[38;5;34m32\u001b[0m)             │         \u001b[38;5;34m2,080\u001b[0m │\n",
       "├─────────────────────────────────┼────────────────────────┼───────────────┤\n",
       "│ dense_4 (\u001b[38;5;33mDense\u001b[0m)                 │ (\u001b[38;5;45mNone\u001b[0m, \u001b[38;5;34m8\u001b[0m)              │           \u001b[38;5;34m264\u001b[0m │\n",
       "└─────────────────────────────────┴────────────────────────┴───────────────┘\n"
      ]
     },
     "metadata": {},
     "output_type": "display_data"
    },
    {
     "data": {
      "text/html": [
       "<pre style=\"white-space:pre;overflow-x:auto;line-height:normal;font-family:Menlo,'DejaVu Sans Mono',consolas,'Courier New',monospace\"><span style=\"font-weight: bold\"> Total params: </span><span style=\"color: #00af00; text-decoration-color: #00af00\">84,264</span> (329.16 KB)\n",
       "</pre>\n"
      ],
      "text/plain": [
       "\u001b[1m Total params: \u001b[0m\u001b[38;5;34m84,264\u001b[0m (329.16 KB)\n"
      ]
     },
     "metadata": {},
     "output_type": "display_data"
    },
    {
     "data": {
      "text/html": [
       "<pre style=\"white-space:pre;overflow-x:auto;line-height:normal;font-family:Menlo,'DejaVu Sans Mono',consolas,'Courier New',monospace\"><span style=\"font-weight: bold\"> Trainable params: </span><span style=\"color: #00af00; text-decoration-color: #00af00\">84,264</span> (329.16 KB)\n",
       "</pre>\n"
      ],
      "text/plain": [
       "\u001b[1m Trainable params: \u001b[0m\u001b[38;5;34m84,264\u001b[0m (329.16 KB)\n"
      ]
     },
     "metadata": {},
     "output_type": "display_data"
    },
    {
     "data": {
      "text/html": [
       "<pre style=\"white-space:pre;overflow-x:auto;line-height:normal;font-family:Menlo,'DejaVu Sans Mono',consolas,'Courier New',monospace\"><span style=\"font-weight: bold\"> Non-trainable params: </span><span style=\"color: #00af00; text-decoration-color: #00af00\">0</span> (0.00 B)\n",
       "</pre>\n"
      ],
      "text/plain": [
       "\u001b[1m Non-trainable params: \u001b[0m\u001b[38;5;34m0\u001b[0m (0.00 B)\n"
      ]
     },
     "metadata": {},
     "output_type": "display_data"
    }
   ],
   "source": [
    "model.summary()"
   ]
  },
  {
   "cell_type": "markdown",
   "metadata": {},
   "source": [
    "# 8. Make Predictions"
   ]
  },
  {
   "cell_type": "code",
   "execution_count": 58,
   "metadata": {
    "metadata": {}
   },
   "outputs": [
    {
     "name": "stdout",
     "output_type": "stream",
     "text": [
      "\u001b[1m4/4\u001b[0m \u001b[32m━━━━━━━━━━━━━━━━━━━━\u001b[0m\u001b[37m\u001b[0m \u001b[1m0s\u001b[0m 8ms/step \n"
     ]
    }
   ],
   "source": [
    "res = model.predict(X_test)"
   ]
  },
  {
   "cell_type": "code",
   "execution_count": 59,
   "metadata": {
    "metadata": {}
   },
   "outputs": [
    {
     "data": {
      "text/plain": [
       "'Call'"
      ]
     },
     "execution_count": 59,
     "metadata": {},
     "output_type": "execute_result"
    }
   ],
   "source": [
    "actions[np.argmax(res[4])]"
   ]
  },
  {
   "cell_type": "code",
   "execution_count": 60,
   "metadata": {
    "metadata": {}
   },
   "outputs": [
    {
     "data": {
      "text/plain": [
       "'Call'"
      ]
     },
     "execution_count": 60,
     "metadata": {},
     "output_type": "execute_result"
    }
   ],
   "source": [
    "actions[np.argmax(y_test[4])]"
   ]
  },
  {
   "cell_type": "markdown",
   "metadata": {},
   "source": [
    "# 9. Save Weights"
   ]
  },
  {
   "cell_type": "code",
   "execution_count": 28,
   "metadata": {
    "metadata": {}
   },
   "outputs": [
    {
     "ename": "NameError",
     "evalue": "name 'model' is not defined",
     "output_type": "error",
     "traceback": [
      "\u001b[1;31m---------------------------------------------------------------------------\u001b[0m",
      "\u001b[1;31mNameError\u001b[0m                                 Traceback (most recent call last)",
      "Cell \u001b[1;32mIn[28], line 1\u001b[0m\n\u001b[1;32m----> 1\u001b[0m \u001b[43mmodel\u001b[49m\u001b[38;5;241m.\u001b[39msave(\u001b[38;5;124m'\u001b[39m\u001b[38;5;124mnew_action.h5\u001b[39m\u001b[38;5;124m'\u001b[39m)\n",
      "\u001b[1;31mNameError\u001b[0m: name 'model' is not defined"
     ]
    }
   ],
   "source": [
    "model.save('new_action.h5')"
   ]
  },
  {
   "cell_type": "code",
   "execution_count": 74,
   "metadata": {
    "metadata": {}
   },
   "outputs": [],
   "source": [
    "del model"
   ]
  },
  {
   "cell_type": "markdown",
   "metadata": {},
   "source": [
    "# Load Model from weights"
   ]
  },
  {
   "cell_type": "code",
   "execution_count": 39,
   "metadata": {
    "metadata": {}
   },
   "outputs": [
    {
     "name": "stderr",
     "output_type": "stream",
     "text": [
      "c:\\Users\\Qasim\\anaconda3\\envs\\islsign\\lib\\site-packages\\keras\\src\\layers\\rnn\\rnn.py:204: UserWarning: Do not pass an `input_shape`/`input_dim` argument to a layer. When using Sequential models, prefer using an `Input(shape)` object as the first layer in the model instead.\n",
      "  super().__init__(**kwargs)\n"
     ]
    }
   ],
   "source": [
    "model = Sequential()\n",
    "model.add(LSTM(64, return_sequences=True, activation='relu', input_shape=(30,126)))\n",
    "model.add(LSTM(64, return_sequences=False, activation='relu'))\n",
    "model.add(Dense(32, activation='relu'))\n",
    "model.add(Dense(actions.shape[0], activation='softmax'))"
   ]
  },
  {
   "cell_type": "code",
   "execution_count": 40,
   "metadata": {
    "metadata": {}
   },
   "outputs": [
    {
     "data": {
      "text/plain": [
       "8"
      ]
     },
     "execution_count": 40,
     "metadata": {},
     "output_type": "execute_result"
    }
   ],
   "source": [
    "actions.shape[0]"
   ]
  },
  {
   "cell_type": "code",
   "execution_count": 9,
   "metadata": {
    "metadata": {}
   },
   "outputs": [],
   "source": [
    "model.compile(optimizer='Adam', loss='categorical_crossentropy', metrics=['categorical_accuracy'])"
   ]
  },
  {
   "cell_type": "code",
   "execution_count": 41,
   "metadata": {
    "metadata": {}
   },
   "outputs": [],
   "source": [
    "model.load_weights('new_action.h5')"
   ]
  },
  {
   "cell_type": "markdown",
   "metadata": {},
   "source": [
    "# 10. Evaluation using Confusion Matrix and Accuracy"
   ]
  },
  {
   "cell_type": "code",
   "execution_count": 42,
   "metadata": {
    "metadata": {}
   },
   "outputs": [],
   "source": [
    "from sklearn.metrics import multilabel_confusion_matrix, accuracy_score"
   ]
  },
  {
   "cell_type": "code",
   "execution_count": 43,
   "metadata": {},
   "outputs": [],
   "source": [
    "from sklearn.metrics import classification_report"
   ]
  },
  {
   "cell_type": "code",
   "execution_count": 44,
   "metadata": {
    "metadata": {}
   },
   "outputs": [
    {
     "name": "stdout",
     "output_type": "stream",
     "text": [
      "\u001b[1m1/4\u001b[0m \u001b[32m━━━━━\u001b[0m\u001b[37m━━━━━━━━━━━━━━━\u001b[0m \u001b[1m1s\u001b[0m 494ms/stepWARNING:tensorflow:5 out of the last 102 calls to <function TensorFlowTrainer.make_predict_function.<locals>.one_step_on_data_distributed at 0x0000029B2B0A1CF0> triggered tf.function retracing. Tracing is expensive and the excessive number of tracings could be due to (1) creating @tf.function repeatedly in a loop, (2) passing tensors with different shapes, (3) passing Python objects instead of tensors. For (1), please define your @tf.function outside of the loop. For (2), @tf.function has reduce_retracing=True option that can avoid unnecessary retracing. For (3), please refer to https://www.tensorflow.org/guide/function#controlling_retracing and https://www.tensorflow.org/api_docs/python/tf/function for  more details.\n"
     ]
    },
    {
     "name": "stderr",
     "output_type": "stream",
     "text": [
      "WARNING:tensorflow:5 out of the last 102 calls to <function TensorFlowTrainer.make_predict_function.<locals>.one_step_on_data_distributed at 0x0000029B2B0A1CF0> triggered tf.function retracing. Tracing is expensive and the excessive number of tracings could be due to (1) creating @tf.function repeatedly in a loop, (2) passing tensors with different shapes, (3) passing Python objects instead of tensors. For (1), please define your @tf.function outside of the loop. For (2), @tf.function has reduce_retracing=True option that can avoid unnecessary retracing. For (3), please refer to https://www.tensorflow.org/guide/function#controlling_retracing and https://www.tensorflow.org/api_docs/python/tf/function for  more details.\n"
     ]
    },
    {
     "name": "stdout",
     "output_type": "stream",
     "text": [
      "\u001b[1m4/4\u001b[0m \u001b[32m━━━━━━━━━━━━━━━━━━━━\u001b[0m\u001b[37m\u001b[0m \u001b[1m1s\u001b[0m 163ms/step\n"
     ]
    }
   ],
   "source": [
    "yhat = model.predict(X_test)"
   ]
  },
  {
   "cell_type": "code",
   "execution_count": 45,
   "metadata": {
    "metadata": {}
   },
   "outputs": [],
   "source": [
    "ytrue = np.argmax(y_test, axis=1).tolist()\n",
    "yhat = np.argmax(yhat, axis=1).tolist()"
   ]
  },
  {
   "cell_type": "code",
   "execution_count": 46,
   "metadata": {
    "metadata": {}
   },
   "outputs": [
    {
     "data": {
      "text/plain": [
       "[0,\n",
       " 6,\n",
       " 1,\n",
       " 1,\n",
       " 6,\n",
       " 5,\n",
       " 2,\n",
       " 6,\n",
       " 2,\n",
       " 5,\n",
       " 6,\n",
       " 5,\n",
       " 6,\n",
       " 4,\n",
       " 6,\n",
       " 5,\n",
       " 2,\n",
       " 2,\n",
       " 6,\n",
       " 2,\n",
       " 1,\n",
       " 0,\n",
       " 2,\n",
       " 7,\n",
       " 3,\n",
       " 2,\n",
       " 1,\n",
       " 0,\n",
       " 6,\n",
       " 1,\n",
       " 6,\n",
       " 1,\n",
       " 7,\n",
       " 4,\n",
       " 6,\n",
       " 4,\n",
       " 2,\n",
       " 1,\n",
       " 2,\n",
       " 7,\n",
       " 1,\n",
       " 6,\n",
       " 0,\n",
       " 4,\n",
       " 1,\n",
       " 0,\n",
       " 7,\n",
       " 1,\n",
       " 5,\n",
       " 6,\n",
       " 7,\n",
       " 6,\n",
       " 3,\n",
       " 7,\n",
       " 0,\n",
       " 1,\n",
       " 0,\n",
       " 1,\n",
       " 6,\n",
       " 6,\n",
       " 5,\n",
       " 0,\n",
       " 4,\n",
       " 2,\n",
       " 2,\n",
       " 6,\n",
       " 4,\n",
       " 3,\n",
       " 4,\n",
       " 5,\n",
       " 3,\n",
       " 5,\n",
       " 6,\n",
       " 3,\n",
       " 1,\n",
       " 3,\n",
       " 6,\n",
       " 5,\n",
       " 4,\n",
       " 4,\n",
       " 7,\n",
       " 3,\n",
       " 7,\n",
       " 5,\n",
       " 7,\n",
       " 5,\n",
       " 5,\n",
       " 6,\n",
       " 1,\n",
       " 0,\n",
       " 5,\n",
       " 7,\n",
       " 6,\n",
       " 2,\n",
       " 3,\n",
       " 1,\n",
       " 1,\n",
       " 6,\n",
       " 7,\n",
       " 3,\n",
       " 3,\n",
       " 0,\n",
       " 6,\n",
       " 5,\n",
       " 7,\n",
       " 6,\n",
       " 6,\n",
       " 4]"
      ]
     },
     "execution_count": 46,
     "metadata": {},
     "output_type": "execute_result"
    }
   ],
   "source": [
    "ytrue"
   ]
  },
  {
   "cell_type": "code",
   "execution_count": 47,
   "metadata": {
    "metadata": {}
   },
   "outputs": [
    {
     "data": {
      "text/plain": [
       "[0,\n",
       " 6,\n",
       " 1,\n",
       " 1,\n",
       " 6,\n",
       " 5,\n",
       " 2,\n",
       " 6,\n",
       " 2,\n",
       " 5,\n",
       " 6,\n",
       " 5,\n",
       " 6,\n",
       " 4,\n",
       " 6,\n",
       " 5,\n",
       " 2,\n",
       " 2,\n",
       " 6,\n",
       " 2,\n",
       " 1,\n",
       " 0,\n",
       " 2,\n",
       " 7,\n",
       " 3,\n",
       " 2,\n",
       " 1,\n",
       " 0,\n",
       " 6,\n",
       " 1,\n",
       " 6,\n",
       " 1,\n",
       " 7,\n",
       " 4,\n",
       " 6,\n",
       " 4,\n",
       " 2,\n",
       " 1,\n",
       " 2,\n",
       " 7,\n",
       " 1,\n",
       " 6,\n",
       " 0,\n",
       " 4,\n",
       " 1,\n",
       " 0,\n",
       " 7,\n",
       " 1,\n",
       " 5,\n",
       " 6,\n",
       " 7,\n",
       " 6,\n",
       " 3,\n",
       " 7,\n",
       " 0,\n",
       " 1,\n",
       " 0,\n",
       " 1,\n",
       " 6,\n",
       " 6,\n",
       " 5,\n",
       " 0,\n",
       " 4,\n",
       " 2,\n",
       " 2,\n",
       " 6,\n",
       " 4,\n",
       " 3,\n",
       " 4,\n",
       " 5,\n",
       " 3,\n",
       " 5,\n",
       " 6,\n",
       " 3,\n",
       " 1,\n",
       " 3,\n",
       " 6,\n",
       " 5,\n",
       " 4,\n",
       " 4,\n",
       " 7,\n",
       " 3,\n",
       " 7,\n",
       " 5,\n",
       " 1,\n",
       " 5,\n",
       " 5,\n",
       " 6,\n",
       " 1,\n",
       " 0,\n",
       " 5,\n",
       " 7,\n",
       " 6,\n",
       " 2,\n",
       " 3,\n",
       " 1,\n",
       " 1,\n",
       " 6,\n",
       " 7,\n",
       " 3,\n",
       " 3,\n",
       " 0,\n",
       " 6,\n",
       " 5,\n",
       " 7,\n",
       " 6,\n",
       " 6,\n",
       " 4]"
      ]
     },
     "execution_count": 47,
     "metadata": {},
     "output_type": "execute_result"
    }
   ],
   "source": [
    "yhat"
   ]
  },
  {
   "cell_type": "code",
   "execution_count": 48,
   "metadata": {
    "metadata": {}
   },
   "outputs": [
    {
     "data": {
      "text/plain": [
       "array([[[98,  0],\n",
       "        [ 0, 10]],\n",
       "\n",
       "       [[91,  1],\n",
       "        [ 0, 16]],\n",
       "\n",
       "       [[96,  0],\n",
       "        [ 0, 12]],\n",
       "\n",
       "       [[98,  0],\n",
       "        [ 0, 10]],\n",
       "\n",
       "       [[98,  0],\n",
       "        [ 0, 10]],\n",
       "\n",
       "       [[94,  0],\n",
       "        [ 0, 14]],\n",
       "\n",
       "       [[84,  0],\n",
       "        [ 0, 24]],\n",
       "\n",
       "       [[96,  0],\n",
       "        [ 1, 11]]], dtype=int64)"
      ]
     },
     "execution_count": 48,
     "metadata": {},
     "output_type": "execute_result"
    }
   ],
   "source": [
    "multilabel_confusion_matrix(ytrue, yhat)"
   ]
  },
  {
   "cell_type": "code",
   "execution_count": 49,
   "metadata": {},
   "outputs": [
    {
     "data": {
      "image/png": "[encoded data removed]",
      "text/plain": [
       "<Figure size 1600x800 with 8 Axes>"
      ]
     },
     "metadata": {},
     "output_type": "display_data"
    }
   ],
   "source": [
    "import numpy as np\n",
    "import matplotlib.pyplot as plt\n",
    "from sklearn.metrics import multilabel_confusion_matrix\n",
    "\n",
    "# Example confusion matrices\n",
    "conf_matrices = np.array([[[92, 0], [0, 16]],\n",
    "                          [[94, 0], [0, 14]],\n",
    "                          [[92, 0], [0, 16]],\n",
    "                          [[98, 0], [0, 10]],\n",
    "                          [[93, 0], [0, 15]],\n",
    "                          [[94, 0], [0, 14]],\n",
    "                          [[96, 0], [0, 12]],\n",
    "                          [[97, 0], [0, 11]]])\n",
    "\n",
    "# Plot confusion matrices\n",
    "fig, axes = plt.subplots(2, 4, figsize=(16, 8))\n",
    "labels = ['Accident', 'Call', 'Doctor', 'Help', 'Hot', 'Lose', 'Pain', 'Thief']\n",
    "\n",
    "for i, ax in enumerate(axes.flat):\n",
    "    tn, fp, fn, tp = conf_matrices[i].ravel()\n",
    "    ax.imshow([[tn, fp], [fn, tp]], cmap=plt.cm.Blues, interpolation='nearest')\n",
    "    ax.set(xticks=np.arange(2), yticks=np.arange(2), xticklabels=['True Negative', 'False Positive'], yticklabels=['False Negative', 'True Positive'], title=labels[i])\n",
    "    for edge, spine in ax.spines.items():\n",
    "        spine.set_visible(False)\n",
    "    ax.set_xticks(np.arange(2)-0.5, minor=True)\n",
    "    ax.set_yticks(np.arange(2)-0.5, minor=True)\n",
    "    ax.grid(which=\"minor\", color=\"gray\", linestyle='-', linewidth=0.5)\n",
    "    ax.tick_params(which=\"minor\", bottom=False, left=False)\n",
    "\n",
    "plt.tight_layout()\n",
    "plt.show()\n"
   ]
  },
  {
   "cell_type": "code",
   "execution_count": 50,
   "metadata": {},
   "outputs": [
    {
     "name": "stdout",
     "output_type": "stream",
     "text": [
      "              precision    recall  f1-score   support\n",
      "\n",
      "           0       1.00      1.00      1.00        10\n",
      "           1       0.94      1.00      0.97        16\n",
      "           2       1.00      1.00      1.00        12\n",
      "           3       1.00      1.00      1.00        10\n",
      "           4       1.00      1.00      1.00        10\n",
      "           5       1.00      1.00      1.00        14\n",
      "           6       1.00      1.00      1.00        24\n",
      "           7       1.00      0.92      0.96        12\n",
      "\n",
      "    accuracy                           0.99       108\n",
      "   macro avg       0.99      0.99      0.99       108\n",
      "weighted avg       0.99      0.99      0.99       108\n",
      "\n"
     ]
    }
   ],
   "source": [
    "print(classification_report(ytrue, yhat))"
   ]
  },
  {
   "cell_type": "code",
   "execution_count": 51,
   "metadata": {
    "metadata": {}
   },
   "outputs": [
    {
     "data": {
      "text/plain": [
       "0.9907407407407407"
      ]
     },
     "execution_count": 51,
     "metadata": {},
     "output_type": "execute_result"
    }
   ],
   "source": [
    "accuracy_score(ytrue, yhat)"
   ]
  },
  {
   "cell_type": "markdown",
   "metadata": {},
   "source": [
    "# 11. Test in Real Time"
   ]
  },
  {
   "cell_type": "code",
   "execution_count": 2,
   "metadata": {},
   "outputs": [
    {
     "name": "stdout",
     "output_type": "stream",
     "text": [
      "Requirement already satisfied: gtts in c:\\users\\qasim\\anaconda3\\envs\\islsign\\lib\\site-packages (2.5.1)\n",
      "Requirement already satisfied: requests<3,>=2.27 in c:\\users\\qasim\\anaconda3\\envs\\islsign\\lib\\site-packages (from gtts) (2.31.0)\n",
      "Requirement already satisfied: click<8.2,>=7.1 in c:\\users\\qasim\\anaconda3\\envs\\islsign\\lib\\site-packages (from gtts) (8.1.7)\n",
      "Requirement already satisfied: colorama in c:\\users\\qasim\\anaconda3\\envs\\islsign\\lib\\site-packages (from click<8.2,>=7.1->gtts) (0.4.6)\n",
      "Requirement already satisfied: charset-normalizer<4,>=2 in c:\\users\\qasim\\anaconda3\\envs\\islsign\\lib\\site-packages (from requests<3,>=2.27->gtts) (3.3.2)\n",
      "Requirement already satisfied: idna<4,>=2.5 in c:\\users\\qasim\\anaconda3\\envs\\islsign\\lib\\site-packages (from requests<3,>=2.27->gtts) (3.7)\n",
      "Requirement already satisfied: urllib3<3,>=1.21.1 in c:\\users\\qasim\\anaconda3\\envs\\islsign\\lib\\site-packages (from requests<3,>=2.27->gtts) (2.2.1)\n",
      "Requirement already satisfied: certifi>=2017.4.17 in c:\\users\\qasim\\anaconda3\\envs\\islsign\\lib\\site-packages (from requests<3,>=2.27->gtts) (2024.2.2)\n"
     ]
    }
   ],
   "source": [
    "!pip install gtts\n"
   ]
  },
  {
   "cell_type": "code",
   "execution_count": 4,
   "metadata": {},
   "outputs": [
    {
     "name": "stdout",
     "output_type": "stream",
     "text": [
      "Collecting flask\n",
      "  Downloading flask-3.0.3-py3-none-any.whl.metadata (3.2 kB)\n",
      "Requirement already satisfied: Werkzeug>=3.0.0 in c:\\users\\qasim\\anaconda3\\envs\\islsign\\lib\\site-packages (from flask) (3.0.2)\n",
      "Collecting Jinja2>=3.1.2 (from flask)\n",
      "  Downloading jinja2-3.1.4-py3-none-any.whl.metadata (2.6 kB)\n",
      "Collecting itsdangerous>=2.1.2 (from flask)\n",
      "  Downloading itsdangerous-2.2.0-py3-none-any.whl.metadata (1.9 kB)\n",
      "Requirement already satisfied: click>=8.1.3 in c:\\users\\qasim\\anaconda3\\envs\\islsign\\lib\\site-packages (from flask) (8.1.7)\n",
      "Collecting blinker>=1.6.2 (from flask)\n",
      "  Downloading blinker-1.8.2-py3-none-any.whl.metadata (1.6 kB)\n",
      "Requirement already satisfied: colorama in c:\\users\\qasim\\anaconda3\\envs\\islsign\\lib\\site-packages (from click>=8.1.3->flask) (0.4.6)\n",
      "Requirement already satisfied: MarkupSafe>=2.0 in c:\\users\\qasim\\anaconda3\\envs\\islsign\\lib\\site-packages (from Jinja2>=3.1.2->flask) (2.1.5)\n",
      "Downloading flask-3.0.3-py3-none-any.whl (101 kB)\n",
      "   ---------------------------------------- 0.0/101.7 kB ? eta -:--:--\n",
      "   ---------------------------------------- 0.0/101.7 kB ? eta -:--:--\n",
      "   ---------------------------------------- 0.0/101.7 kB ? eta -:--:--\n",
      "   ---- ----------------------------------- 10.2/101.7 kB ? eta -:--:--\n",
      "   ---- ----------------------------------- 10.2/101.7 kB ? eta -:--:--\n",
      "   ----------- --------------------------- 30.7/101.7 kB 220.2 kB/s eta 0:00:01\n",
      "   --------------- ----------------------- 41.0/101.7 kB 196.9 kB/s eta 0:00:01\n",
      "   ----------------------- --------------- 61.4/101.7 kB 273.8 kB/s eta 0:00:01\n",
      "   ------------------------------- ------- 81.9/101.7 kB 306.3 kB/s eta 0:00:01\n",
      "   ----------------------------------- --- 92.2/101.7 kB 327.7 kB/s eta 0:00:01\n",
      "   -------------------------------------- 101.7/101.7 kB 325.6 kB/s eta 0:00:00\n",
      "Downloading blinker-1.8.2-py3-none-any.whl (9.5 kB)\n",
      "Downloading itsdangerous-2.2.0-py3-none-any.whl (16 kB)\n",
      "Downloading jinja2-3.1.4-py3-none-any.whl (133 kB)\n",
      "   ---------------------------------------- 0.0/133.3 kB ? eta -:--:--\n",
      "   ----------- --------------------------- 41.0/133.3 kB 653.6 kB/s eta 0:00:01\n",
      "   -------------------- ------------------ 71.7/133.3 kB 787.7 kB/s eta 0:00:01\n",
      "   -------------------------------- ----- 112.6/133.3 kB 819.2 kB/s eta 0:00:01\n",
      "   -------------------------------------- 133.3/133.3 kB 715.3 kB/s eta 0:00:00\n",
      "Installing collected packages: Jinja2, itsdangerous, blinker, flask\n",
      "Successfully installed Jinja2-3.1.4 blinker-1.8.2 flask-3.0.3 itsdangerous-2.2.0\n"
     ]
    }
   ],
   "source": [
    "!pip install flask\n"
   ]
  },
  {
   "cell_type": "code",
   "execution_count": 3,
   "metadata": {},
   "outputs": [
    {
     "name": "stderr",
     "output_type": "stream",
     "text": [
      "WARNING:absl:Compiled the loaded model, but the compiled metrics have yet to be built. `model.compile_metrics` will be empty until you train or evaluate the model.\n",
      "c:\\Users\\Qasim\\anaconda3\\envs\\islsign\\lib\\site-packages\\google\\protobuf\\symbol_database.py:55: UserWarning: SymbolDatabase.GetPrototype() is deprecated. Please use message_factory.GetMessageClass() instead. SymbolDatabase.GetPrototype() will be removed soon.\n",
      "  warnings.warn('SymbolDatabase.GetPrototype() is deprecated. Please '\n"
     ]
    },
    {
     "name": "stdout",
     "output_type": "stream",
     "text": [
      "\u001b[1m1/1\u001b[0m \u001b[32m━━━━━━━━━━━━━━━━━━━━\u001b[0m\u001b[37m\u001b[0m \u001b[1m1s\u001b[0m 560ms/step\n",
      "Audio file saved: Call.mp3\n",
      "\u001b[1m1/1\u001b[0m \u001b[32m━━━━━━━━━━━━━━━━━━━━\u001b[0m\u001b[37m\u001b[0m \u001b[1m0s\u001b[0m 54ms/step\n"
     ]
    },
    {
     "name": "stderr",
     "output_type": "stream",
     "text": [
      "c:\\Users\\Qasim\\anaconda3\\envs\\islsign\\lib\\site-packages\\google\\protobuf\\symbol_database.py:55: UserWarning: SymbolDatabase.GetPrototype() is deprecated. Please use message_factory.GetMessageClass() instead. SymbolDatabase.GetPrototype() will be removed soon.\n",
      "  warnings.warn('SymbolDatabase.GetPrototype() is deprecated. Please '\n"
     ]
    },
    {
     "name": "stdout",
     "output_type": "stream",
     "text": [
      "\u001b[1m1/1\u001b[0m \u001b[32m━━━━━━━━━━━━━━━━━━━━\u001b[0m\u001b[37m\u001b[0m \u001b[1m0s\u001b[0m 44ms/step\n",
      "\u001b[1m1/1\u001b[0m \u001b[32m━━━━━━━━━━━━━━━━━━━━\u001b[0m\u001b[37m\u001b[0m \u001b[1m0s\u001b[0m 52ms/step\n",
      "\u001b[1m1/1\u001b[0m \u001b[32m━━━━━━━━━━━━━━━━━━━━\u001b[0m\u001b[37m\u001b[0m \u001b[1m0s\u001b[0m 47ms/step\n",
      "\u001b[1m1/1\u001b[0m \u001b[32m━━━━━━━━━━━━━━━━━━━━\u001b[0m\u001b[37m\u001b[0m \u001b[1m0s\u001b[0m 49ms/step\n",
      "\u001b[1m1/1\u001b[0m \u001b[32m━━━━━━━━━━━━━━━━━━━━\u001b[0m\u001b[37m\u001b[0m \u001b[1m0s\u001b[0m 48ms/step\n",
      "\u001b[1m1/1\u001b[0m \u001b[32m━━━━━━━━━━━━━━━━━━━━\u001b[0m\u001b[37m\u001b[0m \u001b[1m0s\u001b[0m 51ms/step\n",
      "\u001b[1m1/1\u001b[0m \u001b[32m━━━━━━━━━━━━━━━━━━━━\u001b[0m\u001b[37m\u001b[0m \u001b[1m0s\u001b[0m 50ms/step\n",
      "\u001b[1m1/1\u001b[0m \u001b[32m━━━━━━━━━━━━━━━━━━━━\u001b[0m\u001b[37m\u001b[0m \u001b[1m0s\u001b[0m 47ms/step\n",
      "\u001b[1m1/1\u001b[0m \u001b[32m━━━━━━━━━━━━━━━━━━━━\u001b[0m\u001b[37m\u001b[0m \u001b[1m0s\u001b[0m 32ms/step\n",
      "\u001b[1m1/1\u001b[0m \u001b[32m━━━━━━━━━━━━━━━━━━━━\u001b[0m\u001b[37m\u001b[0m \u001b[1m0s\u001b[0m 42ms/step\n",
      "\u001b[1m1/1\u001b[0m \u001b[32m━━━━━━━━━━━━━━━━━━━━\u001b[0m\u001b[37m\u001b[0m \u001b[1m0s\u001b[0m 33ms/step\n",
      "\u001b[1m1/1\u001b[0m \u001b[32m━━━━━━━━━━━━━━━━━━━━\u001b[0m\u001b[37m\u001b[0m \u001b[1m0s\u001b[0m 35ms/step\n",
      "\u001b[1m1/1\u001b[0m \u001b[32m━━━━━━━━━━━━━━━━━━━━\u001b[0m\u001b[37m\u001b[0m \u001b[1m0s\u001b[0m 39ms/step\n",
      "\u001b[1m1/1\u001b[0m \u001b[32m━━━━━━━━━━━━━━━━━━━━\u001b[0m\u001b[37m\u001b[0m \u001b[1m0s\u001b[0m 41ms/step\n",
      "\u001b[1m1/1\u001b[0m \u001b[32m━━━━━━━━━━━━━━━━━━━━\u001b[0m\u001b[37m\u001b[0m \u001b[1m0s\u001b[0m 41ms/step\n",
      "\u001b[1m1/1\u001b[0m \u001b[32m━━━━━━━━━━━━━━━━━━━━\u001b[0m\u001b[37m\u001b[0m \u001b[1m0s\u001b[0m 33ms/step\n",
      "\u001b[1m1/1\u001b[0m \u001b[32m━━━━━━━━━━━━━━━━━━━━\u001b[0m\u001b[37m\u001b[0m \u001b[1m0s\u001b[0m 39ms/step\n",
      "\u001b[1m1/1\u001b[0m \u001b[32m━━━━━━━━━━━━━━━━━━━━\u001b[0m\u001b[37m\u001b[0m \u001b[1m0s\u001b[0m 42ms/step\n",
      "\u001b[1m1/1\u001b[0m \u001b[32m━━━━━━━━━━━━━━━━━━━━\u001b[0m\u001b[37m\u001b[0m \u001b[1m0s\u001b[0m 44ms/step\n",
      "\u001b[1m1/1\u001b[0m \u001b[32m━━━━━━━━━━━━━━━━━━━━\u001b[0m\u001b[37m\u001b[0m \u001b[1m0s\u001b[0m 36ms/step\n",
      "\u001b[1m1/1\u001b[0m \u001b[32m━━━━━━━━━━━━━━━━━━━━\u001b[0m\u001b[37m\u001b[0m \u001b[1m0s\u001b[0m 29ms/step\n",
      "\u001b[1m1/1\u001b[0m \u001b[32m━━━━━━━━━━━━━━━━━━━━\u001b[0m\u001b[37m\u001b[0m \u001b[1m0s\u001b[0m 38ms/step\n",
      "\u001b[1m1/1\u001b[0m \u001b[32m━━━━━━━━━━━━━━━━━━━━\u001b[0m\u001b[37m\u001b[0m \u001b[1m0s\u001b[0m 38ms/step\n",
      "\u001b[1m1/1\u001b[0m \u001b[32m━━━━━━━━━━━━━━━━━━━━\u001b[0m\u001b[37m\u001b[0m \u001b[1m0s\u001b[0m 30ms/step\n",
      "\u001b[1m1/1\u001b[0m \u001b[32m━━━━━━━━━━━━━━━━━━━━\u001b[0m\u001b[37m\u001b[0m \u001b[1m0s\u001b[0m 45ms/step\n",
      "\u001b[1m1/1\u001b[0m \u001b[32m━━━━━━━━━━━━━━━━━━━━\u001b[0m\u001b[37m\u001b[0m \u001b[1m0s\u001b[0m 39ms/step\n",
      "\u001b[1m1/1\u001b[0m \u001b[32m━━━━━━━━━━━━━━━━━━━━\u001b[0m\u001b[37m\u001b[0m \u001b[1m0s\u001b[0m 38ms/step\n",
      "\u001b[1m1/1\u001b[0m \u001b[32m━━━━━━━━━━━━━━━━━━━━\u001b[0m\u001b[37m\u001b[0m \u001b[1m0s\u001b[0m 43ms/step\n",
      "\u001b[1m1/1\u001b[0m \u001b[32m━━━━━━━━━━━━━━━━━━━━\u001b[0m\u001b[37m\u001b[0m \u001b[1m0s\u001b[0m 41ms/step\n",
      "\u001b[1m1/1\u001b[0m \u001b[32m━━━━━━━━━━━━━━━━━━━━\u001b[0m\u001b[37m\u001b[0m \u001b[1m0s\u001b[0m 46ms/step\n",
      "\u001b[1m1/1\u001b[0m \u001b[32m━━━━━━━━━━━━━━━━━━━━\u001b[0m\u001b[37m\u001b[0m \u001b[1m0s\u001b[0m 43ms/step\n",
      "\u001b[1m1/1\u001b[0m \u001b[32m━━━━━━━━━━━━━━━━━━━━\u001b[0m\u001b[37m\u001b[0m \u001b[1m0s\u001b[0m 43ms/step\n",
      "\u001b[1m1/1\u001b[0m \u001b[32m━━━━━━━━━━━━━━━━━━━━\u001b[0m\u001b[37m\u001b[0m \u001b[1m0s\u001b[0m 36ms/step\n",
      "\u001b[1m1/1\u001b[0m \u001b[32m━━━━━━━━━━━━━━━━━━━━\u001b[0m\u001b[37m\u001b[0m \u001b[1m0s\u001b[0m 30ms/step\n",
      "\u001b[1m1/1\u001b[0m \u001b[32m━━━━━━━━━━━━━━━━━━━━\u001b[0m\u001b[37m\u001b[0m \u001b[1m0s\u001b[0m 32ms/step\n",
      "\u001b[1m1/1\u001b[0m \u001b[32m━━━━━━━━━━━━━━━━━━━━\u001b[0m\u001b[37m\u001b[0m \u001b[1m0s\u001b[0m 38ms/step\n",
      "\u001b[1m1/1\u001b[0m \u001b[32m━━━━━━━━━━━━━━━━━━━━\u001b[0m\u001b[37m\u001b[0m \u001b[1m0s\u001b[0m 43ms/step\n",
      "Audio file saved: Pain.mp3\n",
      "\u001b[1m1/1\u001b[0m \u001b[32m━━━━━━━━━━━━━━━━━━━━\u001b[0m\u001b[37m\u001b[0m \u001b[1m0s\u001b[0m 69ms/step\n"
     ]
    },
    {
     "name": "stderr",
     "output_type": "stream",
     "text": [
      "c:\\Users\\Qasim\\anaconda3\\envs\\islsign\\lib\\site-packages\\google\\protobuf\\symbol_database.py:55: UserWarning: SymbolDatabase.GetPrototype() is deprecated. Please use message_factory.GetMessageClass() instead. SymbolDatabase.GetPrototype() will be removed soon.\n",
      "  warnings.warn('SymbolDatabase.GetPrototype() is deprecated. Please '\n"
     ]
    },
    {
     "name": "stdout",
     "output_type": "stream",
     "text": [
      "\u001b[1m1/1\u001b[0m \u001b[32m━━━━━━━━━━━━━━━━━━━━\u001b[0m\u001b[37m\u001b[0m \u001b[1m0s\u001b[0m 53ms/step\n",
      "\u001b[1m1/1\u001b[0m \u001b[32m━━━━━━━━━━━━━━━━━━━━\u001b[0m\u001b[37m\u001b[0m \u001b[1m0s\u001b[0m 43ms/step\n",
      "\u001b[1m1/1\u001b[0m \u001b[32m━━━━━━━━━━━━━━━━━━━━\u001b[0m\u001b[37m\u001b[0m \u001b[1m0s\u001b[0m 40ms/step\n",
      "Audio file saved: Hot.mp3\n",
      "\u001b[1m1/1\u001b[0m \u001b[32m━━━━━━━━━━━━━━━━━━━━\u001b[0m\u001b[37m\u001b[0m \u001b[1m0s\u001b[0m 38ms/step\n"
     ]
    },
    {
     "name": "stderr",
     "output_type": "stream",
     "text": [
      "c:\\Users\\Qasim\\anaconda3\\envs\\islsign\\lib\\site-packages\\google\\protobuf\\symbol_database.py:55: UserWarning: SymbolDatabase.GetPrototype() is deprecated. Please use message_factory.GetMessageClass() instead. SymbolDatabase.GetPrototype() will be removed soon.\n",
      "  warnings.warn('SymbolDatabase.GetPrototype() is deprecated. Please '\n"
     ]
    },
    {
     "name": "stdout",
     "output_type": "stream",
     "text": [
      "\u001b[1m1/1\u001b[0m \u001b[32m━━━━━━━━━━━━━━━━━━━━\u001b[0m\u001b[37m\u001b[0m \u001b[1m0s\u001b[0m 47ms/step\n",
      "\u001b[1m1/1\u001b[0m \u001b[32m━━━━━━━━━━━━━━━━━━━━\u001b[0m\u001b[37m\u001b[0m \u001b[1m0s\u001b[0m 64ms/step\n",
      "\u001b[1m1/1\u001b[0m \u001b[32m━━━━━━━━━━━━━━━━━━━━\u001b[0m\u001b[37m\u001b[0m \u001b[1m0s\u001b[0m 64ms/step\n",
      "\u001b[1m1/1\u001b[0m \u001b[32m━━━━━━━━━━━━━━━━━━━━\u001b[0m\u001b[37m\u001b[0m \u001b[1m0s\u001b[0m 55ms/step\n",
      "\u001b[1m1/1\u001b[0m \u001b[32m━━━━━━━━━━━━━━━━━━━━\u001b[0m\u001b[37m\u001b[0m \u001b[1m0s\u001b[0m 33ms/step\n",
      "\u001b[1m1/1\u001b[0m \u001b[32m━━━━━━━━━━━━━━━━━━━━\u001b[0m\u001b[37m\u001b[0m \u001b[1m0s\u001b[0m 39ms/step\n",
      "\u001b[1m1/1\u001b[0m \u001b[32m━━━━━━━━━━━━━━━━━━━━\u001b[0m\u001b[37m\u001b[0m \u001b[1m0s\u001b[0m 34ms/step\n",
      "\u001b[1m1/1\u001b[0m \u001b[32m━━━━━━━━━━━━━━━━━━━━\u001b[0m\u001b[37m\u001b[0m \u001b[1m0s\u001b[0m 33ms/step\n",
      "\u001b[1m1/1\u001b[0m \u001b[32m━━━━━━━━━━━━━━━━━━━━\u001b[0m\u001b[37m\u001b[0m \u001b[1m0s\u001b[0m 39ms/step\n",
      "\u001b[1m1/1\u001b[0m \u001b[32m━━━━━━━━━━━━━━━━━━━━\u001b[0m\u001b[37m\u001b[0m \u001b[1m0s\u001b[0m 44ms/step\n",
      "\u001b[1m1/1\u001b[0m \u001b[32m━━━━━━━━━━━━━━━━━━━━\u001b[0m\u001b[37m\u001b[0m \u001b[1m0s\u001b[0m 40ms/step\n",
      "\u001b[1m1/1\u001b[0m \u001b[32m━━━━━━━━━━━━━━━━━━━━\u001b[0m\u001b[37m\u001b[0m \u001b[1m0s\u001b[0m 30ms/step\n",
      "\u001b[1m1/1\u001b[0m \u001b[32m━━━━━━━━━━━━━━━━━━━━\u001b[0m\u001b[37m\u001b[0m \u001b[1m0s\u001b[0m 45ms/step\n",
      "\u001b[1m1/1\u001b[0m \u001b[32m━━━━━━━━━━━━━━━━━━━━\u001b[0m\u001b[37m\u001b[0m \u001b[1m0s\u001b[0m 41ms/step\n",
      "\u001b[1m1/1\u001b[0m \u001b[32m━━━━━━━━━━━━━━━━━━━━\u001b[0m\u001b[37m\u001b[0m \u001b[1m0s\u001b[0m 33ms/step\n",
      "\u001b[1m1/1\u001b[0m \u001b[32m━━━━━━━━━━━━━━━━━━━━\u001b[0m\u001b[37m\u001b[0m \u001b[1m0s\u001b[0m 41ms/step\n",
      "\u001b[1m1/1\u001b[0m \u001b[32m━━━━━━━━━━━━━━━━━━━━\u001b[0m\u001b[37m\u001b[0m \u001b[1m0s\u001b[0m 45ms/step\n",
      "\u001b[1m1/1\u001b[0m \u001b[32m━━━━━━━━━━━━━━━━━━━━\u001b[0m\u001b[37m\u001b[0m \u001b[1m0s\u001b[0m 44ms/step\n",
      "\u001b[1m1/1\u001b[0m \u001b[32m━━━━━━━━━━━━━━━━━━━━\u001b[0m\u001b[37m\u001b[0m \u001b[1m0s\u001b[0m 37ms/step\n",
      "\u001b[1m1/1\u001b[0m \u001b[32m━━━━━━━━━━━━━━━━━━━━\u001b[0m\u001b[37m\u001b[0m \u001b[1m0s\u001b[0m 32ms/step\n",
      "\u001b[1m1/1\u001b[0m \u001b[32m━━━━━━━━━━━━━━━━━━━━\u001b[0m\u001b[37m\u001b[0m \u001b[1m0s\u001b[0m 42ms/step\n",
      "\u001b[1m1/1\u001b[0m \u001b[32m━━━━━━━━━━━━━━━━━━━━\u001b[0m\u001b[37m\u001b[0m \u001b[1m0s\u001b[0m 41ms/step\n",
      "\u001b[1m1/1\u001b[0m \u001b[32m━━━━━━━━━━━━━━━━━━━━\u001b[0m\u001b[37m\u001b[0m \u001b[1m0s\u001b[0m 29ms/step\n",
      "\u001b[1m1/1\u001b[0m \u001b[32m━━━━━━━━━━━━━━━━━━━━\u001b[0m\u001b[37m\u001b[0m \u001b[1m0s\u001b[0m 43ms/step\n",
      "\u001b[1m1/1\u001b[0m \u001b[32m━━━━━━━━━━━━━━━━━━━━\u001b[0m\u001b[37m\u001b[0m \u001b[1m0s\u001b[0m 48ms/step\n",
      "\u001b[1m1/1\u001b[0m \u001b[32m━━━━━━━━━━━━━━━━━━━━\u001b[0m\u001b[37m\u001b[0m \u001b[1m0s\u001b[0m 47ms/step\n",
      "\u001b[1m1/1\u001b[0m \u001b[32m━━━━━━━━━━━━━━━━━━━━\u001b[0m\u001b[37m\u001b[0m \u001b[1m0s\u001b[0m 37ms/step\n",
      "\u001b[1m1/1\u001b[0m \u001b[32m━━━━━━━━━━━━━━━━━━━━\u001b[0m\u001b[37m\u001b[0m \u001b[1m0s\u001b[0m 44ms/step\n",
      "\u001b[1m1/1\u001b[0m \u001b[32m━━━━━━━━━━━━━━━━━━━━\u001b[0m\u001b[37m\u001b[0m \u001b[1m0s\u001b[0m 44ms/step\n",
      "\u001b[1m1/1\u001b[0m \u001b[32m━━━━━━━━━━━━━━━━━━━━\u001b[0m\u001b[37m\u001b[0m \u001b[1m0s\u001b[0m 47ms/step\n",
      "Audio file saved: Lose.mp3\n",
      "\u001b[1m1/1\u001b[0m \u001b[32m━━━━━━━━━━━━━━━━━━━━\u001b[0m\u001b[37m\u001b[0m \u001b[1m0s\u001b[0m 54ms/step\n"
     ]
    },
    {
     "name": "stderr",
     "output_type": "stream",
     "text": [
      "c:\\Users\\Qasim\\anaconda3\\envs\\islsign\\lib\\site-packages\\google\\protobuf\\symbol_database.py:55: UserWarning: SymbolDatabase.GetPrototype() is deprecated. Please use message_factory.GetMessageClass() instead. SymbolDatabase.GetPrototype() will be removed soon.\n",
      "  warnings.warn('SymbolDatabase.GetPrototype() is deprecated. Please '\n"
     ]
    },
    {
     "name": "stdout",
     "output_type": "stream",
     "text": [
      "\u001b[1m1/1\u001b[0m \u001b[32m━━━━━━━━━━━━━━━━━━━━\u001b[0m\u001b[37m\u001b[0m \u001b[1m0s\u001b[0m 51ms/step\n",
      "\u001b[1m1/1\u001b[0m \u001b[32m━━━━━━━━━━━━━━━━━━━━\u001b[0m\u001b[37m\u001b[0m \u001b[1m0s\u001b[0m 62ms/step\n",
      "\u001b[1m1/1\u001b[0m \u001b[32m━━━━━━━━━━━━━━━━━━━━\u001b[0m\u001b[37m\u001b[0m \u001b[1m0s\u001b[0m 48ms/step\n",
      "\u001b[1m1/1\u001b[0m \u001b[32m━━━━━━━━━━━━━━━━━━━━\u001b[0m\u001b[37m\u001b[0m \u001b[1m0s\u001b[0m 45ms/step\n",
      "\u001b[1m1/1\u001b[0m \u001b[32m━━━━━━━━━━━━━━━━━━━━\u001b[0m\u001b[37m\u001b[0m \u001b[1m0s\u001b[0m 48ms/step\n",
      "\u001b[1m1/1\u001b[0m \u001b[32m━━━━━━━━━━━━━━━━━━━━\u001b[0m\u001b[37m\u001b[0m \u001b[1m0s\u001b[0m 47ms/step\n",
      "\u001b[1m1/1\u001b[0m \u001b[32m━━━━━━━━━━━━━━━━━━━━\u001b[0m\u001b[37m\u001b[0m \u001b[1m0s\u001b[0m 50ms/step\n",
      "\u001b[1m1/1\u001b[0m \u001b[32m━━━━━━━━━━━━━━━━━━━━\u001b[0m\u001b[37m\u001b[0m \u001b[1m0s\u001b[0m 45ms/step\n",
      "\u001b[1m1/1\u001b[0m \u001b[32m━━━━━━━━━━━━━━━━━━━━\u001b[0m\u001b[37m\u001b[0m \u001b[1m0s\u001b[0m 47ms/step\n",
      "\u001b[1m1/1\u001b[0m \u001b[32m━━━━━━━━━━━━━━━━━━━━\u001b[0m\u001b[37m\u001b[0m \u001b[1m0s\u001b[0m 39ms/step\n",
      "\u001b[1m1/1\u001b[0m \u001b[32m━━━━━━━━━━━━━━━━━━━━\u001b[0m\u001b[37m\u001b[0m \u001b[1m0s\u001b[0m 46ms/step\n",
      "\u001b[1m1/1\u001b[0m \u001b[32m━━━━━━━━━━━━━━━━━━━━\u001b[0m\u001b[37m\u001b[0m \u001b[1m0s\u001b[0m 47ms/step\n",
      "\u001b[1m1/1\u001b[0m \u001b[32m━━━━━━━━━━━━━━━━━━━━\u001b[0m\u001b[37m\u001b[0m \u001b[1m0s\u001b[0m 49ms/step\n",
      "\u001b[1m1/1\u001b[0m \u001b[32m━━━━━━━━━━━━━━━━━━━━\u001b[0m\u001b[37m\u001b[0m \u001b[1m0s\u001b[0m 46ms/step\n",
      "\u001b[1m1/1\u001b[0m \u001b[32m━━━━━━━━━━━━━━━━━━━━\u001b[0m\u001b[37m\u001b[0m \u001b[1m0s\u001b[0m 43ms/step\n",
      "\u001b[1m1/1\u001b[0m \u001b[32m━━━━━━━━━━━━━━━━━━━━\u001b[0m\u001b[37m\u001b[0m \u001b[1m0s\u001b[0m 49ms/step\n",
      "\u001b[1m1/1\u001b[0m \u001b[32m━━━━━━━━━━━━━━━━━━━━\u001b[0m\u001b[37m\u001b[0m \u001b[1m0s\u001b[0m 34ms/step\n",
      "\u001b[1m1/1\u001b[0m \u001b[32m━━━━━━━━━━━━━━━━━━━━\u001b[0m\u001b[37m\u001b[0m \u001b[1m0s\u001b[0m 33ms/step\n",
      "\u001b[1m1/1\u001b[0m \u001b[32m━━━━━━━━━━━━━━━━━━━━\u001b[0m\u001b[37m\u001b[0m \u001b[1m0s\u001b[0m 52ms/step\n"
     ]
    }
   ],
   "source": [
    "    import cv2\n",
    "    import mediapipe as mp\n",
    "    import numpy as np\n",
    "    from tensorflow.keras.models import load_model\n",
    "    from gtts import gTTS\n",
    "    import os\n",
    "\n",
    "    # Load your pre-trained LSTM model\n",
    "    model = load_model('new_action.h5')\n",
    "    model.compile(optimizer='Adam', loss='categorical_crossentropy', metrics=['categorical_accuracy'])\n",
    "\n",
    "    # Set up MediaPipe holistic model for hand landmarks\n",
    "    mp_holistic = mp.solutions.holistic\n",
    "    holistic = mp_holistic.Holistic(min_detection_confidence=0.5, min_tracking_confidence=0.5)\n",
    "    mp_drawing = mp.solutions.drawing_utils # Drawing utilities\n",
    "\n",
    "    # Function to preprocess hand landmarks\n",
    "    def extract_keypoints(results):\n",
    "        lh = np.array([[res.x, res.y, res.z] for res in results.left_hand_landmarks.landmark]).flatten() if results.left_hand_landmarks else np.zeros(21*3)\n",
    "        rh = np.array([[res.x, res.y, res.z] for res in results.right_hand_landmarks.landmark]).flatten() if results.right_hand_landmarks else np.zeros(21*3)\n",
    "        return np.concatenate([lh, rh])\n",
    "\n",
    "    # Function to generate audio file\n",
    "    def generate_audio(action):\n",
    "        tts = gTTS(text=action, lang='en')\n",
    "        filename = f\"{action}.mp3\"\n",
    "        tts.save(filename)\n",
    "        print(f\"Audio file saved: {filename}\")\n",
    "\n",
    "    # Initialize variables for prediction logic\n",
    "    sequence = []\n",
    "    predictions = []\n",
    "\n",
    "    # Threshold for prediction confidence\n",
    "    threshold = 0.5\n",
    "\n",
    "    # Initialize variables for visualization\n",
    "    actions = ['Accident',  'Call',  'Doctor',  'Help', 'Hot', 'Lose', 'Pain', 'Thief']\n",
    "    sentence = []\n",
    "\n",
    "    # Function to draw hand landmarks with styling\n",
    "    def draw_styled_landmarks(image, results):\n",
    "        # Draw connections between landmarks\n",
    "        mp_drawing.draw_landmarks(image, results.left_hand_landmarks, mp_holistic.HAND_CONNECTIONS,\n",
    "                                landmark_drawing_spec=mp_drawing.DrawingSpec(color=(255, 255, 255),\n",
    "                                                                                thickness=2, circle_radius=4),\n",
    "                                connection_drawing_spec=mp_drawing.DrawingSpec(color=(255, 255, 255), thickness=2))\n",
    "        mp_drawing.draw_landmarks(image, results.right_hand_landmarks, mp_holistic.HAND_CONNECTIONS,\n",
    "                                landmark_drawing_spec=mp_drawing.DrawingSpec(color=(255, 255, 255),\n",
    "                                                                                thickness=2, circle_radius=4),\n",
    "                                connection_drawing_spec=mp_drawing.DrawingSpec(color=(255, 255, 255), thickness=2))\n",
    "\n",
    "        # Draw landmarks with different colors for left and right hands\n",
    "        for hand_landmarks in [results.left_hand_landmarks, results.right_hand_landmarks]:\n",
    "            if hand_landmarks:\n",
    "                for idx, landmark in enumerate(hand_landmarks.landmark):\n",
    "                    # Define different colors for left and right hands\n",
    "                    if idx % 3 == 0:\n",
    "                        color = (255, 0, 0)  # Red for x-coordinate\n",
    "                    elif idx % 3 == 1:\n",
    "                        color = (0, 255, 0)  # Green for y-coordinate\n",
    "                    else:\n",
    "                        color = (0, 0, 255)  # Blue for z-coordinate\n",
    "                    # Draw landmark\n",
    "                    cx, cy = int(landmark.x * image.shape[1]), int(landmark.y * image.shape[0])\n",
    "                    cv2.circle(image, (cx, cy), 5, color, -1)\n",
    "        return image\n",
    "\n",
    "    # Function to visualize action probabilities\n",
    "    def prob_viz(probabilities, actions, image):\n",
    "        # Initialize variables for visualization\n",
    "        bar_height = 60\n",
    "        spacing = 3\n",
    "        bar_margin = (20, 50)\n",
    "        line_color = (0, 250, 0)\n",
    "        text_color = (0, 0, 0)\n",
    "        \n",
    "        # Sort actions based on probabilities\n",
    "        sorted_indices = np.argsort(probabilities)[::-1]\n",
    "        sorted_actions = [actions[i] for i in sorted_indices]\n",
    "        sorted_probabilities = [probabilities[i] for i in sorted_indices]\n",
    "        \n",
    "        # Determine the maximum probability\n",
    "        max_prob = max(sorted_probabilities)\n",
    "\n",
    "        # Maximum length of the line based on the width of the image frame\n",
    "        max_line_length = image.shape[1] - 2 * bar_margin[1]\n",
    "        \n",
    "        # Draw lines for each action\n",
    "        for i, (prob, action) in enumerate(zip(sorted_probabilities, sorted_actions)):\n",
    "            # Calculate the length of the line based on the probability\n",
    "            line_length = int(prob / max_prob * max_line_length)\n",
    "            line_length = min(line_length, max_line_length)  # Limit the line length\n",
    "\n",
    "            # Calculate the position of the line\n",
    "            start_point = (bar_margin[0], i * (bar_height + spacing) + bar_margin[1] + bar_height // 2)\n",
    "            end_point = (start_point[0] + line_length, start_point[1])\n",
    "            \n",
    "            # Draw the line\n",
    "            cv2.line(image, start_point, end_point, line_color, 8)\n",
    "            \n",
    "            # Draw the action label\n",
    "            cv2.putText(image, action, (end_point[0] + spacing, end_point[1] + 5), \n",
    "                        cv2.FONT_HERSHEY_SIMPLEX, 0.5, text_color, 2)\n",
    "            \n",
    "            # Draw the probability value\n",
    "            cv2.putText(image, f\"{prob:.2f}\", (end_point[0] + spacing, end_point[1] - 15), \n",
    "                        cv2.FONT_HERSHEY_SIMPLEX, 0.5, text_color, 2)\n",
    "        \n",
    "        return image\n",
    "\n",
    "\n",
    "    # Start capturing video from webcam\n",
    "    cap = cv2.VideoCapture(0)\n",
    "\n",
    "    while cap.isOpened():\n",
    "        ret, frame = cap.read()\n",
    "        if not ret:\n",
    "            break\n",
    "        \n",
    "        # Convert the frame to RGB\n",
    "        frame_rgb = cv2.cvtColor(frame, cv2.COLOR_BGR2RGB)\n",
    "        \n",
    "        # Make detections with MediaPipe holistic model\n",
    "        results = holistic.process(frame_rgb)\n",
    "        \n",
    "        # Draw landmarks with styling\n",
    "        image_with_landmarks = draw_styled_landmarks(frame.copy(), results)\n",
    "\n",
    "        # Define image_with_probs here to ensure it's accessible in the entire loop\n",
    "        image_with_probs = image_with_landmarks.copy()\n",
    "        \n",
    "        # Prediction logic\n",
    "        keypoints = extract_keypoints(results)\n",
    "        sequence.append(keypoints)\n",
    "        sequence = sequence[-30:]\n",
    "        \n",
    "        if len(sequence) == 30:\n",
    "            # Perform inference\n",
    "            res = model.predict(np.expand_dims(sequence, axis=0))[0]\n",
    "            predictions.append(np.argmax(res))\n",
    "            \n",
    "            # Visualization logic\n",
    "            if np.unique(predictions[-10:])[0] == np.argmax(res):\n",
    "                if res[np.argmax(res)] > threshold:\n",
    "                    if len(sentence) > 0:\n",
    "                        if actions[np.argmax(res)] != sentence[-1]:\n",
    "                            sentence.append(actions[np.argmax(res)])\n",
    "                            generate_audio(actions[np.argmax(res)])      ####\n",
    "                    else:\n",
    "                        sentence.append(actions[np.argmax(res)])\n",
    "                        generate_audio(actions[np.argmax(res)])         #####\n",
    "\n",
    "            if len(sentence) > 5:\n",
    "                sentence = sentence[-5:]\n",
    "\n",
    "            # Display predicted action probabilities\n",
    "            image_with_probs = prob_viz(res, actions, image_with_landmarks.copy())\n",
    "            \n",
    "        # Display the sentence\n",
    "        cv2.rectangle(image_with_probs, (0,0), (640, 40), (245, 117, 16), -1)\n",
    "        cv2.putText(image_with_probs, ' '.join(sentence), (3,30), \n",
    "                    cv2.FONT_HERSHEY_SIMPLEX, 0.5, (255, 255, 255), 1, cv2.LINE_AA)\n",
    "\n",
    "        # Draw a line to indicate the prediction\n",
    "        prediction_text = ' '.join(sentence)\n",
    "        cv2.line(image_with_probs, (10, 40), (10 + len(prediction_text) * 12, 40), (255, 255, 255), 2)\n",
    "        \n",
    "        # Show the frame with hand landmarks and predictions\n",
    "        cv2.imshow('Indian Emergency Hand Sign Detection', image_with_probs)\n",
    "        \n",
    "        # Break the loop if 'q' is pressed\n",
    "        if cv2.waitKey(1) & 0xFF == ord('q'):\n",
    "            break\n",
    "\n",
    "    # Release the video capture object and close all windows\n",
    "    cap.release()\n",
    "    cv2.destroyAllWindows()\n"
   ]
  },
  {
   "cell_type": "code",
   "execution_count": 4,
   "metadata": {},
   "outputs": [],
   "source": [
    "cap.release()\n",
    "cv2.destroyAllWindows()"
   ]
  }
 ],
 "metadata": {
  "kernelspec": {
   "display_name": "islsign",
   "language": "python",
   "name": "python3"
  },
  "language_info": {
   "codemirror_mode": {
    "name": "ipython",
    "version": 3
   },
   "file_extension": ".py",
   "mimetype": "text/x-python",
   "name": "python",
   "nbconvert_exporter": "python",
   "pygments_lexer": "ipython3",
   "version": "3.10.14"
  }
 },
 "nbformat": 4,
 "nbformat_minor": 2
}
